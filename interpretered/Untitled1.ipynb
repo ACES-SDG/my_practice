{
 "cells": [
  {
   "cell_type": "code",
   "execution_count": 1,
   "id": "79285c09",
   "metadata": {},
   "outputs": [],
   "source": [
    "import pandas as pd\n",
    "import seaborn as sns\n",
    "import matplotlib.pyplot as plt"
   ]
  },
  {
   "cell_type": "code",
   "execution_count": 2,
   "id": "13c51e2f",
   "metadata": {},
   "outputs": [],
   "source": [
    "df = pd.read_excel(\"C:/Users/acesi/OneDrive/Desktop/Excel_files/Sample - Superstore2.xlsx\")\n"
   ]
  },
  {
   "cell_type": "markdown",
   "id": "621462d8",
   "metadata": {},
   "source": [
    "## Table Calculation\n"
   ]
  },
  {
   "cell_type": "code",
   "execution_count": 34,
   "id": "35706270",
   "metadata": {},
   "outputs": [
    {
     "data": {
      "text/plain": [
       "(9994, 21)"
      ]
     },
     "execution_count": 34,
     "metadata": {},
     "output_type": "execute_result"
    }
   ],
   "source": [
    "df.shape"
   ]
  },
  {
   "cell_type": "code",
   "execution_count": 3,
   "id": "734f07de",
   "metadata": {},
   "outputs": [],
   "source": [
    "df['Order Date']= pd.to_datetime(df['Order Date'])"
   ]
  },
  {
   "cell_type": "code",
   "execution_count": 9,
   "id": "0f2bae0b",
   "metadata": {},
   "outputs": [
    {
     "data": {
      "text/plain": [
       "Row ID                     int64\n",
       "Order ID                  object\n",
       "Order Date        datetime64[ns]\n",
       "Ship Date         datetime64[ns]\n",
       "Ship Mode                 object\n",
       "Customer ID               object\n",
       "Customer Name             object\n",
       "Segment                   object\n",
       "Country/Region            object\n",
       "City                      object\n",
       "State                     object\n",
       "Postal Code              float64\n",
       "Region                    object\n",
       "Product ID                object\n",
       "Category                  object\n",
       "Sub-Category              object\n",
       "Product Name              object\n",
       "Sales                    float64\n",
       "Quantity                   int64\n",
       "Discount                 float64\n",
       "Profit                   float64\n",
       "dtype: object"
      ]
     },
     "execution_count": 9,
     "metadata": {},
     "output_type": "execute_result"
    }
   ],
   "source": [
    "df.dtypes"
   ]
  },
  {
   "cell_type": "code",
   "execution_count": 35,
   "id": "a5adf74c",
   "metadata": {},
   "outputs": [],
   "source": [
    "sales_by_year = df.groupby([df['Category'],'Sub-Category']).aggregate({'Sales':sum})"
   ]
  },
  {
   "cell_type": "code",
   "execution_count": 36,
   "id": "c5358344",
   "metadata": {},
   "outputs": [
    {
     "data": {
      "text/html": [
       "<div>\n",
       "<style scoped>\n",
       "    .dataframe tbody tr th:only-of-type {\n",
       "        vertical-align: middle;\n",
       "    }\n",
       "\n",
       "    .dataframe tbody tr th {\n",
       "        vertical-align: top;\n",
       "    }\n",
       "\n",
       "    .dataframe thead th {\n",
       "        text-align: right;\n",
       "    }\n",
       "</style>\n",
       "<table border=\"1\" class=\"dataframe\">\n",
       "  <thead>\n",
       "    <tr style=\"text-align: right;\">\n",
       "      <th></th>\n",
       "      <th></th>\n",
       "      <th>Sales</th>\n",
       "    </tr>\n",
       "    <tr>\n",
       "      <th>Category</th>\n",
       "      <th>Sub-Category</th>\n",
       "      <th></th>\n",
       "    </tr>\n",
       "  </thead>\n",
       "  <tbody>\n",
       "    <tr>\n",
       "      <th rowspan=\"4\" valign=\"top\">Furniture</th>\n",
       "      <th>Bookcases</th>\n",
       "      <td>114879.9963</td>\n",
       "    </tr>\n",
       "    <tr>\n",
       "      <th>Chairs</th>\n",
       "      <td>328449.1030</td>\n",
       "    </tr>\n",
       "    <tr>\n",
       "      <th>Furnishings</th>\n",
       "      <td>91705.1640</td>\n",
       "    </tr>\n",
       "    <tr>\n",
       "      <th>Tables</th>\n",
       "      <td>206965.5320</td>\n",
       "    </tr>\n",
       "    <tr>\n",
       "      <th rowspan=\"9\" valign=\"top\">Office Supplies</th>\n",
       "      <th>Appliances</th>\n",
       "      <td>107532.1610</td>\n",
       "    </tr>\n",
       "    <tr>\n",
       "      <th>Art</th>\n",
       "      <td>27118.7920</td>\n",
       "    </tr>\n",
       "    <tr>\n",
       "      <th>Binders</th>\n",
       "      <td>203412.7330</td>\n",
       "    </tr>\n",
       "    <tr>\n",
       "      <th>Envelopes</th>\n",
       "      <td>16476.4020</td>\n",
       "    </tr>\n",
       "    <tr>\n",
       "      <th>Fasteners</th>\n",
       "      <td>3024.2800</td>\n",
       "    </tr>\n",
       "    <tr>\n",
       "      <th>Labels</th>\n",
       "      <td>12486.3120</td>\n",
       "    </tr>\n",
       "    <tr>\n",
       "      <th>Paper</th>\n",
       "      <td>78479.2060</td>\n",
       "    </tr>\n",
       "    <tr>\n",
       "      <th>Storage</th>\n",
       "      <td>223843.6080</td>\n",
       "    </tr>\n",
       "    <tr>\n",
       "      <th>Supplies</th>\n",
       "      <td>46673.5380</td>\n",
       "    </tr>\n",
       "    <tr>\n",
       "      <th rowspan=\"4\" valign=\"top\">Technology</th>\n",
       "      <th>Accessories</th>\n",
       "      <td>167380.3180</td>\n",
       "    </tr>\n",
       "    <tr>\n",
       "      <th>Copiers</th>\n",
       "      <td>149528.0300</td>\n",
       "    </tr>\n",
       "    <tr>\n",
       "      <th>Machines</th>\n",
       "      <td>189238.6310</td>\n",
       "    </tr>\n",
       "    <tr>\n",
       "      <th>Phones</th>\n",
       "      <td>330007.0540</td>\n",
       "    </tr>\n",
       "  </tbody>\n",
       "</table>\n",
       "</div>"
      ],
      "text/plain": [
       "                                    Sales\n",
       "Category        Sub-Category             \n",
       "Furniture       Bookcases     114879.9963\n",
       "                Chairs        328449.1030\n",
       "                Furnishings    91705.1640\n",
       "                Tables        206965.5320\n",
       "Office Supplies Appliances    107532.1610\n",
       "                Art            27118.7920\n",
       "                Binders       203412.7330\n",
       "                Envelopes      16476.4020\n",
       "                Fasteners       3024.2800\n",
       "                Labels         12486.3120\n",
       "                Paper          78479.2060\n",
       "                Storage       223843.6080\n",
       "                Supplies       46673.5380\n",
       "Technology      Accessories   167380.3180\n",
       "                Copiers       149528.0300\n",
       "                Machines      189238.6310\n",
       "                Phones        330007.0540"
      ]
     },
     "execution_count": 36,
     "metadata": {},
     "output_type": "execute_result"
    }
   ],
   "source": [
    "sales_by_year"
   ]
  },
  {
   "cell_type": "code",
   "execution_count": 12,
   "id": "5aa2a581",
   "metadata": {},
   "outputs": [],
   "source": [
    "sales = sales_by_year.unstack(level=-2)"
   ]
  },
  {
   "cell_type": "code",
   "execution_count": 11,
   "id": "5bb8aa80",
   "metadata": {},
   "outputs": [],
   "source": [
    "# sales.size()"
   ]
  },
  {
   "cell_type": "code",
   "execution_count": 14,
   "id": "ee1910d7",
   "metadata": {},
   "outputs": [],
   "source": [
    "import matplotlib.pyplot as plt\n"
   ]
  },
  {
   "cell_type": "code",
   "execution_count": 1,
   "id": "e64dcac6",
   "metadata": {},
   "outputs": [
    {
     "ename": "NameError",
     "evalue": "name 'df' is not defined",
     "output_type": "error",
     "traceback": [
      "\u001b[1;31m---------------------------------------------------------------------------\u001b[0m",
      "\u001b[1;31mNameError\u001b[0m                                 Traceback (most recent call last)",
      "\u001b[1;32mc:\\Users\\acesi\\OneDrive\\Desktop\\Aces\\my_practice\\interpretered\\Untitled1.ipynb Cell 12\u001b[0m in \u001b[0;36m<cell line: 1>\u001b[1;34m()\u001b[0m\n\u001b[1;32m----> <a href='vscode-notebook-cell:/c%3A/Users/acesi/OneDrive/Desktop/Aces/my_practice/interpretered/Untitled1.ipynb#X14sZmlsZQ%3D%3D?line=0'>1</a>\u001b[0m df\u001b[39m.\u001b[39mgroupby([\u001b[39m'\u001b[39m\u001b[39mCategory\u001b[39m\u001b[39m'\u001b[39m,\u001b[39m'\u001b[39m\u001b[39mSub-Category\u001b[39m\u001b[39m'\u001b[39m])\u001b[39m.\u001b[39maggregate({\u001b[39m'\u001b[39m\u001b[39mSales\u001b[39m\u001b[39m'\u001b[39m:\u001b[39msum\u001b[39m})\u001b[39m.\u001b[39munstack(\u001b[39m-\u001b[39m\u001b[39m2\u001b[39m)\u001b[39m.\u001b[39mplot(kind \u001b[39m=\u001b[39m \u001b[39m'\u001b[39m\u001b[39mbar\u001b[39m\u001b[39m'\u001b[39m,stacked\u001b[39m=\u001b[39m \u001b[39mTrue\u001b[39;00m,figsize \u001b[39m=\u001b[39m (\u001b[39m15\u001b[39m,\u001b[39m7\u001b[39m) )\n",
      "\u001b[1;31mNameError\u001b[0m: name 'df' is not defined"
     ]
    }
   ],
   "source": [
    "df.groupby(['Category','Sub-Category']).aggregate({'Sales':sum}).unstack(-2).plot(kind = 'bar',stacked= True,figsize = (15,7) )\n"
   ]
  },
  {
   "cell_type": "code",
   "execution_count": 19,
   "id": "a8822124",
   "metadata": {},
   "outputs": [
    {
     "data": {
      "text/plain": [
       "[<matplotlib.collections.PolyCollection at 0x1e6c91affd0>]"
      ]
     },
     "execution_count": 19,
     "metadata": {},
     "output_type": "execute_result"
    },
    {
     "data": {
      "image/png": "[encoded data removed]",
      "text/plain": [
       "<Figure size 432x288 with 1 Axes>"
      ]
     },
     "metadata": {
      "needs_background": "light"
     },
     "output_type": "display_data"
    }
   ],
   "source": [
    "# plt.stackplot(df['Sub-Category'],df['Sales'])\n"
   ]
  },
  {
   "cell_type": "code",
   "execution_count": 21,
   "id": "12c66ef0",
   "metadata": {},
   "outputs": [],
   "source": [
    "dfd = df.groupby(['Region','Sub-Category']).aggregate({'Sales':sum}).unstack(-2)"
   ]
  },
  {
   "cell_type": "code",
   "execution_count": 22,
   "id": "f8e4deba",
   "metadata": {},
   "outputs": [
    {
     "data": {
      "text/plain": [
       "Index(['Accessories', 'Appliances', 'Art', 'Binders', 'Bookcases', 'Chairs',\n",
       "       'Copiers', 'Envelopes', 'Fasteners', 'Furnishings', 'Labels',\n",
       "       'Machines', 'Paper', 'Phones', 'Storage', 'Supplies', 'Tables'],\n",
       "      dtype='object', name='Sub-Category')"
      ]
     },
     "execution_count": 22,
     "metadata": {},
     "output_type": "execute_result"
    }
   ],
   "source": [
    "dfd.index"
   ]
  },
  {
   "cell_type": "code",
   "execution_count": 50,
   "id": "72a566d0",
   "metadata": {},
   "outputs": [
    {
     "data": {
      "image/png": "[encoded data removed]",
      "text/plain": [
       "<Figure size 504x360 with 1 Axes>"
      ]
     },
     "metadata": {
      "needs_background": "light"
     },
     "output_type": "display_data"
    }
   ],
   "source": [
    "import matplotlib.pyplot as plt\n",
    "fig, plot1 = plt.subplots(figsize =(7, 5))\n"
   ]
  },
  {
   "cell_type": "code",
   "execution_count": 32,
   "id": "d54009a6",
   "metadata": {},
   "outputs": [
    {
     "data": {
      "image/png": "[encoded data removed]",
      "text/plain": [
       "<Figure size 432x288 with 4 Axes>"
      ]
     },
     "metadata": {
      "needs_background": "light"
     },
     "output_type": "display_data"
    }
   ],
   "source": [
    "fig= dfd.plot( kind='bar' ,subplots=True)"
   ]
  },
  {
   "cell_type": "code",
   "execution_count": 33,
   "id": "04216cd6",
   "metadata": {},
   "outputs": [
    {
     "data": {
      "text/plain": [
       "array([<AxesSubplot:title={'center':'(Sales, Central)'}, xlabel='Sub-Category'>,\n",
       "       <AxesSubplot:title={'center':'(Sales, East)'}, xlabel='Sub-Category'>,\n",
       "       <AxesSubplot:title={'center':'(Sales, South)'}, xlabel='Sub-Category'>,\n",
       "       <AxesSubplot:title={'center':'(Sales, West)'}, xlabel='Sub-Category'>],\n",
       "      dtype=object)"
      ]
     },
     "execution_count": 33,
     "metadata": {},
     "output_type": "execute_result"
    }
   ],
   "source": [
    "fig\n",
    "# plt.show()"
   ]
  },
  {
   "cell_type": "code",
   "execution_count": null,
   "id": "1d06023b",
   "metadata": {},
   "outputs": [],
   "source": []
  },
  {
   "cell_type": "code",
   "execution_count": null,
   "id": "37df5ae9",
   "metadata": {},
   "outputs": [],
   "source": []
  },
  {
   "cell_type": "code",
   "execution_count": 30,
   "id": "8e5a162d",
   "metadata": {},
   "outputs": [
    {
     "ename": "NameError",
     "evalue": "name 'figure1' is not defined",
     "output_type": "error",
     "traceback": [
      "\u001b[1;31m---------------------------------------------------------------------------\u001b[0m",
      "\u001b[1;31mNameError\u001b[0m                                 Traceback (most recent call last)",
      "\u001b[1;32mc:\\Users\\acesi\\OneDrive\\Desktop\\Aces\\my_practice\\interpretered\\Untitled1.ipynb Cell 20\u001b[0m in \u001b[0;36m<cell line: 1>\u001b[1;34m()\u001b[0m\n\u001b[1;32m----> <a href='vscode-notebook-cell:/c%3A/Users/acesi/OneDrive/Desktop/Aces/my_practice/interpretered/Untitled1.ipynb#Y265sZmlsZQ%3D%3D?line=0'>1</a>\u001b[0m bar1 \u001b[39m=\u001b[39m FigureCanvasTkAgg(figure1, root)\n\u001b[0;32m      <a href='vscode-notebook-cell:/c%3A/Users/acesi/OneDrive/Desktop/Aces/my_practice/interpretered/Untitled1.ipynb#Y265sZmlsZQ%3D%3D?line=1'>2</a>\u001b[0m bar1\u001b[39m.\u001b[39mget_tk_widget()\u001b[39m.\u001b[39mpack(side\u001b[39m=\u001b[39mtk\u001b[39m.\u001b[39mLEFT, fill\u001b[39m=\u001b[39mtk\u001b[39m.\u001b[39mBOTH)\n",
      "\u001b[1;31mNameError\u001b[0m: name 'figure1' is not defined"
     ]
    }
   ],
   "source": [
    "# bar1 = FigureCanvasTkAgg(fig, )\n",
    "# bar1.get_tk_widget().pack(side=tk.LEFT, fill=tk.BOTH)\n"
   ]
  },
  {
   "cell_type": "code",
   "execution_count": null,
   "id": "c655a1c7",
   "metadata": {},
   "outputs": [],
   "source": []
  },
  {
   "cell_type": "code",
   "execution_count": 68,
   "id": "f7e8e284",
   "metadata": {},
   "outputs": [
    {
     "data": {
      "text/plain": [
       "['Central', 'East', 'South', 'West']"
      ]
     },
     "execution_count": 68,
     "metadata": {},
     "output_type": "execute_result"
    }
   ],
   "source": [
    "dfs = df.groupby(['Region','Sub-Category']).aggregate({'Sales':sum}).unstack(-1)\n",
    "list(dfs.index)"
   ]
  },
  {
   "cell_type": "code",
   "execution_count": 86,
   "id": "4f1aeacb",
   "metadata": {},
   "outputs": [
    {
     "data": {
      "text/plain": [
       "<AxesSubplot:title={'center':'Bar Chart of Colors'}, xlabel='Sub-Category', ylabel='Sales'>"
      ]
     },
     "execution_count": 86,
     "metadata": {},
     "output_type": "execute_result"
    }
   ],
   "source": [
    "ax"
   ]
  },
  {
   "cell_type": "code",
   "execution_count": null,
   "id": "8ab23d91",
   "metadata": {},
   "outputs": [],
   "source": []
  },
  {
   "cell_type": "code",
   "execution_count": 37,
   "id": "db7407e2",
   "metadata": {},
   "outputs": [
    {
     "data": {
      "text/html": [
       "<div>\n",
       "<style scoped>\n",
       "    .dataframe tbody tr th:only-of-type {\n",
       "        vertical-align: middle;\n",
       "    }\n",
       "\n",
       "    .dataframe tbody tr th {\n",
       "        vertical-align: top;\n",
       "    }\n",
       "\n",
       "    .dataframe thead th {\n",
       "        text-align: right;\n",
       "    }\n",
       "</style>\n",
       "<table border=\"1\" class=\"dataframe\">\n",
       "  <thead>\n",
       "    <tr style=\"text-align: right;\">\n",
       "      <th></th>\n",
       "      <th></th>\n",
       "      <th>Sales</th>\n",
       "    </tr>\n",
       "    <tr>\n",
       "      <th>Category</th>\n",
       "      <th>Sub-Category</th>\n",
       "      <th></th>\n",
       "    </tr>\n",
       "  </thead>\n",
       "  <tbody>\n",
       "    <tr>\n",
       "      <th rowspan=\"4\" valign=\"top\">Furniture</th>\n",
       "      <th>Bookcases</th>\n",
       "      <td>114879.9963</td>\n",
       "    </tr>\n",
       "    <tr>\n",
       "      <th>Chairs</th>\n",
       "      <td>328449.1030</td>\n",
       "    </tr>\n",
       "    <tr>\n",
       "      <th>Furnishings</th>\n",
       "      <td>91705.1640</td>\n",
       "    </tr>\n",
       "    <tr>\n",
       "      <th>Tables</th>\n",
       "      <td>206965.5320</td>\n",
       "    </tr>\n",
       "    <tr>\n",
       "      <th rowspan=\"9\" valign=\"top\">Office Supplies</th>\n",
       "      <th>Appliances</th>\n",
       "      <td>107532.1610</td>\n",
       "    </tr>\n",
       "    <tr>\n",
       "      <th>Art</th>\n",
       "      <td>27118.7920</td>\n",
       "    </tr>\n",
       "    <tr>\n",
       "      <th>Binders</th>\n",
       "      <td>203412.7330</td>\n",
       "    </tr>\n",
       "    <tr>\n",
       "      <th>Envelopes</th>\n",
       "      <td>16476.4020</td>\n",
       "    </tr>\n",
       "    <tr>\n",
       "      <th>Fasteners</th>\n",
       "      <td>3024.2800</td>\n",
       "    </tr>\n",
       "    <tr>\n",
       "      <th>Labels</th>\n",
       "      <td>12486.3120</td>\n",
       "    </tr>\n",
       "    <tr>\n",
       "      <th>Paper</th>\n",
       "      <td>78479.2060</td>\n",
       "    </tr>\n",
       "    <tr>\n",
       "      <th>Storage</th>\n",
       "      <td>223843.6080</td>\n",
       "    </tr>\n",
       "    <tr>\n",
       "      <th>Supplies</th>\n",
       "      <td>46673.5380</td>\n",
       "    </tr>\n",
       "    <tr>\n",
       "      <th rowspan=\"4\" valign=\"top\">Technology</th>\n",
       "      <th>Accessories</th>\n",
       "      <td>167380.3180</td>\n",
       "    </tr>\n",
       "    <tr>\n",
       "      <th>Copiers</th>\n",
       "      <td>149528.0300</td>\n",
       "    </tr>\n",
       "    <tr>\n",
       "      <th>Machines</th>\n",
       "      <td>189238.6310</td>\n",
       "    </tr>\n",
       "    <tr>\n",
       "      <th>Phones</th>\n",
       "      <td>330007.0540</td>\n",
       "    </tr>\n",
       "  </tbody>\n",
       "</table>\n",
       "</div>"
      ],
      "text/plain": [
       "                                    Sales\n",
       "Category        Sub-Category             \n",
       "Furniture       Bookcases     114879.9963\n",
       "                Chairs        328449.1030\n",
       "                Furnishings    91705.1640\n",
       "                Tables        206965.5320\n",
       "Office Supplies Appliances    107532.1610\n",
       "                Art            27118.7920\n",
       "                Binders       203412.7330\n",
       "                Envelopes      16476.4020\n",
       "                Fasteners       3024.2800\n",
       "                Labels         12486.3120\n",
       "                Paper          78479.2060\n",
       "                Storage       223843.6080\n",
       "                Supplies       46673.5380\n",
       "Technology      Accessories   167380.3180\n",
       "                Copiers       149528.0300\n",
       "                Machines      189238.6310\n",
       "                Phones        330007.0540"
      ]
     },
     "execution_count": 37,
     "metadata": {},
     "output_type": "execute_result"
    }
   ],
   "source": [
    "sales_by_year"
   ]
  },
  {
   "cell_type": "code",
   "execution_count": 39,
   "id": "71d75cbf",
   "metadata": {},
   "outputs": [],
   "source": [
    "listx = dict(sales_by_year['Sales'])"
   ]
  },
  {
   "cell_type": "code",
   "execution_count": 40,
   "id": "ae81e1f4",
   "metadata": {},
   "outputs": [],
   "source": [
    "x = list(listx.keys())"
   ]
  },
  {
   "cell_type": "code",
   "execution_count": 43,
   "id": "a7dc9b32",
   "metadata": {},
   "outputs": [
    {
     "name": "stdout",
     "output_type": "stream",
     "text": [
      "0 and  ('Furniture', 'Bookcases') \n",
      "\n",
      "1 and  ('Furniture', 'Chairs') \n",
      "\n",
      "2 and  ('Furniture', 'Furnishings') \n",
      "\n",
      "3 and  ('Furniture', 'Tables') \n",
      "\n",
      "4 and  ('Office Supplies', 'Appliances') \n",
      "\n",
      "5 and  ('Office Supplies', 'Art') \n",
      "\n",
      "6 and  ('Office Supplies', 'Binders') \n",
      "\n",
      "7 and  ('Office Supplies', 'Envelopes') \n",
      "\n",
      "8 and  ('Office Supplies', 'Fasteners') \n",
      "\n",
      "9 and  ('Office Supplies', 'Labels') \n",
      "\n",
      "10 and  ('Office Supplies', 'Paper') \n",
      "\n",
      "11 and  ('Office Supplies', 'Storage') \n",
      "\n",
      "12 and  ('Office Supplies', 'Supplies') \n",
      "\n",
      "13 and  ('Technology', 'Accessories') \n",
      "\n",
      "14 and  ('Technology', 'Copiers') \n",
      "\n",
      "15 and  ('Technology', 'Machines') \n",
      "\n",
      "16 and  ('Technology', 'Phones') \n",
      "\n"
     ]
    }
   ],
   "source": [
    "for i,j in enumerate(x):\n",
    "    print(i,'and ', j,'\\n')"
   ]
  },
  {
   "cell_type": "code",
   "execution_count": 9,
   "id": "5b91f299",
   "metadata": {},
   "outputs": [],
   "source": [
    "region= df.groupby([df['Region'],'Sub-Category']).aggregate({'Sales':sum})"
   ]
  },
  {
   "cell_type": "code",
   "execution_count": 11,
   "id": "9134b814",
   "metadata": {},
   "outputs": [
    {
     "data": {
      "text/html": [
       "<div>\n",
       "<style scoped>\n",
       "    .dataframe tbody tr th:only-of-type {\n",
       "        vertical-align: middle;\n",
       "    }\n",
       "\n",
       "    .dataframe tbody tr th {\n",
       "        vertical-align: top;\n",
       "    }\n",
       "\n",
       "    .dataframe thead tr th {\n",
       "        text-align: left;\n",
       "    }\n",
       "\n",
       "    .dataframe thead tr:last-of-type th {\n",
       "        text-align: right;\n",
       "    }\n",
       "</style>\n",
       "<table border=\"1\" class=\"dataframe\">\n",
       "  <thead>\n",
       "    <tr>\n",
       "      <th></th>\n",
       "      <th colspan=\"4\" halign=\"left\">Sales</th>\n",
       "    </tr>\n",
       "    <tr>\n",
       "      <th>Region</th>\n",
       "      <th>Central</th>\n",
       "      <th>East</th>\n",
       "      <th>South</th>\n",
       "      <th>West</th>\n",
       "    </tr>\n",
       "    <tr>\n",
       "      <th>Sub-Category</th>\n",
       "      <th></th>\n",
       "      <th></th>\n",
       "      <th></th>\n",
       "      <th></th>\n",
       "    </tr>\n",
       "  </thead>\n",
       "  <tbody>\n",
       "    <tr>\n",
       "      <th>Accessories</th>\n",
       "      <td>33956.0760</td>\n",
       "      <td>45033.372</td>\n",
       "      <td>27276.754</td>\n",
       "      <td>61114.1160</td>\n",
       "    </tr>\n",
       "    <tr>\n",
       "      <th>Appliances</th>\n",
       "      <td>23582.0330</td>\n",
       "      <td>34188.466</td>\n",
       "      <td>19525.326</td>\n",
       "      <td>30236.3360</td>\n",
       "    </tr>\n",
       "    <tr>\n",
       "      <th>Art</th>\n",
       "      <td>5765.3400</td>\n",
       "      <td>7485.764</td>\n",
       "      <td>4655.622</td>\n",
       "      <td>9212.0660</td>\n",
       "    </tr>\n",
       "    <tr>\n",
       "      <th>Binders</th>\n",
       "      <td>56923.2820</td>\n",
       "      <td>53497.997</td>\n",
       "      <td>37030.341</td>\n",
       "      <td>55961.1130</td>\n",
       "    </tr>\n",
       "    <tr>\n",
       "      <th>Bookcases</th>\n",
       "      <td>24157.1768</td>\n",
       "      <td>43819.334</td>\n",
       "      <td>10899.362</td>\n",
       "      <td>36004.1235</td>\n",
       "    </tr>\n",
       "    <tr>\n",
       "      <th>Chairs</th>\n",
       "      <td>85230.6460</td>\n",
       "      <td>96260.683</td>\n",
       "      <td>45176.446</td>\n",
       "      <td>101781.3280</td>\n",
       "    </tr>\n",
       "    <tr>\n",
       "      <th>Copiers</th>\n",
       "      <td>37259.5700</td>\n",
       "      <td>53219.462</td>\n",
       "      <td>9299.756</td>\n",
       "      <td>49749.2420</td>\n",
       "    </tr>\n",
       "    <tr>\n",
       "      <th>Envelopes</th>\n",
       "      <td>4636.8720</td>\n",
       "      <td>4375.874</td>\n",
       "      <td>3345.556</td>\n",
       "      <td>4118.1000</td>\n",
       "    </tr>\n",
       "    <tr>\n",
       "      <th>Fasteners</th>\n",
       "      <td>778.0300</td>\n",
       "      <td>819.718</td>\n",
       "      <td>503.316</td>\n",
       "      <td>923.2160</td>\n",
       "    </tr>\n",
       "    <tr>\n",
       "      <th>Furnishings</th>\n",
       "      <td>15254.3700</td>\n",
       "      <td>29071.380</td>\n",
       "      <td>17306.684</td>\n",
       "      <td>30072.7300</td>\n",
       "    </tr>\n",
       "    <tr>\n",
       "      <th>Labels</th>\n",
       "      <td>2451.4720</td>\n",
       "      <td>2602.934</td>\n",
       "      <td>2353.180</td>\n",
       "      <td>5078.7260</td>\n",
       "    </tr>\n",
       "    <tr>\n",
       "      <th>Machines</th>\n",
       "      <td>26797.3840</td>\n",
       "      <td>66106.165</td>\n",
       "      <td>53890.960</td>\n",
       "      <td>42444.1220</td>\n",
       "    </tr>\n",
       "    <tr>\n",
       "      <th>Paper</th>\n",
       "      <td>17491.9020</td>\n",
       "      <td>20172.602</td>\n",
       "      <td>14150.984</td>\n",
       "      <td>26663.7180</td>\n",
       "    </tr>\n",
       "    <tr>\n",
       "      <th>Phones</th>\n",
       "      <td>72403.2820</td>\n",
       "      <td>100614.982</td>\n",
       "      <td>58304.438</td>\n",
       "      <td>98684.3520</td>\n",
       "    </tr>\n",
       "    <tr>\n",
       "      <th>Storage</th>\n",
       "      <td>45930.1120</td>\n",
       "      <td>71612.584</td>\n",
       "      <td>35768.060</td>\n",
       "      <td>70532.8520</td>\n",
       "    </tr>\n",
       "    <tr>\n",
       "      <th>Supplies</th>\n",
       "      <td>9467.3720</td>\n",
       "      <td>10760.116</td>\n",
       "      <td>8318.928</td>\n",
       "      <td>18127.1220</td>\n",
       "    </tr>\n",
       "    <tr>\n",
       "      <th>Tables</th>\n",
       "      <td>39154.9710</td>\n",
       "      <td>39139.807</td>\n",
       "      <td>43916.192</td>\n",
       "      <td>84754.5620</td>\n",
       "    </tr>\n",
       "  </tbody>\n",
       "</table>\n",
       "</div>"
      ],
      "text/plain": [
       "                   Sales                                    \n",
       "Region           Central        East      South         West\n",
       "Sub-Category                                                \n",
       "Accessories   33956.0760   45033.372  27276.754   61114.1160\n",
       "Appliances    23582.0330   34188.466  19525.326   30236.3360\n",
       "Art            5765.3400    7485.764   4655.622    9212.0660\n",
       "Binders       56923.2820   53497.997  37030.341   55961.1130\n",
       "Bookcases     24157.1768   43819.334  10899.362   36004.1235\n",
       "Chairs        85230.6460   96260.683  45176.446  101781.3280\n",
       "Copiers       37259.5700   53219.462   9299.756   49749.2420\n",
       "Envelopes      4636.8720    4375.874   3345.556    4118.1000\n",
       "Fasteners       778.0300     819.718    503.316     923.2160\n",
       "Furnishings   15254.3700   29071.380  17306.684   30072.7300\n",
       "Labels         2451.4720    2602.934   2353.180    5078.7260\n",
       "Machines      26797.3840   66106.165  53890.960   42444.1220\n",
       "Paper         17491.9020   20172.602  14150.984   26663.7180\n",
       "Phones        72403.2820  100614.982  58304.438   98684.3520\n",
       "Storage       45930.1120   71612.584  35768.060   70532.8520\n",
       "Supplies       9467.3720   10760.116   8318.928   18127.1220\n",
       "Tables        39154.9710   39139.807  43916.192   84754.5620"
      ]
     },
     "execution_count": 11,
     "metadata": {},
     "output_type": "execute_result"
    }
   ],
   "source": [
    "region.unstack(level=-2)"
   ]
  },
  {
   "cell_type": "code",
   "execution_count": 10,
   "id": "b24ad958",
   "metadata": {},
   "outputs": [
    {
     "data": {
      "text/html": [
       "<div>\n",
       "<style scoped>\n",
       "    .dataframe tbody tr th:only-of-type {\n",
       "        vertical-align: middle;\n",
       "    }\n",
       "\n",
       "    .dataframe tbody tr th {\n",
       "        vertical-align: top;\n",
       "    }\n",
       "\n",
       "    .dataframe thead th {\n",
       "        text-align: right;\n",
       "    }\n",
       "</style>\n",
       "<table border=\"1\" class=\"dataframe\">\n",
       "  <thead>\n",
       "    <tr style=\"text-align: right;\">\n",
       "      <th></th>\n",
       "      <th></th>\n",
       "      <th>Sales</th>\n",
       "    </tr>\n",
       "    <tr>\n",
       "      <th>Region</th>\n",
       "      <th>Sub-Category</th>\n",
       "      <th></th>\n",
       "    </tr>\n",
       "  </thead>\n",
       "  <tbody>\n",
       "    <tr>\n",
       "      <th rowspan=\"5\" valign=\"top\">Central</th>\n",
       "      <th>Accessories</th>\n",
       "      <td>33956.0760</td>\n",
       "    </tr>\n",
       "    <tr>\n",
       "      <th>Appliances</th>\n",
       "      <td>23582.0330</td>\n",
       "    </tr>\n",
       "    <tr>\n",
       "      <th>Art</th>\n",
       "      <td>5765.3400</td>\n",
       "    </tr>\n",
       "    <tr>\n",
       "      <th>Binders</th>\n",
       "      <td>56923.2820</td>\n",
       "    </tr>\n",
       "    <tr>\n",
       "      <th>Bookcases</th>\n",
       "      <td>24157.1768</td>\n",
       "    </tr>\n",
       "    <tr>\n",
       "      <th>...</th>\n",
       "      <th>...</th>\n",
       "      <td>...</td>\n",
       "    </tr>\n",
       "    <tr>\n",
       "      <th rowspan=\"5\" valign=\"top\">West</th>\n",
       "      <th>Paper</th>\n",
       "      <td>26663.7180</td>\n",
       "    </tr>\n",
       "    <tr>\n",
       "      <th>Phones</th>\n",
       "      <td>98684.3520</td>\n",
       "    </tr>\n",
       "    <tr>\n",
       "      <th>Storage</th>\n",
       "      <td>70532.8520</td>\n",
       "    </tr>\n",
       "    <tr>\n",
       "      <th>Supplies</th>\n",
       "      <td>18127.1220</td>\n",
       "    </tr>\n",
       "    <tr>\n",
       "      <th>Tables</th>\n",
       "      <td>84754.5620</td>\n",
       "    </tr>\n",
       "  </tbody>\n",
       "</table>\n",
       "<p>68 rows × 1 columns</p>\n",
       "</div>"
      ],
      "text/plain": [
       "                           Sales\n",
       "Region  Sub-Category            \n",
       "Central Accessories   33956.0760\n",
       "        Appliances    23582.0330\n",
       "        Art            5765.3400\n",
       "        Binders       56923.2820\n",
       "        Bookcases     24157.1768\n",
       "...                          ...\n",
       "West    Paper         26663.7180\n",
       "        Phones        98684.3520\n",
       "        Storage       70532.8520\n",
       "        Supplies      18127.1220\n",
       "        Tables        84754.5620\n",
       "\n",
       "[68 rows x 1 columns]"
      ]
     },
     "execution_count": 10,
     "metadata": {},
     "output_type": "execute_result"
    }
   ],
   "source": [
    "region"
   ]
  },
  {
   "cell_type": "code",
   "execution_count": null,
   "id": "3e881f8f",
   "metadata": {},
   "outputs": [],
   "source": []
  },
  {
   "cell_type": "code",
   "execution_count": null,
   "id": "da2d4d1d",
   "metadata": {},
   "outputs": [],
   "source": []
  },
  {
   "cell_type": "code",
   "execution_count": null,
   "id": "80a22bb4",
   "metadata": {},
   "outputs": [],
   "source": []
  },
  {
   "cell_type": "code",
   "execution_count": null,
   "id": "f3fc65b8",
   "metadata": {},
   "outputs": [],
   "source": []
  },
  {
   "cell_type": "code",
   "execution_count": 19,
   "id": "fd2f5e60",
   "metadata": {},
   "outputs": [
    {
     "data": {
      "text/plain": [
       "pandas.core.frame.DataFrame"
      ]
     },
     "execution_count": 19,
     "metadata": {},
     "output_type": "execute_result"
    }
   ],
   "source": [
    "type(region)"
   ]
  },
  {
   "cell_type": "code",
   "execution_count": 21,
   "id": "7e903898",
   "metadata": {},
   "outputs": [
    {
     "data": {
      "text/html": [
       "<div>\n",
       "<style scoped>\n",
       "    .dataframe tbody tr th:only-of-type {\n",
       "        vertical-align: middle;\n",
       "    }\n",
       "\n",
       "    .dataframe tbody tr th {\n",
       "        vertical-align: top;\n",
       "    }\n",
       "\n",
       "    .dataframe thead th {\n",
       "        text-align: right;\n",
       "    }\n",
       "</style>\n",
       "<table border=\"1\" class=\"dataframe\">\n",
       "  <thead>\n",
       "    <tr style=\"text-align: right;\">\n",
       "      <th></th>\n",
       "      <th></th>\n",
       "      <th>Sales</th>\n",
       "    </tr>\n",
       "    <tr>\n",
       "      <th>Region</th>\n",
       "      <th>Sub-Category</th>\n",
       "      <th></th>\n",
       "    </tr>\n",
       "  </thead>\n",
       "  <tbody>\n",
       "    <tr>\n",
       "      <th rowspan=\"17\" valign=\"top\">Central</th>\n",
       "      <th>Accessories</th>\n",
       "      <td>33956.0760</td>\n",
       "    </tr>\n",
       "    <tr>\n",
       "      <th>Appliances</th>\n",
       "      <td>23582.0330</td>\n",
       "    </tr>\n",
       "    <tr>\n",
       "      <th>Art</th>\n",
       "      <td>5765.3400</td>\n",
       "    </tr>\n",
       "    <tr>\n",
       "      <th>Binders</th>\n",
       "      <td>56923.2820</td>\n",
       "    </tr>\n",
       "    <tr>\n",
       "      <th>Bookcases</th>\n",
       "      <td>24157.1768</td>\n",
       "    </tr>\n",
       "    <tr>\n",
       "      <th>Chairs</th>\n",
       "      <td>85230.6460</td>\n",
       "    </tr>\n",
       "    <tr>\n",
       "      <th>Copiers</th>\n",
       "      <td>37259.5700</td>\n",
       "    </tr>\n",
       "    <tr>\n",
       "      <th>Envelopes</th>\n",
       "      <td>4636.8720</td>\n",
       "    </tr>\n",
       "    <tr>\n",
       "      <th>Fasteners</th>\n",
       "      <td>778.0300</td>\n",
       "    </tr>\n",
       "    <tr>\n",
       "      <th>Furnishings</th>\n",
       "      <td>15254.3700</td>\n",
       "    </tr>\n",
       "    <tr>\n",
       "      <th>Labels</th>\n",
       "      <td>2451.4720</td>\n",
       "    </tr>\n",
       "    <tr>\n",
       "      <th>Machines</th>\n",
       "      <td>26797.3840</td>\n",
       "    </tr>\n",
       "    <tr>\n",
       "      <th>Paper</th>\n",
       "      <td>17491.9020</td>\n",
       "    </tr>\n",
       "    <tr>\n",
       "      <th>Phones</th>\n",
       "      <td>72403.2820</td>\n",
       "    </tr>\n",
       "    <tr>\n",
       "      <th>Storage</th>\n",
       "      <td>45930.1120</td>\n",
       "    </tr>\n",
       "    <tr>\n",
       "      <th>Supplies</th>\n",
       "      <td>9467.3720</td>\n",
       "    </tr>\n",
       "    <tr>\n",
       "      <th>Tables</th>\n",
       "      <td>39154.9710</td>\n",
       "    </tr>\n",
       "    <tr>\n",
       "      <th rowspan=\"17\" valign=\"top\">East</th>\n",
       "      <th>Accessories</th>\n",
       "      <td>45033.3720</td>\n",
       "    </tr>\n",
       "    <tr>\n",
       "      <th>Appliances</th>\n",
       "      <td>34188.4660</td>\n",
       "    </tr>\n",
       "    <tr>\n",
       "      <th>Art</th>\n",
       "      <td>7485.7640</td>\n",
       "    </tr>\n",
       "    <tr>\n",
       "      <th>Binders</th>\n",
       "      <td>53497.9970</td>\n",
       "    </tr>\n",
       "    <tr>\n",
       "      <th>Bookcases</th>\n",
       "      <td>43819.3340</td>\n",
       "    </tr>\n",
       "    <tr>\n",
       "      <th>Chairs</th>\n",
       "      <td>96260.6830</td>\n",
       "    </tr>\n",
       "    <tr>\n",
       "      <th>Copiers</th>\n",
       "      <td>53219.4620</td>\n",
       "    </tr>\n",
       "    <tr>\n",
       "      <th>Envelopes</th>\n",
       "      <td>4375.8740</td>\n",
       "    </tr>\n",
       "    <tr>\n",
       "      <th>Fasteners</th>\n",
       "      <td>819.7180</td>\n",
       "    </tr>\n",
       "    <tr>\n",
       "      <th>Furnishings</th>\n",
       "      <td>29071.3800</td>\n",
       "    </tr>\n",
       "    <tr>\n",
       "      <th>Labels</th>\n",
       "      <td>2602.9340</td>\n",
       "    </tr>\n",
       "    <tr>\n",
       "      <th>Machines</th>\n",
       "      <td>66106.1650</td>\n",
       "    </tr>\n",
       "    <tr>\n",
       "      <th>Paper</th>\n",
       "      <td>20172.6020</td>\n",
       "    </tr>\n",
       "    <tr>\n",
       "      <th>Phones</th>\n",
       "      <td>100614.9820</td>\n",
       "    </tr>\n",
       "    <tr>\n",
       "      <th>Storage</th>\n",
       "      <td>71612.5840</td>\n",
       "    </tr>\n",
       "    <tr>\n",
       "      <th>Supplies</th>\n",
       "      <td>10760.1160</td>\n",
       "    </tr>\n",
       "    <tr>\n",
       "      <th>Tables</th>\n",
       "      <td>39139.8070</td>\n",
       "    </tr>\n",
       "    <tr>\n",
       "      <th rowspan=\"16\" valign=\"top\">South</th>\n",
       "      <th>Accessories</th>\n",
       "      <td>27276.7540</td>\n",
       "    </tr>\n",
       "    <tr>\n",
       "      <th>Appliances</th>\n",
       "      <td>19525.3260</td>\n",
       "    </tr>\n",
       "    <tr>\n",
       "      <th>Art</th>\n",
       "      <td>4655.6220</td>\n",
       "    </tr>\n",
       "    <tr>\n",
       "      <th>Binders</th>\n",
       "      <td>37030.3410</td>\n",
       "    </tr>\n",
       "    <tr>\n",
       "      <th>Bookcases</th>\n",
       "      <td>10899.3620</td>\n",
       "    </tr>\n",
       "    <tr>\n",
       "      <th>Chairs</th>\n",
       "      <td>45176.4460</td>\n",
       "    </tr>\n",
       "    <tr>\n",
       "      <th>Copiers</th>\n",
       "      <td>9299.7560</td>\n",
       "    </tr>\n",
       "    <tr>\n",
       "      <th>Envelopes</th>\n",
       "      <td>3345.5560</td>\n",
       "    </tr>\n",
       "    <tr>\n",
       "      <th>Fasteners</th>\n",
       "      <td>503.3160</td>\n",
       "    </tr>\n",
       "    <tr>\n",
       "      <th>Furnishings</th>\n",
       "      <td>17306.6840</td>\n",
       "    </tr>\n",
       "    <tr>\n",
       "      <th>Labels</th>\n",
       "      <td>2353.1800</td>\n",
       "    </tr>\n",
       "    <tr>\n",
       "      <th>Machines</th>\n",
       "      <td>53890.9600</td>\n",
       "    </tr>\n",
       "    <tr>\n",
       "      <th>Paper</th>\n",
       "      <td>14150.9840</td>\n",
       "    </tr>\n",
       "    <tr>\n",
       "      <th>Phones</th>\n",
       "      <td>58304.4380</td>\n",
       "    </tr>\n",
       "    <tr>\n",
       "      <th>Storage</th>\n",
       "      <td>35768.0600</td>\n",
       "    </tr>\n",
       "    <tr>\n",
       "      <th>Supplies</th>\n",
       "      <td>8318.9280</td>\n",
       "    </tr>\n",
       "  </tbody>\n",
       "</table>\n",
       "</div>"
      ],
      "text/plain": [
       "                            Sales\n",
       "Region  Sub-Category             \n",
       "Central Accessories    33956.0760\n",
       "        Appliances     23582.0330\n",
       "        Art             5765.3400\n",
       "        Binders        56923.2820\n",
       "        Bookcases      24157.1768\n",
       "        Chairs         85230.6460\n",
       "        Copiers        37259.5700\n",
       "        Envelopes       4636.8720\n",
       "        Fasteners        778.0300\n",
       "        Furnishings    15254.3700\n",
       "        Labels          2451.4720\n",
       "        Machines       26797.3840\n",
       "        Paper          17491.9020\n",
       "        Phones         72403.2820\n",
       "        Storage        45930.1120\n",
       "        Supplies        9467.3720\n",
       "        Tables         39154.9710\n",
       "East    Accessories    45033.3720\n",
       "        Appliances     34188.4660\n",
       "        Art             7485.7640\n",
       "        Binders        53497.9970\n",
       "        Bookcases      43819.3340\n",
       "        Chairs         96260.6830\n",
       "        Copiers        53219.4620\n",
       "        Envelopes       4375.8740\n",
       "        Fasteners        819.7180\n",
       "        Furnishings    29071.3800\n",
       "        Labels          2602.9340\n",
       "        Machines       66106.1650\n",
       "        Paper          20172.6020\n",
       "        Phones        100614.9820\n",
       "        Storage        71612.5840\n",
       "        Supplies       10760.1160\n",
       "        Tables         39139.8070\n",
       "South   Accessories    27276.7540\n",
       "        Appliances     19525.3260\n",
       "        Art             4655.6220\n",
       "        Binders        37030.3410\n",
       "        Bookcases      10899.3620\n",
       "        Chairs         45176.4460\n",
       "        Copiers         9299.7560\n",
       "        Envelopes       3345.5560\n",
       "        Fasteners        503.3160\n",
       "        Furnishings    17306.6840\n",
       "        Labels          2353.1800\n",
       "        Machines       53890.9600\n",
       "        Paper          14150.9840\n",
       "        Phones         58304.4380\n",
       "        Storage        35768.0600\n",
       "        Supplies        8318.9280"
      ]
     },
     "execution_count": 21,
     "metadata": {},
     "output_type": "execute_result"
    }
   ],
   "source": [
    "region.head(50)"
   ]
  },
  {
   "cell_type": "code",
   "execution_count": 17,
   "id": "2f670022",
   "metadata": {},
   "outputs": [
    {
     "name": "stdout",
     "output_type": "stream",
     "text": [
      "dict_values([Region   Sub-Category\n",
      "Central  Accessories     33956.0760\n",
      "         Appliances      23582.0330\n",
      "         Art              5765.3400\n",
      "         Binders         56923.2820\n",
      "         Bookcases       24157.1768\n",
      "                            ...    \n",
      "West     Paper           26663.7180\n",
      "         Phones          98684.3520\n",
      "         Storage         70532.8520\n",
      "         Supplies        18127.1220\n",
      "         Tables          84754.5620\n",
      "Name: Sales, Length: 68, dtype: float64])\n"
     ]
    }
   ],
   "source": [
    "print(region.values())"
   ]
  },
  {
   "cell_type": "code",
   "execution_count": 8,
   "id": "20622924",
   "metadata": {},
   "outputs": [],
   "source": [
    "sales_by_year = dict(sales_by_year)"
   ]
  },
  {
   "cell_type": "code",
   "execution_count": 9,
   "id": "f0be5a7d",
   "metadata": {},
   "outputs": [],
   "source": [
    "listkeys = dict(sales_by_year['Sales'])"
   ]
  },
  {
   "cell_type": "code",
   "execution_count": 10,
   "id": "a63691f2",
   "metadata": {},
   "outputs": [],
   "source": [
    "x = list(listkeys.keys())"
   ]
  },
  {
   "cell_type": "code",
   "execution_count": 11,
   "id": "f5233567",
   "metadata": {},
   "outputs": [
    {
     "data": {
      "text/plain": [
       "[(2018, 'Appliances'),\n",
       " (2018, 'Art'),\n",
       " (2018, 'Binders'),\n",
       " (2018, 'Furnishings'),\n",
       " (2018, 'Phones'),\n",
       " (2018, 'Storage'),\n",
       " (2018, 'Tables'),\n",
       " (2019, 'Accessories'),\n",
       " (2019, 'Appliances'),\n",
       " (2019, 'Art'),\n",
       " (2019, 'Binders'),\n",
       " (2019, 'Bookcases'),\n",
       " (2019, 'Chairs'),\n",
       " (2019, 'Envelopes'),\n",
       " (2019, 'Furnishings'),\n",
       " (2019, 'Labels'),\n",
       " (2019, 'Paper'),\n",
       " (2019, 'Phones'),\n",
       " (2019, 'Storage'),\n",
       " (2019, 'Tables'),\n",
       " (2020, 'Accessories'),\n",
       " (2020, 'Appliances'),\n",
       " (2020, 'Art'),\n",
       " (2020, 'Binders'),\n",
       " (2020, 'Bookcases'),\n",
       " (2020, 'Chairs'),\n",
       " (2020, 'Fasteners'),\n",
       " (2020, 'Furnishings'),\n",
       " (2020, 'Labels'),\n",
       " (2020, 'Paper'),\n",
       " (2020, 'Phones'),\n",
       " (2020, 'Storage'),\n",
       " (2021, 'Accessories'),\n",
       " (2021, 'Binders'),\n",
       " (2021, 'Chairs'),\n",
       " (2021, 'Furnishings'),\n",
       " (2021, 'Labels'),\n",
       " (2021, 'Paper'),\n",
       " (2021, 'Phones'),\n",
       " (2021, 'Storage')]"
      ]
     },
     "execution_count": 11,
     "metadata": {},
     "output_type": "execute_result"
    }
   ],
   "source": [
    "x"
   ]
  },
  {
   "cell_type": "code",
   "execution_count": 12,
   "id": "9cdf2a37",
   "metadata": {},
   "outputs": [],
   "source": [
    "h=sorted(df['Order Date'].dt.year.unique())\n",
    "sh = sorted(df['Sub-Category'].unique())"
   ]
  },
  {
   "cell_type": "code",
   "execution_count": 13,
   "id": "a074cd44",
   "metadata": {},
   "outputs": [],
   "source": [
    "import multiprocessing as mp\n"
   ]
  },
  {
   "cell_type": "code",
   "execution_count": null,
   "id": "90da401c",
   "metadata": {},
   "outputs": [],
   "source": [
    "\n",
    "def trying(x):\n",
    "    print(x)\n",
    "#     if h and sh in x :\n",
    "#         print(i,j)\n",
    "#     else:\n",
    "#         print(f'{x} is listkeys')\n",
    "#         print(f\"{s} and {h} are not present in listkeys\")\n",
    "# # \n",
    "list(map(trying,x,h,sh))\n",
    "\n",
    "# with mp.Pool() as pool:\n",
    "#     pool.map(trying, x)"
   ]
  },
  {
   "cell_type": "code",
   "execution_count": null,
   "id": "28526711",
   "metadata": {},
   "outputs": [],
   "source": []
  },
  {
   "cell_type": "code",
   "execution_count": null,
   "id": "c95c52e3",
   "metadata": {},
   "outputs": [],
   "source": []
  },
  {
   "cell_type": "code",
   "execution_count": 13,
   "id": "572906c7",
   "metadata": {},
   "outputs": [
    {
     "name": "stdout",
     "output_type": "stream",
     "text": [
      "{(2018, 'Appliances'): 114.9, (2018, 'Art'): 1143.764, (2018, 'Binders'): 41.224000000000004, (2018, 'Furnishings'): 68.16, (2018, 'Phones'): 2200.024, (2018, 'Storage'): 954.73, (2018, 'Tables'): 1706.1840000000002, (2019, 'Accessories'): 13.98, (2019, 'Appliances'): 68.80999999999999, (2019, 'Art'): 102.06400000000001, (2019, 'Binders'): 116.024, (2019, 'Bookcases'): 3615.8292, (2019, 'Chairs'): 1347.0990000000002, (2019, 'Envelopes'): 317.576, (2019, 'Furnishings'): 360.5, (2019, 'Labels'): 75.17999999999999, (2019, 'Paper'): 159.69, (2019, 'Phones'): 371.168, (2019, 'Storage'): 95.152, (2019, 'Tables'): 2002.2075, (2020, 'Accessories'): 211.54999999999998, (2020, 'Appliances'): 346.38, (2020, 'Art'): 41.24, (2020, 'Binders'): 506.9200000000001, (2020, 'Bookcases'): 261.96, (2020, 'Chairs'): 1051.35, (2020, 'Fasteners'): 15.260000000000002, (2020, 'Furnishings'): 190.92, (2020, 'Labels'): 14.62, (2020, 'Paper'): 193.94400000000002, (2020, 'Phones'): 2222.878, (2020, 'Storage'): 444.808, (2021, 'Accessories'): 19.99, (2021, 'Binders'): 58.242, (2021, 'Chairs'): 373.332, (2021, 'Furnishings'): 106.238, (2021, 'Labels'): 6.16, (2021, 'Paper'): 64.07400000000001, (2021, 'Phones'): 147.168, (2021, 'Storage'): 353.23199999999997}\n"
     ]
    }
   ],
   "source": [
    "x_dict = dict(sales_by_year)\n",
    "x_y = dict(x_dict['Sales'])\n",
    "# x =list(x_y.keys())\n",
    "print(x_y)"
   ]
  },
  {
   "cell_type": "code",
   "execution_count": 20,
   "id": "3f7b79af",
   "metadata": {},
   "outputs": [
    {
     "name": "stdout",
     "output_type": "stream",
     "text": [
      "[(2018, 'Appliances'), (2018, 'Art'), (2018, 'Binders'), (2018, 'Furnishings'), (2018, 'Phones'), (2018, 'Storage'), (2018, 'Tables'), (2019, 'Accessories'), (2019, 'Appliances'), (2019, 'Art'), (2019, 'Binders'), (2019, 'Bookcases'), (2019, 'Chairs'), (2019, 'Envelopes'), (2019, 'Furnishings'), (2019, 'Labels'), (2019, 'Paper'), (2019, 'Phones'), (2019, 'Storage'), (2019, 'Tables'), (2020, 'Accessories'), (2020, 'Appliances'), (2020, 'Art'), (2020, 'Binders'), (2020, 'Bookcases'), (2020, 'Chairs'), (2020, 'Fasteners'), (2020, 'Furnishings'), (2020, 'Labels'), (2020, 'Paper'), (2020, 'Phones'), (2020, 'Storage'), (2021, 'Accessories'), (2021, 'Binders'), (2021, 'Chairs'), (2021, 'Furnishings'), (2021, 'Labels'), (2021, 'Paper'), (2021, 'Phones'), (2021, 'Storage')]\n"
     ]
    }
   ],
   "source": [
    "n_list = print(list(x_y.keys()))"
   ]
  },
  {
   "cell_type": "code",
   "execution_count": 21,
   "id": "ef22702f",
   "metadata": {},
   "outputs": [
    {
     "ename": "TypeError",
     "evalue": "'NoneType' object is not iterable",
     "output_type": "error",
     "traceback": [
      "\u001b[1;31m---------------------------------------------------------------------------\u001b[0m",
      "\u001b[1;31mTypeError\u001b[0m                                 Traceback (most recent call last)",
      "Input \u001b[1;32mIn [21]\u001b[0m, in \u001b[0;36m<cell line: 1>\u001b[1;34m()\u001b[0m\n\u001b[1;32m----> 1\u001b[0m ne_dict \u001b[38;5;241m=\u001b[39m \u001b[38;5;28;43mdict\u001b[39;49m\u001b[43m(\u001b[49m\u001b[43mn_list\u001b[49m\u001b[43m)\u001b[49m\n",
      "\u001b[1;31mTypeError\u001b[0m: 'NoneType' object is not iterable"
     ]
    }
   ],
   "source": [
    "# for i in n_list\n",
    "ne_dict = dict(n_list)"
   ]
  },
  {
   "cell_type": "code",
   "execution_count": null,
   "id": "7427f759",
   "metadata": {},
   "outputs": [],
   "source": []
  },
  {
   "cell_type": "code",
   "execution_count": null,
   "id": "09173a44",
   "metadata": {},
   "outputs": [],
   "source": []
  },
  {
   "cell_type": "code",
   "execution_count": null,
   "id": "6aff7aed",
   "metadata": {},
   "outputs": [],
   "source": []
  },
  {
   "cell_type": "code",
   "execution_count": 12,
   "id": "ab8b0179",
   "metadata": {},
   "outputs": [
    {
     "ename": "TypeError",
     "evalue": "'Sales' is an invalid keyword argument for print()",
     "output_type": "error",
     "traceback": [
      "\u001b[1;31m---------------------------------------------------------------------------\u001b[0m",
      "\u001b[1;31mTypeError\u001b[0m                                 Traceback (most recent call last)",
      "Input \u001b[1;32mIn [12]\u001b[0m, in \u001b[0;36m<cell line: 1>\u001b[1;34m()\u001b[0m\n\u001b[1;32m----> 1\u001b[0m \u001b[38;5;28mprint\u001b[39m(\u001b[38;5;241m*\u001b[39m\u001b[38;5;241m*\u001b[39msales_by_year)\n",
      "\u001b[1;31mTypeError\u001b[0m: 'Sales' is an invalid keyword argument for print()"
     ]
    }
   ],
   "source": [
    "def pl(**lis):\n",
    "    print(f\"{key} is \")\n",
    "\n",
    "\n",
    "print()"
   ]
  },
  {
   "cell_type": "code",
   "execution_count": null,
   "id": "7eae3730",
   "metadata": {},
   "outputs": [],
   "source": []
  },
  {
   "cell_type": "code",
   "execution_count": 8,
   "id": "dc54c3b0",
   "metadata": {},
   "outputs": [],
   "source": [
    "df1=pd.crosstab(df['Category'],df['Region'])"
   ]
  },
  {
   "cell_type": "code",
   "execution_count": 9,
   "id": "0f07895e",
   "metadata": {},
   "outputs": [
    {
     "data": {
      "text/html": [
       "<div>\n",
       "<style scoped>\n",
       "    .dataframe tbody tr th:only-of-type {\n",
       "        vertical-align: middle;\n",
       "    }\n",
       "\n",
       "    .dataframe tbody tr th {\n",
       "        vertical-align: top;\n",
       "    }\n",
       "\n",
       "    .dataframe thead th {\n",
       "        text-align: right;\n",
       "    }\n",
       "</style>\n",
       "<table border=\"1\" class=\"dataframe\">\n",
       "  <thead>\n",
       "    <tr style=\"text-align: right;\">\n",
       "      <th>Region</th>\n",
       "      <th>Central</th>\n",
       "      <th>East</th>\n",
       "      <th>South</th>\n",
       "      <th>West</th>\n",
       "    </tr>\n",
       "    <tr>\n",
       "      <th>Category</th>\n",
       "      <th></th>\n",
       "      <th></th>\n",
       "      <th></th>\n",
       "      <th></th>\n",
       "    </tr>\n",
       "  </thead>\n",
       "  <tbody>\n",
       "    <tr>\n",
       "      <th>Furniture</th>\n",
       "      <td>9</td>\n",
       "      <td>5</td>\n",
       "      <td>6</td>\n",
       "      <td>4</td>\n",
       "    </tr>\n",
       "    <tr>\n",
       "      <th>Office Supplies</th>\n",
       "      <td>21</td>\n",
       "      <td>12</td>\n",
       "      <td>8</td>\n",
       "      <td>19</td>\n",
       "    </tr>\n",
       "    <tr>\n",
       "      <th>Technology</th>\n",
       "      <td>5</td>\n",
       "      <td>4</td>\n",
       "      <td>0</td>\n",
       "      <td>7</td>\n",
       "    </tr>\n",
       "  </tbody>\n",
       "</table>\n",
       "</div>"
      ],
      "text/plain": [
       "Region           Central  East  South  West\n",
       "Category                                   \n",
       "Furniture              9     5      6     4\n",
       "Office Supplies       21    12      8    19\n",
       "Technology             5     4      0     7"
      ]
     },
     "execution_count": 9,
     "metadata": {},
     "output_type": "execute_result"
    }
   ],
   "source": [
    "df1\n"
   ]
  },
  {
   "cell_type": "code",
   "execution_count": null,
   "id": "40d7bb6f",
   "metadata": {},
   "outputs": [],
   "source": []
  },
  {
   "cell_type": "code",
   "execution_count": null,
   "id": "7c3c8438",
   "metadata": {},
   "outputs": [],
   "source": [
    "df = df"
   ]
  },
  {
   "cell_type": "code",
   "execution_count": 4,
   "id": "c352cde8",
   "metadata": {},
   "outputs": [
    {
     "data": {
      "text/plain": [
       "(100, 21)"
      ]
     },
     "execution_count": 4,
     "metadata": {},
     "output_type": "execute_result"
    }
   ],
   "source": [
    "df.shape"
   ]
  },
  {
   "cell_type": "code",
   "execution_count": null,
   "id": "6cd9e85b",
   "metadata": {},
   "outputs": [],
   "source": [
    "# df1.to_csv('C:/Users/acesi/OneDrive/Desktop/Excel_files/sales.csv',header=True, index=False,)"
   ]
  },
  {
   "cell_type": "code",
   "execution_count": null,
   "id": "b523cf16",
   "metadata": {},
   "outputs": [],
   "source": [
    "data = pd.read_csv('C:/Users/acesi/OneDrive/Desktop/Excel_files/sales.csv')"
   ]
  },
  {
   "cell_type": "code",
   "execution_count": null,
   "id": "b5f8ea75",
   "metadata": {},
   "outputs": [],
   "source": [
    "data.head()"
   ]
  },
  {
   "cell_type": "code",
   "execution_count": 4,
   "id": "88fccf10",
   "metadata": {},
   "outputs": [
    {
     "data": {
      "text/plain": [
       "Index(['Row ID', 'Order ID', 'Order Date', 'Ship Date', 'Ship Mode',\n",
       "       'Customer ID', 'Customer Name', 'Segment', 'Country/Region', 'City',\n",
       "       'State', 'Postal Code', 'Region', 'Product ID', 'Category',\n",
       "       'Sub-Category', 'Product Name', 'Sales', 'Quantity', 'Discount',\n",
       "       'Profit'],\n",
       "      dtype='object')"
      ]
     },
     "execution_count": 4,
     "metadata": {},
     "output_type": "execute_result"
    }
   ],
   "source": [
    "df.columns"
   ]
  },
  {
   "cell_type": "markdown",
   "id": "3eb1a024",
   "metadata": {},
   "source": [
    "### sorting\n"
   ]
  },
  {
   "cell_type": "code",
   "execution_count": null,
   "id": "f4686c5d",
   "metadata": {},
   "outputs": [],
   "source": [
    "y_axis = sorted(df['Sales'])"
   ]
  },
  {
   "cell_type": "code",
   "execution_count": null,
   "id": "0aeabcb6",
   "metadata": {},
   "outputs": [],
   "source": [
    "# print(y_axis)"
   ]
  },
  {
   "cell_type": "code",
   "execution_count": 3,
   "id": "29c68c0e",
   "metadata": {},
   "outputs": [],
   "source": [
    "import matplotlib.pyplot as plt"
   ]
  },
  {
   "cell_type": "markdown",
   "id": "c4804fc2",
   "metadata": {},
   "source": [
    "#### testing Cases for some more improvement "
   ]
  },
  {
   "cell_type": "code",
   "execution_count": 22,
   "id": "b811f0bb",
   "metadata": {},
   "outputs": [
    {
     "data": {
      "text/plain": [
       "[<matplotlib.lines.Line2D at 0x1ae62b7f1f0>]"
      ]
     },
     "execution_count": 22,
     "metadata": {},
     "output_type": "execute_result"
    },
    {
     "data": {
      "image/png": "[encoded data removed]",
      "text/plain": [
       "<Figure size 432x288 with 1 Axes>"
      ]
     },
     "metadata": {
      "needs_background": "light"
     },
     "output_type": "display_data"
    }
   ],
   "source": [
    "plt.plot(df['Region'],df['Sales'])"
   ]
  },
  {
   "cell_type": "code",
   "execution_count": 23,
   "id": "23e701f2",
   "metadata": {},
   "outputs": [],
   "source": [
    "x=df['Region']"
   ]
  },
  {
   "cell_type": "code",
   "execution_count": 24,
   "id": "0dffa8d8",
   "metadata": {},
   "outputs": [
    {
     "data": {
      "text/plain": [
       "[<matplotlib.lines.Line2D at 0x1ae62bd4880>]"
      ]
     },
     "execution_count": 24,
     "metadata": {},
     "output_type": "execute_result"
    },
    {
     "data": {
      "image/png": "[encoded data removed]",
      "text/plain": [
       "<Figure size 432x288 with 1 Axes>"
      ]
     },
     "metadata": {
      "needs_background": "light"
     },
     "output_type": "display_data"
    }
   ],
   "source": [
    "plt.plot(x)"
   ]
  },
  {
   "cell_type": "code",
   "execution_count": 27,
   "id": "d4423579",
   "metadata": {},
   "outputs": [
    {
     "data": {
      "text/plain": [
       "[<matplotlib.lines.Line2D at 0x1ae62cbe4f0>]"
      ]
     },
     "execution_count": 27,
     "metadata": {},
     "output_type": "execute_result"
    },
    {
     "data": {
      "image/png": "[encoded data removed]",
      "text/plain": [
       "<Figure size 432x288 with 1 Axes>"
      ]
     },
     "metadata": {
      "needs_background": "light"
     },
     "output_type": "display_data"
    }
   ],
   "source": [
    "plt.plot(df['Sales'])"
   ]
  },
  {
   "cell_type": "code",
   "execution_count": null,
   "id": "49d663bd",
   "metadata": {},
   "outputs": [],
   "source": [
    "plt.plot()"
   ]
  },
  {
   "cell_type": "code",
   "execution_count": 33,
   "id": "5816d504",
   "metadata": {},
   "outputs": [
    {
     "data": {
      "text/plain": [
       "[261.96,\n",
       " 731.9399999999999,\n",
       " 14.62,\n",
       " 957.5775,\n",
       " 22.368,\n",
       " 48.86,\n",
       " 7.28,\n",
       " 907.152,\n",
       " 18.504,\n",
       " 114.9,\n",
       " 1706.1840000000002,\n",
       " 911.424,\n",
       " 15.552000000000003,\n",
       " 407.97600000000006,\n",
       " 68.80999999999999,\n",
       " 2.544,\n",
       " 665.88,\n",
       " 55.5,\n",
       " 8.56,\n",
       " 213.48,\n",
       " 22.72,\n",
       " 19.46,\n",
       " 60.34,\n",
       " 71.37199999999999,\n",
       " 1044.63,\n",
       " 11.648,\n",
       " 90.57,\n",
       " 3083.4300000000003,\n",
       " 9.618000000000002,\n",
       " 124.20000000000002,\n",
       " 3.264,\n",
       " 86.304,\n",
       " 6.858000000000001,\n",
       " 15.76,\n",
       " 29.472,\n",
       " 1097.5440000000003,\n",
       " 190.92,\n",
       " 113.328,\n",
       " 532.3992,\n",
       " 212.058,\n",
       " 371.168,\n",
       " 147.168,\n",
       " 77.88,\n",
       " 95.616,\n",
       " 45.98,\n",
       " 17.46,\n",
       " 211.96,\n",
       " 45.0,\n",
       " 21.8,\n",
       " 38.22,\n",
       " 75.17999999999999,\n",
       " 6.16,\n",
       " 89.99,\n",
       " 15.260000000000002,\n",
       " 1029.95,\n",
       " 208.56,\n",
       " 32.400000000000006,\n",
       " 319.41,\n",
       " 14.56,\n",
       " 30.0,\n",
       " 48.48,\n",
       " 1.68,\n",
       " 13.98,\n",
       " 25.824,\n",
       " 146.73,\n",
       " 79.76,\n",
       " 213.115,\n",
       " 1113.024,\n",
       " 167.96800000000002,\n",
       " 75.88,\n",
       " 4.616,\n",
       " 19.05,\n",
       " 831.9360000000001,\n",
       " 97.04,\n",
       " 72.784,\n",
       " 1.2479999999999998,\n",
       " 9.708,\n",
       " 27.24,\n",
       " 19.3,\n",
       " 208.16,\n",
       " 16.740000000000002,\n",
       " 14.9,\n",
       " 21.39,\n",
       " 200.98400000000004,\n",
       " 230.376,\n",
       " 301.96,\n",
       " 19.99,\n",
       " 6.16,\n",
       " 158.36800000000002,\n",
       " 20.1,\n",
       " 73.584,\n",
       " 6.48,\n",
       " 12.96,\n",
       " 53.34,\n",
       " 32.96,\n",
       " 5.682000000000001,\n",
       " 96.53,\n",
       " 51.312,\n",
       " 77.88,\n",
       " 64.624]"
      ]
     },
     "execution_count": 33,
     "metadata": {},
     "output_type": "execute_result"
    }
   ],
   "source": [
    "data = list(df['Sales'])\n",
    "data"
   ]
  },
  {
   "cell_type": "code",
   "execution_count": 2,
   "id": "762b1f20",
   "metadata": {},
   "outputs": [],
   "source": [
    "import numpy as np\n",
    "data = np.random.random((10, 3))"
   ]
  },
  {
   "cell_type": "code",
   "execution_count": 4,
   "id": "5b1a07ed",
   "metadata": {},
   "outputs": [
    {
     "data": {
      "text/plain": [
       "array([[0.71623747, 0.98343356, 0.52539763],\n",
       "       [0.72294158, 0.64715877, 0.73658327],\n",
       "       [0.35592691, 0.57828916, 0.03150681],\n",
       "       [0.09127418, 0.49448154, 0.95828202],\n",
       "       [0.58013405, 0.49347727, 0.67461745],\n",
       "       [0.76314824, 0.63728348, 0.74608145],\n",
       "       [0.74621179, 0.42420668, 0.11995285],\n",
       "       [0.30778364, 0.45329434, 0.00355871],\n",
       "       [0.14989339, 0.57353347, 0.93773814],\n",
       "       [0.97227885, 0.36827405, 0.40675618]])"
      ]
     },
     "execution_count": 4,
     "metadata": {},
     "output_type": "execute_result"
    }
   ],
   "source": [
    "data"
   ]
  },
  {
   "cell_type": "code",
   "execution_count": 7,
   "id": "39da4af7",
   "metadata": {},
   "outputs": [],
   "source": [
    "col= tuple(df['Category'].unique())"
   ]
  },
  {
   "cell_type": "code",
   "execution_count": 8,
   "id": "400146fe",
   "metadata": {},
   "outputs": [
    {
     "data": {
      "text/plain": [
       "('Furniture', 'Office Supplies', 'Technology')"
      ]
     },
     "execution_count": 8,
     "metadata": {},
     "output_type": "execute_result"
    }
   ],
   "source": [
    "col"
   ]
  },
  {
   "cell_type": "code",
   "execution_count": 10,
   "id": "fbfbc198",
   "metadata": {},
   "outputs": [
    {
     "data": {
      "image/png": "[encoded data removed]",
      "text/plain": [
       "<Figure size 432x288 with 1 Axes>"
      ]
     },
     "metadata": {
      "needs_background": "light"
     },
     "output_type": "display_data"
    }
   ],
   "source": [
    "fig, axs = plt.subplots(1, 1)"
   ]
  },
  {
   "cell_type": "code",
   "execution_count": 11,
   "id": "91f0931a",
   "metadata": {},
   "outputs": [
    {
     "data": {
      "text/plain": [
       "(-0.05500000000000001,\n",
       " 0.05500000000000001,\n",
       " -0.05500000000000001,\n",
       " 0.05500000000000001)"
      ]
     },
     "execution_count": 11,
     "metadata": {},
     "output_type": "execute_result"
    }
   ],
   "source": [
    "data = np.random.random((10, 3))\n",
    "columns = (\"Column I\", \"Column II\", \"Column III\")\n",
    "axs.axis('tight')\n",
    "axs.axis('off')"
   ]
  },
  {
   "cell_type": "code",
   "execution_count": 13,
   "id": "8ea7a41e",
   "metadata": {},
   "outputs": [
    {
     "data": {
      "text/plain": [
       "<matplotlib.table.Table at 0x21e3d1222b0>"
      ]
     },
     "execution_count": 13,
     "metadata": {},
     "output_type": "execute_result"
    }
   ],
   "source": [
    "axs.table(cellText=data,colLabels=col,loc='center')\n",
    "# plt.show()"
   ]
  },
  {
   "cell_type": "code",
   "execution_count": 16,
   "id": "d4dfa56d",
   "metadata": {
    "scrolled": true
   },
   "outputs": [
    {
     "data": {
      "text/plain": [
       "100"
      ]
     },
     "execution_count": 16,
     "metadata": {},
     "output_type": "execute_result"
    }
   ],
   "source": [
    "len(df)"
   ]
  },
  {
   "cell_type": "code",
   "execution_count": 38,
   "id": "d1e12a30",
   "metadata": {
    "scrolled": true
   },
   "outputs": [
    {
     "data": {
      "text/plain": [
       "Row ID              int64\n",
       "Order ID           object\n",
       "Order Date         object\n",
       "Ship Date          object\n",
       "Ship Mode          object\n",
       "Customer ID        object\n",
       "Customer Name      object\n",
       "Segment            object\n",
       "Country/Region     object\n",
       "City               object\n",
       "State              object\n",
       "Postal Code       float64\n",
       "Region             object\n",
       "Product ID         object\n",
       "Category           object\n",
       "Sub-Category       object\n",
       "Product Name       object\n",
       "Sales             float64\n",
       "Quantity            int64\n",
       "Discount          float64\n",
       "Profit            float64\n",
       "dtype: object"
      ]
     },
     "execution_count": 38,
     "metadata": {},
     "output_type": "execute_result"
    }
   ],
   "source": [
    "df.dtypes"
   ]
  },
  {
   "cell_type": "code",
   "execution_count": 17,
   "id": "b41cc63d",
   "metadata": {},
   "outputs": [
    {
     "data": {
      "text/plain": [
       "(100, 21)"
      ]
     },
     "execution_count": 17,
     "metadata": {},
     "output_type": "execute_result"
    }
   ],
   "source": [
    "df.shape"
   ]
  },
  {
   "cell_type": "code",
   "execution_count": 29,
   "id": "bc3b853e",
   "metadata": {},
   "outputs": [
    {
     "data": {
      "text/plain": [
       "Row ID                                            1\n",
       "Order ID                             CA-2020-152156\n",
       "Order Date                               2020-11-08\n",
       "Ship Date                                2020-11-11\n",
       "Ship Mode                              Second Class\n",
       "Customer ID                                CG-12520\n",
       "Customer Name                           Claire Gute\n",
       "Segment                                    Consumer\n",
       "Country/Region                        United States\n",
       "City                                      Henderson\n",
       "State                                      Kentucky\n",
       "Postal Code                                 42420.0\n",
       "Region                                        South\n",
       "Product ID                          FUR-BO-10001798\n",
       "Category                                  Furniture\n",
       "Sub-Category                              Bookcases\n",
       "Product Name      Bush Somerset Collection Bookcase\n",
       "Sales                                        261.96\n",
       "Quantity                                          2\n",
       "Discount                                        0.0\n",
       "Profit                                      41.9136\n",
       "Name: 0, dtype: object"
      ]
     },
     "execution_count": 29,
     "metadata": {},
     "output_type": "execute_result"
    }
   ],
   "source": [
    "df.iloc[0]"
   ]
  },
  {
   "cell_type": "code",
   "execution_count": 28,
   "id": "f0cda1eb",
   "metadata": {},
   "outputs": [
    {
     "data": {
      "text/plain": [
       "{'Row ID': 1,\n",
       " 'Order ID': 'CA-2020-152156',\n",
       " 'Order Date': '2020-11-08',\n",
       " 'Ship Date': '2020-11-11',\n",
       " 'Ship Mode': 'Second Class',\n",
       " 'Customer ID': 'CG-12520',\n",
       " 'Customer Name': 'Claire Gute',\n",
       " 'Segment': 'Consumer',\n",
       " 'Country/Region': 'United States',\n",
       " 'City': 'Henderson',\n",
       " 'State': 'Kentucky',\n",
       " 'Postal Code': 42420.0,\n",
       " 'Region': 'South',\n",
       " 'Product ID': 'FUR-BO-10001798',\n",
       " 'Category': 'Furniture',\n",
       " 'Sub-Category': 'Bookcases',\n",
       " 'Product Name': 'Bush Somerset Collection Bookcase',\n",
       " 'Sales': 261.96,\n",
       " 'Quantity': 2,\n",
       " 'Discount': 0.0,\n",
       " 'Profit': 41.9136}"
      ]
     },
     "execution_count": 28,
     "metadata": {},
     "output_type": "execute_result"
    }
   ],
   "source": [
    "dict(df.iloc[0])"
   ]
  },
  {
   "cell_type": "code",
   "execution_count": 22,
   "id": "1da7adc2",
   "metadata": {},
   "outputs": [
    {
     "data": {
      "text/plain": [
       "[1,\n",
       " 'CA-2020-152156',\n",
       " '2020-11-08',\n",
       " '2020-11-11',\n",
       " 'Second Class',\n",
       " 'CG-12520',\n",
       " 'Claire Gute',\n",
       " 'Consumer',\n",
       " 'United States',\n",
       " 'Henderson',\n",
       " 'Kentucky',\n",
       " 42420.0,\n",
       " 'South',\n",
       " 'FUR-BO-10001798',\n",
       " 'Furniture',\n",
       " 'Bookcases',\n",
       " 'Bush Somerset Collection Bookcase',\n",
       " 261.96,\n",
       " 2,\n",
       " 0.0,\n",
       " 41.9136]"
      ]
     },
     "execution_count": 22,
     "metadata": {},
     "output_type": "execute_result"
    }
   ],
   "source": [
    "list(df.iloc[0])"
   ]
  },
  {
   "cell_type": "code",
   "execution_count": 1,
   "id": "dc95abfa",
   "metadata": {},
   "outputs": [],
   "source": []
  },
  {
   "cell_type": "code",
   "execution_count": 27,
   "id": "9621cf27",
   "metadata": {},
   "outputs": [
    {
     "data": {
      "image/png": "[encoded data removed]",
      "text/plain": [
       "<Figure size 432x288 with 1 Axes>"
      ]
     },
     "metadata": {
      "needs_background": "light"
     },
     "output_type": "display_data"
    }
   ],
   "source": [
    "import matplotlib.pyplot as plt\n",
    "import pandas as pd\n",
    "\n",
    "plt.figure()\n",
    "\n",
    "# table\n",
    "plt.subplot(121)\n",
    "\n",
    "cell_text = []\n",
    "for row in range(10):\n",
    "    cell_text.append(df.iloc[row])\n",
    "\n",
    "# plt.table(cellText=cell_text, colLabels=df.columns, loc='center')\n",
    "# plt.axis('off')\n",
    "\n",
    "# plot\n",
    "# plt.subplot(222)\n",
    "# plt.plot(table['x1'],table['x2'])\n",
    "\n",
    "# # plot\n",
    "# plt.subplot(224)\n",
    "# plt.plot(table['x1'],table['x2'])\n",
    "\n",
    "# plt.show()"
   ]
  },
  {
   "cell_type": "code",
   "execution_count": null,
   "id": "18e1a427",
   "metadata": {},
   "outputs": [],
   "source": []
  },
  {
   "cell_type": "markdown",
   "id": "0bb2c767",
   "metadata": {},
   "source": [
    "#### Test Cases ends here"
   ]
  },
  {
   "cell_type": "code",
   "execution_count": 9,
   "id": "fa0450d5",
   "metadata": {},
   "outputs": [
    {
     "data": {
      "image/png": "[encoded data removed]",
      "text/plain": [
       "<Figure size 1080x576 with 1 Axes>"
      ]
     },
     "metadata": {
      "needs_background": "light"
     },
     "output_type": "display_data"
    }
   ],
   "source": [
    "plt.figure(figsize=(15,8))\n",
    "plt.bar(df['Sub-Category'],df['Sales'])\n",
    "plt.show()"
   ]
  },
  {
   "cell_type": "code",
   "execution_count": 18,
   "id": "774b2930",
   "metadata": {},
   "outputs": [],
   "source": [
    "df = df.sort_values('Sales',ascending=True)"
   ]
  },
  {
   "cell_type": "code",
   "execution_count": 15,
   "id": "51f0917d",
   "metadata": {},
   "outputs": [],
   "source": [
    "df_sorted_profit = df.sort_values('Sales',ascending=False)"
   ]
  },
  {
   "cell_type": "code",
   "execution_count": 20,
   "id": "cfc06886",
   "metadata": {},
   "outputs": [],
   "source": [
    "del df_sorted"
   ]
  },
  {
   "cell_type": "code",
   "execution_count": 11,
   "id": "3f8b8e5a",
   "metadata": {},
   "outputs": [
    {
     "data": {
      "text/plain": [
       "75    1.248\n",
       "61    1.680\n",
       "15    2.544\n",
       "30    3.264\n",
       "70    4.616\n",
       "Name: Sales, dtype: float64"
      ]
     },
     "execution_count": 11,
     "metadata": {},
     "output_type": "execute_result"
    }
   ],
   "source": [
    "df_sorted['Sales'].head()"
   ]
  },
  {
   "cell_type": "code",
   "execution_count": null,
   "id": "99faef21",
   "metadata": {},
   "outputs": [],
   "source": [
    "df_sorted['Sales'].max()"
   ]
  },
  {
   "cell_type": "code",
   "execution_count": 13,
   "id": "dec9d6f6",
   "metadata": {},
   "outputs": [
    {
     "data": {
      "text/html": [
       "<div>\n",
       "<style scoped>\n",
       "    .dataframe tbody tr th:only-of-type {\n",
       "        vertical-align: middle;\n",
       "    }\n",
       "\n",
       "    .dataframe tbody tr th {\n",
       "        vertical-align: top;\n",
       "    }\n",
       "\n",
       "    .dataframe thead th {\n",
       "        text-align: right;\n",
       "    }\n",
       "</style>\n",
       "<table border=\"1\" class=\"dataframe\">\n",
       "  <thead>\n",
       "    <tr style=\"text-align: right;\">\n",
       "      <th></th>\n",
       "      <th>Row ID</th>\n",
       "      <th>Order ID</th>\n",
       "      <th>Order Date</th>\n",
       "      <th>Ship Date</th>\n",
       "      <th>Ship Mode</th>\n",
       "      <th>Customer ID</th>\n",
       "      <th>Customer Name</th>\n",
       "      <th>Segment</th>\n",
       "      <th>Country/Region</th>\n",
       "      <th>City</th>\n",
       "      <th>...</th>\n",
       "      <th>Postal Code</th>\n",
       "      <th>Region</th>\n",
       "      <th>Product ID</th>\n",
       "      <th>Category</th>\n",
       "      <th>Sub-Category</th>\n",
       "      <th>Product Name</th>\n",
       "      <th>Sales</th>\n",
       "      <th>Quantity</th>\n",
       "      <th>Discount</th>\n",
       "      <th>Profit</th>\n",
       "    </tr>\n",
       "  </thead>\n",
       "  <tbody>\n",
       "    <tr>\n",
       "      <th>24</th>\n",
       "      <td>25</td>\n",
       "      <td>CA-2019-106320</td>\n",
       "      <td>2019-09-25</td>\n",
       "      <td>2019-09-30</td>\n",
       "      <td>Standard Class</td>\n",
       "      <td>EB-13870</td>\n",
       "      <td>Emily Burns</td>\n",
       "      <td>Consumer</td>\n",
       "      <td>United States</td>\n",
       "      <td>Orem</td>\n",
       "      <td>...</td>\n",
       "      <td>84057.0</td>\n",
       "      <td>West</td>\n",
       "      <td>FUR-TA-10000577</td>\n",
       "      <td>Furniture</td>\n",
       "      <td>Tables</td>\n",
       "      <td>Bretford CR4500 Series Slim Rectangular Table</td>\n",
       "      <td>1044.630</td>\n",
       "      <td>3</td>\n",
       "      <td>0.0</td>\n",
       "      <td>240.2649</td>\n",
       "    </tr>\n",
       "    <tr>\n",
       "      <th>35</th>\n",
       "      <td>36</td>\n",
       "      <td>CA-2020-117590</td>\n",
       "      <td>2020-12-08</td>\n",
       "      <td>2020-12-10</td>\n",
       "      <td>First Class</td>\n",
       "      <td>GH-14485</td>\n",
       "      <td>Gene Hale</td>\n",
       "      <td>Corporate</td>\n",
       "      <td>United States</td>\n",
       "      <td>Richardson</td>\n",
       "      <td>...</td>\n",
       "      <td>75080.0</td>\n",
       "      <td>Central</td>\n",
       "      <td>TEC-PH-10004977</td>\n",
       "      <td>Technology</td>\n",
       "      <td>Phones</td>\n",
       "      <td>GE 30524EE4</td>\n",
       "      <td>1097.544</td>\n",
       "      <td>7</td>\n",
       "      <td>0.2</td>\n",
       "      <td>123.4737</td>\n",
       "    </tr>\n",
       "    <tr>\n",
       "      <th>67</th>\n",
       "      <td>68</td>\n",
       "      <td>CA-2018-106376</td>\n",
       "      <td>2018-12-05</td>\n",
       "      <td>2018-12-10</td>\n",
       "      <td>Standard Class</td>\n",
       "      <td>BS-11590</td>\n",
       "      <td>Brendan Sweed</td>\n",
       "      <td>Corporate</td>\n",
       "      <td>United States</td>\n",
       "      <td>Gilbert</td>\n",
       "      <td>...</td>\n",
       "      <td>85234.0</td>\n",
       "      <td>West</td>\n",
       "      <td>OFF-AR-10002671</td>\n",
       "      <td>Office Supplies</td>\n",
       "      <td>Art</td>\n",
       "      <td>Hunt BOSTON Model 1606 High-Volume Electric Pe...</td>\n",
       "      <td>1113.024</td>\n",
       "      <td>8</td>\n",
       "      <td>0.2</td>\n",
       "      <td>111.3024</td>\n",
       "    </tr>\n",
       "    <tr>\n",
       "      <th>10</th>\n",
       "      <td>11</td>\n",
       "      <td>CA-2018-115812</td>\n",
       "      <td>2018-06-09</td>\n",
       "      <td>2018-06-14</td>\n",
       "      <td>Standard Class</td>\n",
       "      <td>BH-11710</td>\n",
       "      <td>Brosina Hoffman</td>\n",
       "      <td>Consumer</td>\n",
       "      <td>United States</td>\n",
       "      <td>Los Angeles</td>\n",
       "      <td>...</td>\n",
       "      <td>90032.0</td>\n",
       "      <td>West</td>\n",
       "      <td>FUR-TA-10001539</td>\n",
       "      <td>Furniture</td>\n",
       "      <td>Tables</td>\n",
       "      <td>Chromcraft Rectangular Conference Tables</td>\n",
       "      <td>1706.184</td>\n",
       "      <td>9</td>\n",
       "      <td>0.2</td>\n",
       "      <td>85.3092</td>\n",
       "    </tr>\n",
       "    <tr>\n",
       "      <th>27</th>\n",
       "      <td>28</td>\n",
       "      <td>US-2019-150630</td>\n",
       "      <td>2019-09-17</td>\n",
       "      <td>2019-09-21</td>\n",
       "      <td>Standard Class</td>\n",
       "      <td>TB-21520</td>\n",
       "      <td>Tracy Blumstein</td>\n",
       "      <td>Consumer</td>\n",
       "      <td>United States</td>\n",
       "      <td>Philadelphia</td>\n",
       "      <td>...</td>\n",
       "      <td>19140.0</td>\n",
       "      <td>East</td>\n",
       "      <td>FUR-BO-10004834</td>\n",
       "      <td>Furniture</td>\n",
       "      <td>Bookcases</td>\n",
       "      <td>Riverside Palais Royal Lawyers Bookcase, Royal...</td>\n",
       "      <td>3083.430</td>\n",
       "      <td>7</td>\n",
       "      <td>0.5</td>\n",
       "      <td>-1665.0522</td>\n",
       "    </tr>\n",
       "  </tbody>\n",
       "</table>\n",
       "<p>5 rows × 21 columns</p>\n",
       "</div>"
      ],
      "text/plain": [
       "    Row ID        Order ID  Order Date   Ship Date       Ship Mode  \\\n",
       "24      25  CA-2019-106320  2019-09-25  2019-09-30  Standard Class   \n",
       "35      36  CA-2020-117590  2020-12-08  2020-12-10     First Class   \n",
       "67      68  CA-2018-106376  2018-12-05  2018-12-10  Standard Class   \n",
       "10      11  CA-2018-115812  2018-06-09  2018-06-14  Standard Class   \n",
       "27      28  US-2019-150630  2019-09-17  2019-09-21  Standard Class   \n",
       "\n",
       "   Customer ID    Customer Name    Segment Country/Region          City  ...  \\\n",
       "24    EB-13870      Emily Burns   Consumer  United States          Orem  ...   \n",
       "35    GH-14485        Gene Hale  Corporate  United States    Richardson  ...   \n",
       "67    BS-11590    Brendan Sweed  Corporate  United States       Gilbert  ...   \n",
       "10    BH-11710  Brosina Hoffman   Consumer  United States   Los Angeles  ...   \n",
       "27    TB-21520  Tracy Blumstein   Consumer  United States  Philadelphia  ...   \n",
       "\n",
       "   Postal Code   Region       Product ID         Category Sub-Category  \\\n",
       "24     84057.0     West  FUR-TA-10000577        Furniture       Tables   \n",
       "35     75080.0  Central  TEC-PH-10004977       Technology       Phones   \n",
       "67     85234.0     West  OFF-AR-10002671  Office Supplies          Art   \n",
       "10     90032.0     West  FUR-TA-10001539        Furniture       Tables   \n",
       "27     19140.0     East  FUR-BO-10004834        Furniture    Bookcases   \n",
       "\n",
       "                                         Product Name     Sales  Quantity  \\\n",
       "24      Bretford CR4500 Series Slim Rectangular Table  1044.630         3   \n",
       "35                                        GE 30524EE4  1097.544         7   \n",
       "67  Hunt BOSTON Model 1606 High-Volume Electric Pe...  1113.024         8   \n",
       "10           Chromcraft Rectangular Conference Tables  1706.184         9   \n",
       "27  Riverside Palais Royal Lawyers Bookcase, Royal...  3083.430         7   \n",
       "\n",
       "    Discount     Profit  \n",
       "24       0.0   240.2649  \n",
       "35       0.2   123.4737  \n",
       "67       0.2   111.3024  \n",
       "10       0.2    85.3092  \n",
       "27       0.5 -1665.0522  \n",
       "\n",
       "[5 rows x 21 columns]"
      ]
     },
     "execution_count": 13,
     "metadata": {},
     "output_type": "execute_result"
    }
   ],
   "source": [
    "df_sorted.tail()"
   ]
  },
  {
   "cell_type": "code",
   "execution_count": null,
   "id": "d4c845d8",
   "metadata": {},
   "outputs": [],
   "source": [
    "orientation='vertical'"
   ]
  },
  {
   "cell_type": "code",
   "execution_count": 16,
   "id": "cdd4c66b",
   "metadata": {},
   "outputs": [
    {
     "data": {
      "image/png": "[encoded data removed]",
      "text/plain": [
       "<Figure size 432x288 with 1 Axes>"
      ]
     },
     "metadata": {
      "needs_background": "light"
     },
     "output_type": "display_data"
    }
   ],
   "source": [
    "plt.bar(df_sorted_profit['Sub-Category'],df_sorted_profit['Sales'])\n",
    "plt.show()"
   ]
  },
  {
   "cell_type": "code",
   "execution_count": 13,
   "id": "0e70343b",
   "metadata": {},
   "outputs": [],
   "source": [
    "x= 'Sub-Category'\n",
    "y='Sales'\n",
    "\n",
    "x_sorted = list(df[x])\n",
    "y_sorted = df.groupby(by=['Sub-Category']).aggregate({y: sum})"
   ]
  },
  {
   "cell_type": "code",
   "execution_count": 10,
   "id": "090b3dd1",
   "metadata": {},
   "outputs": [],
   "source": [
    "# x_sorted"
   ]
  },
  {
   "cell_type": "code",
   "execution_count": 14,
   "id": "506a35b5",
   "metadata": {},
   "outputs": [
    {
     "data": {
      "text/html": [
       "<div>\n",
       "<style scoped>\n",
       "    .dataframe tbody tr th:only-of-type {\n",
       "        vertical-align: middle;\n",
       "    }\n",
       "\n",
       "    .dataframe tbody tr th {\n",
       "        vertical-align: top;\n",
       "    }\n",
       "\n",
       "    .dataframe thead th {\n",
       "        text-align: right;\n",
       "    }\n",
       "</style>\n",
       "<table border=\"1\" class=\"dataframe\">\n",
       "  <thead>\n",
       "    <tr style=\"text-align: right;\">\n",
       "      <th></th>\n",
       "      <th></th>\n",
       "      <th>Sales</th>\n",
       "    </tr>\n",
       "    <tr>\n",
       "      <th>Sub-Category</th>\n",
       "      <th>Order Date</th>\n",
       "      <th></th>\n",
       "    </tr>\n",
       "  </thead>\n",
       "  <tbody>\n",
       "    <tr>\n",
       "      <th rowspan=\"5\" valign=\"top\">Accessories</th>\n",
       "      <th>2019-11-24</th>\n",
       "      <td>13.9800</td>\n",
       "    </tr>\n",
       "    <tr>\n",
       "      <th>2020-01-16</th>\n",
       "      <td>90.5700</td>\n",
       "    </tr>\n",
       "    <tr>\n",
       "      <th>2020-03-11</th>\n",
       "      <td>45.9800</td>\n",
       "    </tr>\n",
       "    <tr>\n",
       "      <th>2020-06-17</th>\n",
       "      <td>30.0000</td>\n",
       "    </tr>\n",
       "    <tr>\n",
       "      <th>2020-06-20</th>\n",
       "      <td>45.0000</td>\n",
       "    </tr>\n",
       "    <tr>\n",
       "      <th>...</th>\n",
       "      <th>...</th>\n",
       "      <td>...</td>\n",
       "    </tr>\n",
       "    <tr>\n",
       "      <th rowspan=\"2\" valign=\"top\">Storage</th>\n",
       "      <th>2021-11-13</th>\n",
       "      <td>230.3760</td>\n",
       "    </tr>\n",
       "    <tr>\n",
       "      <th>2021-12-09</th>\n",
       "      <td>27.2400</td>\n",
       "    </tr>\n",
       "    <tr>\n",
       "      <th rowspan=\"3\" valign=\"top\">Tables</th>\n",
       "      <th>2018-06-09</th>\n",
       "      <td>1706.1840</td>\n",
       "    </tr>\n",
       "    <tr>\n",
       "      <th>2019-09-25</th>\n",
       "      <td>1044.6300</td>\n",
       "    </tr>\n",
       "    <tr>\n",
       "      <th>2019-10-11</th>\n",
       "      <td>957.5775</td>\n",
       "    </tr>\n",
       "  </tbody>\n",
       "</table>\n",
       "<p>96 rows × 1 columns</p>\n",
       "</div>"
      ],
      "text/plain": [
       "                             Sales\n",
       "Sub-Category Order Date           \n",
       "Accessories  2019-11-24    13.9800\n",
       "             2020-01-16    90.5700\n",
       "             2020-03-11    45.9800\n",
       "             2020-06-17    30.0000\n",
       "             2020-06-20    45.0000\n",
       "...                            ...\n",
       "Storage      2021-11-13   230.3760\n",
       "             2021-12-09    27.2400\n",
       "Tables       2018-06-09  1706.1840\n",
       "             2019-09-25  1044.6300\n",
       "             2019-10-11   957.5775\n",
       "\n",
       "[96 rows x 1 columns]"
      ]
     },
     "execution_count": 14,
     "metadata": {},
     "output_type": "execute_result"
    }
   ],
   "source": [
    "y_sorted"
   ]
  },
  {
   "cell_type": "code",
   "execution_count": 66,
   "id": "361ad5e1",
   "metadata": {},
   "outputs": [],
   "source": [
    "y_x = y_sorted.sort_values('Sales',ascending=True)"
   ]
  },
  {
   "cell_type": "code",
   "execution_count": 67,
   "id": "da57a37c",
   "metadata": {},
   "outputs": [
    {
     "data": {
      "text/html": [
       "<div>\n",
       "<style scoped>\n",
       "    .dataframe tbody tr th:only-of-type {\n",
       "        vertical-align: middle;\n",
       "    }\n",
       "\n",
       "    .dataframe tbody tr th {\n",
       "        vertical-align: top;\n",
       "    }\n",
       "\n",
       "    .dataframe thead th {\n",
       "        text-align: right;\n",
       "    }\n",
       "</style>\n",
       "<table border=\"1\" class=\"dataframe\">\n",
       "  <thead>\n",
       "    <tr style=\"text-align: right;\">\n",
       "      <th></th>\n",
       "      <th>Sales</th>\n",
       "    </tr>\n",
       "    <tr>\n",
       "      <th>Sub-Category</th>\n",
       "      <th></th>\n",
       "    </tr>\n",
       "  </thead>\n",
       "  <tbody>\n",
       "    <tr>\n",
       "      <th>Fasteners</th>\n",
       "      <td>15.2600</td>\n",
       "    </tr>\n",
       "    <tr>\n",
       "      <th>Labels</th>\n",
       "      <td>95.9600</td>\n",
       "    </tr>\n",
       "    <tr>\n",
       "      <th>Accessories</th>\n",
       "      <td>245.5200</td>\n",
       "    </tr>\n",
       "    <tr>\n",
       "      <th>Envelopes</th>\n",
       "      <td>317.5760</td>\n",
       "    </tr>\n",
       "    <tr>\n",
       "      <th>Paper</th>\n",
       "      <td>417.7080</td>\n",
       "    </tr>\n",
       "    <tr>\n",
       "      <th>Appliances</th>\n",
       "      <td>530.0900</td>\n",
       "    </tr>\n",
       "    <tr>\n",
       "      <th>Binders</th>\n",
       "      <td>722.4100</td>\n",
       "    </tr>\n",
       "    <tr>\n",
       "      <th>Furnishings</th>\n",
       "      <td>725.8180</td>\n",
       "    </tr>\n",
       "    <tr>\n",
       "      <th>Art</th>\n",
       "      <td>1287.0680</td>\n",
       "    </tr>\n",
       "    <tr>\n",
       "      <th>Storage</th>\n",
       "      <td>1847.9220</td>\n",
       "    </tr>\n",
       "    <tr>\n",
       "      <th>Chairs</th>\n",
       "      <td>2771.7810</td>\n",
       "    </tr>\n",
       "    <tr>\n",
       "      <th>Tables</th>\n",
       "      <td>3708.3915</td>\n",
       "    </tr>\n",
       "    <tr>\n",
       "      <th>Bookcases</th>\n",
       "      <td>3877.7892</td>\n",
       "    </tr>\n",
       "    <tr>\n",
       "      <th>Phones</th>\n",
       "      <td>4941.2380</td>\n",
       "    </tr>\n",
       "  </tbody>\n",
       "</table>\n",
       "</div>"
      ],
      "text/plain": [
       "                  Sales\n",
       "Sub-Category           \n",
       "Fasteners       15.2600\n",
       "Labels          95.9600\n",
       "Accessories    245.5200\n",
       "Envelopes      317.5760\n",
       "Paper          417.7080\n",
       "Appliances     530.0900\n",
       "Binders        722.4100\n",
       "Furnishings    725.8180\n",
       "Art           1287.0680\n",
       "Storage       1847.9220\n",
       "Chairs        2771.7810\n",
       "Tables        3708.3915\n",
       "Bookcases     3877.7892\n",
       "Phones        4941.2380"
      ]
     },
     "execution_count": 67,
     "metadata": {},
     "output_type": "execute_result"
    }
   ],
   "source": [
    "y_x"
   ]
  },
  {
   "cell_type": "code",
   "execution_count": 61,
   "id": "c8d9f0f2",
   "metadata": {},
   "outputs": [
    {
     "data": {
      "text/plain": [
       "[15.260000000000002,\n",
       " 95.96,\n",
       " 245.51999999999998,\n",
       " 317.576,\n",
       " 417.70799999999997,\n",
       " 530.09,\n",
       " 722.4100000000001,\n",
       " 725.818,\n",
       " 1287.068,\n",
       " 1847.922,\n",
       " 2771.781,\n",
       " 3708.3915,\n",
       " 3877.7892,\n",
       " 4941.238]"
      ]
     },
     "execution_count": 61,
     "metadata": {},
     "output_type": "execute_result"
    }
   ],
   "source": [
    "list(y_x['Sales'])"
   ]
  },
  {
   "cell_type": "code",
   "execution_count": 43,
   "id": "672be379",
   "metadata": {},
   "outputs": [],
   "source": [
    "x_dict =dict(y_x)"
   ]
  },
  {
   "cell_type": "code",
   "execution_count": 53,
   "id": "977e81ff",
   "metadata": {},
   "outputs": [
    {
     "data": {
      "text/plain": [
       "{'Sales': Sub-Category\n",
       " Fasteners        15.2600\n",
       " Labels           95.9600\n",
       " Accessories     245.5200\n",
       " Envelopes       317.5760\n",
       " Paper           417.7080\n",
       " Appliances      530.0900\n",
       " Binders         722.4100\n",
       " Furnishings     725.8180\n",
       " Art            1287.0680\n",
       " Storage        1847.9220\n",
       " Chairs         2771.7810\n",
       " Tables         3708.3915\n",
       " Bookcases      3877.7892\n",
       " Phones         4941.2380\n",
       " Name: Sales, dtype: float64}"
      ]
     },
     "execution_count": 53,
     "metadata": {},
     "output_type": "execute_result"
    }
   ],
   "source": [
    "x_dict"
   ]
  },
  {
   "cell_type": "code",
   "execution_count": 51,
   "id": "2451c9a6",
   "metadata": {},
   "outputs": [],
   "source": [
    "l=dict(x_dict[\"Sales\"])"
   ]
  },
  {
   "cell_type": "code",
   "execution_count": 52,
   "id": "18e79fa8",
   "metadata": {},
   "outputs": [
    {
     "data": {
      "text/plain": [
       "{'Fasteners': 15.260000000000002,\n",
       " 'Labels': 95.96,\n",
       " 'Accessories': 245.51999999999998,\n",
       " 'Envelopes': 317.576,\n",
       " 'Paper': 417.70799999999997,\n",
       " 'Appliances': 530.09,\n",
       " 'Binders': 722.4100000000001,\n",
       " 'Furnishings': 725.818,\n",
       " 'Art': 1287.068,\n",
       " 'Storage': 1847.922,\n",
       " 'Chairs': 2771.781,\n",
       " 'Tables': 3708.3915,\n",
       " 'Bookcases': 3877.7892,\n",
       " 'Phones': 4941.238}"
      ]
     },
     "execution_count": 52,
     "metadata": {},
     "output_type": "execute_result"
    }
   ],
   "source": [
    "l\n"
   ]
  },
  {
   "cell_type": "code",
   "execution_count": 55,
   "id": "139b1b6e",
   "metadata": {},
   "outputs": [],
   "source": [
    "_x = list(l.keys())"
   ]
  },
  {
   "cell_type": "code",
   "execution_count": 56,
   "id": "650434a1",
   "metadata": {},
   "outputs": [
    {
     "data": {
      "text/plain": [
       "['Fasteners',\n",
       " 'Labels',\n",
       " 'Accessories',\n",
       " 'Envelopes',\n",
       " 'Paper',\n",
       " 'Appliances',\n",
       " 'Binders',\n",
       " 'Furnishings',\n",
       " 'Art',\n",
       " 'Storage',\n",
       " 'Chairs',\n",
       " 'Tables',\n",
       " 'Bookcases',\n",
       " 'Phones']"
      ]
     },
     "execution_count": 56,
     "metadata": {},
     "output_type": "execute_result"
    }
   ],
   "source": [
    "_x"
   ]
  },
  {
   "cell_type": "code",
   "execution_count": null,
   "id": "ffc3bed1",
   "metadata": {},
   "outputs": [],
   "source": []
  },
  {
   "cell_type": "code",
   "execution_count": 22,
   "id": "47d1c160",
   "metadata": {},
   "outputs": [
    {
     "data": {
      "image/png": "[encoded data removed]",
      "text/plain": [
       "<Figure size 432x288 with 1 Axes>"
      ]
     },
     "metadata": {
      "needs_background": "light"
     },
     "output_type": "display_data"
    }
   ],
   "source": [
    "plt.bar(df_sorted['Sub-Category'],df_sorted['Sales'])\n",
    "plt.show()"
   ]
  },
  {
   "cell_type": "code",
   "execution_count": 26,
   "id": "99372199",
   "metadata": {},
   "outputs": [
    {
     "data": {
      "image/png": "[encoded data removed]",
      "text/plain": [
       "<Figure size 432x288 with 1 Axes>"
      ]
     },
     "metadata": {
      "needs_background": "light"
     },
     "output_type": "display_data"
    }
   ],
   "source": [
    "plt.bar(df_sorted_profit['Category'],df_sorted_profit['Sales'])\n",
    "plt.show()"
   ]
  },
  {
   "cell_type": "code",
   "execution_count": null,
   "id": "93373648",
   "metadata": {},
   "outputs": [],
   "source": [
    "plt.barh(df_sorted['Category'],df_sorted['Sales'])\n",
    "plt.show()"
   ]
  },
  {
   "cell_type": "code",
   "execution_count": 27,
   "id": "a81ad2a1",
   "metadata": {},
   "outputs": [
    {
     "data": {
      "image/png": "[encoded data removed]",
      "text/plain": [
       "<Figure size 432x288 with 1 Axes>"
      ]
     },
     "metadata": {
      "needs_background": "light"
     },
     "output_type": "display_data"
    }
   ],
   "source": [
    "plt.bar(df_sorted_profit['Region'],df_sorted_profit['Sales'])\n",
    "plt.show()"
   ]
  },
  {
   "cell_type": "code",
   "execution_count": 28,
   "id": "1d93d1de",
   "metadata": {},
   "outputs": [
    {
     "data": {
      "image/png": "[encoded data removed]",
      "text/plain": [
       "<Figure size 432x288 with 1 Axes>"
      ]
     },
     "metadata": {
      "needs_background": "light"
     },
     "output_type": "display_data"
    }
   ],
   "source": [
    "plt.bar(df_sorted_profit['State'],df_sorted_profit['Sales'])\n",
    "plt.show()"
   ]
  },
  {
   "cell_type": "code",
   "execution_count": 29,
   "id": "5645d6c5",
   "metadata": {},
   "outputs": [
    {
     "data": {
      "image/png": "[encoded data removed]",
      "text/plain": [
       "<Figure size 432x288 with 1 Axes>"
      ]
     },
     "metadata": {
      "needs_background": "light"
     },
     "output_type": "display_data"
    }
   ],
   "source": [
    "plt.bar(df_sorted_profit['City'],df_sorted_profit['Sales'])\n",
    "plt.show()"
   ]
  },
  {
   "cell_type": "code",
   "execution_count": null,
   "id": "d537bc9e",
   "metadata": {},
   "outputs": [],
   "source": []
  },
  {
   "cell_type": "code",
   "execution_count": null,
   "id": "ab5ca4f6",
   "metadata": {},
   "outputs": [],
   "source": []
  },
  {
   "cell_type": "code",
   "execution_count": null,
   "id": "9b43a222",
   "metadata": {},
   "outputs": [],
   "source": [
    "plt.bar(df_sorted['Category'],df_sorted['Profit'])\n",
    "plt.show()"
   ]
  },
  {
   "cell_type": "code",
   "execution_count": null,
   "id": "972dfb89",
   "metadata": {},
   "outputs": [],
   "source": []
  },
  {
   "cell_type": "code",
   "execution_count": null,
   "id": "65c5d80e",
   "metadata": {},
   "outputs": [],
   "source": []
  },
  {
   "cell_type": "markdown",
   "id": "5217cb19",
   "metadata": {},
   "source": [
    "### filtering "
   ]
  },
  {
   "cell_type": "code",
   "execution_count": null,
   "id": "1fa82052",
   "metadata": {},
   "outputs": [],
   "source": [
    "this_index = list(df[df['Region']=='South'].index)\n",
    "data = df.drop(df.index[this_index],axis=0)"
   ]
  },
  {
   "cell_type": "code",
   "execution_count": null,
   "id": "8a972789",
   "metadata": {},
   "outputs": [],
   "source": [
    "import matplotlib.pyplot as plt\n"
   ]
  },
  {
   "cell_type": "code",
   "execution_count": null,
   "id": "8e53bf23",
   "metadata": {},
   "outputs": [],
   "source": [
    "plt.bar(df['Region'],df['Sales'])\n",
    "plt.show()"
   ]
  },
  {
   "cell_type": "code",
   "execution_count": null,
   "id": "31e6170b",
   "metadata": {},
   "outputs": [],
   "source": [
    "plt.bar(data['Region'],data['Sales'])\n",
    "plt.show()"
   ]
  },
  {
   "cell_type": "code",
   "execution_count": null,
   "id": "4b0a151f",
   "metadata": {},
   "outputs": [],
   "source": [
    "df['Region'].value_counts()"
   ]
  },
  {
   "cell_type": "code",
   "execution_count": null,
   "id": "02e23d03",
   "metadata": {},
   "outputs": [],
   "source": [
    "data['Region'].value_counts()"
   ]
  },
  {
   "cell_type": "code",
   "execution_count": null,
   "id": "d69e6367",
   "metadata": {},
   "outputs": [],
   "source": [
    "df.groupby('Region').sum()"
   ]
  },
  {
   "cell_type": "code",
   "execution_count": null,
   "id": "1cf8231d",
   "metadata": {},
   "outputs": [],
   "source": [
    "data.groupby('Region').sum()"
   ]
  },
  {
   "cell_type": "code",
   "execution_count": null,
   "id": "5b28186d",
   "metadata": {},
   "outputs": [],
   "source": [
    "sales = pd.read_csv(\"C:/Users/acesi/OneDrive/Desktop/Excel_files/sales.csv\")"
   ]
  },
  {
   "cell_type": "code",
   "execution_count": null,
   "id": "2a8e62c8",
   "metadata": {},
   "outputs": [],
   "source": [
    "sales.groupby('Region').sum()"
   ]
  },
  {
   "cell_type": "code",
   "execution_count": 80,
   "id": "296938a4",
   "metadata": {},
   "outputs": [
    {
     "data": {
      "text/plain": [
       "Index(['Row ID', 'Order ID', 'Order Date', 'Ship Date', 'Ship Mode',\n",
       "       'Customer ID', 'Customer Name', 'Segment', 'Country/Region', 'City',\n",
       "       'State', 'Postal Code', 'Region', 'Product ID', 'Category',\n",
       "       'Sub-Category', 'Product Name', 'Sales', 'Quantity', 'Discount',\n",
       "       'Profit'],\n",
       "      dtype='object')"
      ]
     },
     "execution_count": 80,
     "metadata": {},
     "output_type": "execute_result"
    }
   ],
   "source": [
    "df.columns"
   ]
  },
  {
   "cell_type": "code",
   "execution_count": 81,
   "id": "8323365c",
   "metadata": {},
   "outputs": [
    {
     "ename": "ValueError",
     "evalue": "Index contains duplicate entries, cannot reshape",
     "output_type": "error",
     "traceback": [
      "\u001b[1;31m---------------------------------------------------------------------------\u001b[0m",
      "\u001b[1;31mValueError\u001b[0m                                Traceback (most recent call last)",
      "\u001b[1;32mc:\\Users\\acesi\\OneDrive\\Desktop\\Aces\\my_practice\\interpretered\\Untitled1.ipynb Cell 129\u001b[0m in \u001b[0;36m<cell line: 1>\u001b[1;34m()\u001b[0m\n\u001b[1;32m----> <a href='vscode-notebook-cell:/c%3A/Users/acesi/OneDrive/Desktop/Aces/my_practice/interpretered/Untitled1.ipynb#Y215sZmlsZQ%3D%3D?line=0'>1</a>\u001b[0m dfp \u001b[39m=\u001b[39m df\u001b[39m.\u001b[39;49mpivot(index\u001b[39m=\u001b[39;49m\u001b[39m'\u001b[39;49m\u001b[39mSales\u001b[39;49m\u001b[39m'\u001b[39;49m, columns\u001b[39m=\u001b[39;49m\u001b[39m'\u001b[39;49m\u001b[39mSub-Category\u001b[39;49m\u001b[39m'\u001b[39;49m, values\u001b[39m=\u001b[39;49m\u001b[39m'\u001b[39;49m\u001b[39mProfit\u001b[39;49m\u001b[39m'\u001b[39;49m)\n",
      "File \u001b[1;32mc:\\Users\\acesi\\AppData\\Local\\Programs\\Python\\Python310\\lib\\site-packages\\pandas\\core\\frame.py:7882\u001b[0m, in \u001b[0;36mDataFrame.pivot\u001b[1;34m(self, index, columns, values)\u001b[0m\n\u001b[0;32m   7877\u001b[0m \u001b[39m@Substitution\u001b[39m(\u001b[39m\"\u001b[39m\u001b[39m\"\u001b[39m)\n\u001b[0;32m   7878\u001b[0m \u001b[39m@Appender\u001b[39m(_shared_docs[\u001b[39m\"\u001b[39m\u001b[39mpivot\u001b[39m\u001b[39m\"\u001b[39m])\n\u001b[0;32m   7879\u001b[0m \u001b[39mdef\u001b[39;00m \u001b[39mpivot\u001b[39m(\u001b[39mself\u001b[39m, index\u001b[39m=\u001b[39m\u001b[39mNone\u001b[39;00m, columns\u001b[39m=\u001b[39m\u001b[39mNone\u001b[39;00m, values\u001b[39m=\u001b[39m\u001b[39mNone\u001b[39;00m) \u001b[39m-\u001b[39m\u001b[39m>\u001b[39m DataFrame:\n\u001b[0;32m   7880\u001b[0m     \u001b[39mfrom\u001b[39;00m \u001b[39mpandas\u001b[39;00m\u001b[39m.\u001b[39;00m\u001b[39mcore\u001b[39;00m\u001b[39m.\u001b[39;00m\u001b[39mreshape\u001b[39;00m\u001b[39m.\u001b[39;00m\u001b[39mpivot\u001b[39;00m \u001b[39mimport\u001b[39;00m pivot\n\u001b[1;32m-> 7882\u001b[0m     \u001b[39mreturn\u001b[39;00m pivot(\u001b[39mself\u001b[39;49m, index\u001b[39m=\u001b[39;49mindex, columns\u001b[39m=\u001b[39;49mcolumns, values\u001b[39m=\u001b[39;49mvalues)\n",
      "File \u001b[1;32mc:\\Users\\acesi\\AppData\\Local\\Programs\\Python\\Python310\\lib\\site-packages\\pandas\\core\\reshape\\pivot.py:520\u001b[0m, in \u001b[0;36mpivot\u001b[1;34m(data, index, columns, values)\u001b[0m\n\u001b[0;32m    518\u001b[0m     \u001b[39melse\u001b[39;00m:\n\u001b[0;32m    519\u001b[0m         indexed \u001b[39m=\u001b[39m data\u001b[39m.\u001b[39m_constructor_sliced(data[values]\u001b[39m.\u001b[39m_values, index\u001b[39m=\u001b[39mmultiindex)\n\u001b[1;32m--> 520\u001b[0m \u001b[39mreturn\u001b[39;00m indexed\u001b[39m.\u001b[39;49munstack(columns_listlike)\n",
      "File \u001b[1;32mc:\\Users\\acesi\\AppData\\Local\\Programs\\Python\\Python310\\lib\\site-packages\\pandas\\core\\series.py:4157\u001b[0m, in \u001b[0;36mSeries.unstack\u001b[1;34m(self, level, fill_value)\u001b[0m\n\u001b[0;32m   4114\u001b[0m \u001b[39m\"\"\"\u001b[39;00m\n\u001b[0;32m   4115\u001b[0m \u001b[39mUnstack, also known as pivot, Series with MultiIndex to produce DataFrame.\u001b[39;00m\n\u001b[0;32m   4116\u001b[0m \n\u001b[1;32m   (...)\u001b[0m\n\u001b[0;32m   4153\u001b[0m \u001b[39mb    2    4\u001b[39;00m\n\u001b[0;32m   4154\u001b[0m \u001b[39m\"\"\"\u001b[39;00m\n\u001b[0;32m   4155\u001b[0m \u001b[39mfrom\u001b[39;00m \u001b[39mpandas\u001b[39;00m\u001b[39m.\u001b[39;00m\u001b[39mcore\u001b[39;00m\u001b[39m.\u001b[39;00m\u001b[39mreshape\u001b[39;00m\u001b[39m.\u001b[39;00m\u001b[39mreshape\u001b[39;00m \u001b[39mimport\u001b[39;00m unstack\n\u001b[1;32m-> 4157\u001b[0m \u001b[39mreturn\u001b[39;00m unstack(\u001b[39mself\u001b[39;49m, level, fill_value)\n",
      "File \u001b[1;32mc:\\Users\\acesi\\AppData\\Local\\Programs\\Python\\Python310\\lib\\site-packages\\pandas\\core\\reshape\\reshape.py:491\u001b[0m, in \u001b[0;36munstack\u001b[1;34m(obj, level, fill_value)\u001b[0m\n\u001b[0;32m    489\u001b[0m \u001b[39mif\u001b[39;00m is_1d_only_ea_dtype(obj\u001b[39m.\u001b[39mdtype):\n\u001b[0;32m    490\u001b[0m     \u001b[39mreturn\u001b[39;00m _unstack_extension_series(obj, level, fill_value)\n\u001b[1;32m--> 491\u001b[0m unstacker \u001b[39m=\u001b[39m _Unstacker(\n\u001b[0;32m    492\u001b[0m     obj\u001b[39m.\u001b[39;49mindex, level\u001b[39m=\u001b[39;49mlevel, constructor\u001b[39m=\u001b[39;49mobj\u001b[39m.\u001b[39;49m_constructor_expanddim\n\u001b[0;32m    493\u001b[0m )\n\u001b[0;32m    494\u001b[0m \u001b[39mreturn\u001b[39;00m unstacker\u001b[39m.\u001b[39mget_result(\n\u001b[0;32m    495\u001b[0m     obj\u001b[39m.\u001b[39m_values, value_columns\u001b[39m=\u001b[39m\u001b[39mNone\u001b[39;00m, fill_value\u001b[39m=\u001b[39mfill_value\n\u001b[0;32m    496\u001b[0m )\n",
      "File \u001b[1;32mc:\\Users\\acesi\\AppData\\Local\\Programs\\Python\\Python310\\lib\\site-packages\\pandas\\core\\reshape\\reshape.py:140\u001b[0m, in \u001b[0;36m_Unstacker.__init__\u001b[1;34m(self, index, level, constructor)\u001b[0m\n\u001b[0;32m    133\u001b[0m \u001b[39mif\u001b[39;00m num_cells \u001b[39m>\u001b[39m np\u001b[39m.\u001b[39miinfo(np\u001b[39m.\u001b[39mint32)\u001b[39m.\u001b[39mmax:\n\u001b[0;32m    134\u001b[0m     warnings\u001b[39m.\u001b[39mwarn(\n\u001b[0;32m    135\u001b[0m         \u001b[39mf\u001b[39m\u001b[39m\"\u001b[39m\u001b[39mThe following operation may generate \u001b[39m\u001b[39m{\u001b[39;00mnum_cells\u001b[39m}\u001b[39;00m\u001b[39m cells \u001b[39m\u001b[39m\"\u001b[39m\n\u001b[0;32m    136\u001b[0m         \u001b[39mf\u001b[39m\u001b[39m\"\u001b[39m\u001b[39min the resulting pandas object.\u001b[39m\u001b[39m\"\u001b[39m,\n\u001b[0;32m    137\u001b[0m         PerformanceWarning,\n\u001b[0;32m    138\u001b[0m     )\n\u001b[1;32m--> 140\u001b[0m \u001b[39mself\u001b[39;49m\u001b[39m.\u001b[39;49m_make_selectors()\n",
      "File \u001b[1;32mc:\\Users\\acesi\\AppData\\Local\\Programs\\Python\\Python310\\lib\\site-packages\\pandas\\core\\reshape\\reshape.py:192\u001b[0m, in \u001b[0;36m_Unstacker._make_selectors\u001b[1;34m(self)\u001b[0m\n\u001b[0;32m    189\u001b[0m mask\u001b[39m.\u001b[39mput(selector, \u001b[39mTrue\u001b[39;00m)\n\u001b[0;32m    191\u001b[0m \u001b[39mif\u001b[39;00m mask\u001b[39m.\u001b[39msum() \u001b[39m<\u001b[39m \u001b[39mlen\u001b[39m(\u001b[39mself\u001b[39m\u001b[39m.\u001b[39mindex):\n\u001b[1;32m--> 192\u001b[0m     \u001b[39mraise\u001b[39;00m \u001b[39mValueError\u001b[39;00m(\u001b[39m\"\u001b[39m\u001b[39mIndex contains duplicate entries, cannot reshape\u001b[39m\u001b[39m\"\u001b[39m)\n\u001b[0;32m    194\u001b[0m \u001b[39mself\u001b[39m\u001b[39m.\u001b[39mgroup_index \u001b[39m=\u001b[39m comp_index\n\u001b[0;32m    195\u001b[0m \u001b[39mself\u001b[39m\u001b[39m.\u001b[39mmask \u001b[39m=\u001b[39m mask\n",
      "\u001b[1;31mValueError\u001b[0m: Index contains duplicate entries, cannot reshape"
     ]
    }
   ],
   "source": [
    "dfp = df.pivot(index='Sales', columns='Sub-Category', values='Profit')"
   ]
  },
  {
   "cell_type": "code",
   "execution_count": 82,
   "id": "944486ea",
   "metadata": {},
   "outputs": [
    {
     "ename": "NameError",
     "evalue": "name 'dfp' is not defined",
     "output_type": "error",
     "traceback": [
      "\u001b[1;31m---------------------------------------------------------------------------\u001b[0m",
      "\u001b[1;31mNameError\u001b[0m                                 Traceback (most recent call last)",
      "\u001b[1;32mc:\\Users\\acesi\\OneDrive\\Desktop\\Aces\\my_practice\\interpretered\\Untitled1.ipynb Cell 130\u001b[0m in \u001b[0;36m<cell line: 1>\u001b[1;34m()\u001b[0m\n\u001b[1;32m----> <a href='vscode-notebook-cell:/c%3A/Users/acesi/OneDrive/Desktop/Aces/my_practice/interpretered/Untitled1.ipynb#Y216sZmlsZQ%3D%3D?line=0'>1</a>\u001b[0m ax \u001b[39m=\u001b[39m dfp\u001b[39m.\u001b[39mplot(kind\u001b[39m=\u001b[39m\u001b[39m'\u001b[39m\u001b[39mbar\u001b[39m\u001b[39m'\u001b[39m, title\u001b[39m=\u001b[39m\u001b[39m'\u001b[39m\u001b[39mBar Chart of Colors\u001b[39m\u001b[39m'\u001b[39m, figsize\u001b[39m=\u001b[39m(\u001b[39m6\u001b[39m, \u001b[39m4\u001b[39m))\n\u001b[0;32m      <a href='vscode-notebook-cell:/c%3A/Users/acesi/OneDrive/Desktop/Aces/my_practice/interpretered/Untitled1.ipynb#Y216sZmlsZQ%3D%3D?line=1'>2</a>\u001b[0m ax\u001b[39m.\u001b[39mset(ylabel\u001b[39m=\u001b[39m\u001b[39m'\u001b[39m\u001b[39mSales\u001b[39m\u001b[39m'\u001b[39m)\n\u001b[0;32m      <a href='vscode-notebook-cell:/c%3A/Users/acesi/OneDrive/Desktop/Aces/my_practice/interpretered/Untitled1.ipynb#Y216sZmlsZQ%3D%3D?line=2'>3</a>\u001b[0m ax\u001b[39m.\u001b[39mlegend(title\u001b[39m=\u001b[39m\u001b[39m'\u001b[39m\u001b[39mSub-Category\u001b[39m\u001b[39m'\u001b[39m, bbox_to_anchor\u001b[39m=\u001b[39m(\u001b[39m1\u001b[39m, \u001b[39m1\u001b[39m), loc\u001b[39m=\u001b[39m\u001b[39m'\u001b[39m\u001b[39mupper left\u001b[39m\u001b[39m'\u001b[39m)\n",
      "\u001b[1;31mNameError\u001b[0m: name 'dfp' is not defined"
     ]
    }
   ],
   "source": [
    "ax = dfp.plot(kind='bar', title='Bar Chart of Colors', figsize=(6, 4))\n",
    "ax.set(ylabel='Sales')\n",
    "ax.legend(title='Sub-Category', bbox_to_anchor=(1, 1), loc='upper left')\n",
    "ax.grid(axis='x')"
   ]
  },
  {
   "cell_type": "code",
   "execution_count": 72,
   "id": "69ce6d7a",
   "metadata": {},
   "outputs": [],
   "source": [
    "import seaborn as sns"
   ]
  },
  {
   "cell_type": "code",
   "execution_count": 29,
   "id": "cfccb22c",
   "metadata": {},
   "outputs": [],
   "source": [
    "import matplotlib.pyplot as plt\n"
   ]
  },
  {
   "cell_type": "code",
   "execution_count": 84,
   "id": "1fde74b6",
   "metadata": {},
   "outputs": [
    {
     "ename": "AttributeError",
     "evalue": "'AxesSubplot' object has no attribute 'set_figwidth'",
     "output_type": "error",
     "traceback": [
      "\u001b[1;31m---------------------------------------------------------------------------\u001b[0m",
      "\u001b[1;31mAttributeError\u001b[0m                            Traceback (most recent call last)",
      "\u001b[1;32mc:\\Users\\acesi\\OneDrive\\Desktop\\Aces\\my_practice\\interpretered\\Untitled1.ipynb Cell 133\u001b[0m in \u001b[0;36m<cell line: 8>\u001b[1;34m()\u001b[0m\n\u001b[0;32m      <a href='vscode-notebook-cell:/c%3A/Users/acesi/OneDrive/Desktop/Aces/my_practice/interpretered/Untitled1.ipynb#Y222sZmlsZQ%3D%3D?line=5'>6</a>\u001b[0m ax\u001b[39m.\u001b[39mlegend(title\u001b[39m=\u001b[39m\u001b[39m'\u001b[39m\u001b[39mCustomer Name\u001b[39m\u001b[39m'\u001b[39m, bbox_to_anchor\u001b[39m=\u001b[39m(\u001b[39m1\u001b[39m, \u001b[39m1\u001b[39m), loc\u001b[39m=\u001b[39m\u001b[39m'\u001b[39m\u001b[39mupper left\u001b[39m\u001b[39m'\u001b[39m)\n\u001b[0;32m      <a href='vscode-notebook-cell:/c%3A/Users/acesi/OneDrive/Desktop/Aces/my_practice/interpretered/Untitled1.ipynb#Y222sZmlsZQ%3D%3D?line=6'>7</a>\u001b[0m plt\u001b[39m.\u001b[39mxticks(rotation\u001b[39m=\u001b[39m\u001b[39m90\u001b[39m)\n\u001b[1;32m----> <a href='vscode-notebook-cell:/c%3A/Users/acesi/OneDrive/Desktop/Aces/my_practice/interpretered/Untitled1.ipynb#Y222sZmlsZQ%3D%3D?line=7'>8</a>\u001b[0m ax\u001b[39m.\u001b[39;49mset_figwidth(\u001b[39m7\u001b[39m)\n\u001b[0;32m      <a href='vscode-notebook-cell:/c%3A/Users/acesi/OneDrive/Desktop/Aces/my_practice/interpretered/Untitled1.ipynb#Y222sZmlsZQ%3D%3D?line=8'>9</a>\u001b[0m ax\u001b[39m.\u001b[39mset_figheight(\u001b[39m5\u001b[39m)\n\u001b[0;32m     <a href='vscode-notebook-cell:/c%3A/Users/acesi/OneDrive/Desktop/Aces/my_practice/interpretered/Untitled1.ipynb#Y222sZmlsZQ%3D%3D?line=9'>10</a>\u001b[0m ax\u001b[39m.\u001b[39mgrid(axis\u001b[39m=\u001b[39m\u001b[39m'\u001b[39m\u001b[39mx\u001b[39m\u001b[39m'\u001b[39m)\n",
      "\u001b[1;31mAttributeError\u001b[0m: 'AxesSubplot' object has no attribute 'set_figwidth'"
     ]
    },
    {
     "data": {
      "image/png": "[encoded data removed]",
      "text/plain": [
       "<Figure size 432x288 with 1 Axes>"
      ]
     },
     "metadata": {
      "needs_background": "light"
     },
     "output_type": "display_data"
    }
   ],
   "source": [
    "from re import T\n",
    "\n",
    "\n",
    "ax = sns.barplot(data=df, x='Sub-Category', y='Sales', hue='Region')\n",
    "ax.set(xlabel='Sub-Category', title='Bar Chart of Colors')\n",
    "ax.legend(title='Customer Name', bbox_to_anchor=(1, 1), loc='upper left')\n",
    "plt.xticks(rotation=90)\n",
    "ax.grid(axis='x')"
   ]
  },
  {
   "cell_type": "code",
   "execution_count": 22,
   "id": "72435854",
   "metadata": {},
   "outputs": [
    {
     "data": {
      "text/html": [
       "<div>\n",
       "<style scoped>\n",
       "    .dataframe tbody tr th:only-of-type {\n",
       "        vertical-align: middle;\n",
       "    }\n",
       "\n",
       "    .dataframe tbody tr th {\n",
       "        vertical-align: top;\n",
       "    }\n",
       "\n",
       "    .dataframe thead th {\n",
       "        text-align: right;\n",
       "    }\n",
       "</style>\n",
       "<table border=\"1\" class=\"dataframe\">\n",
       "  <thead>\n",
       "    <tr style=\"text-align: right;\">\n",
       "      <th></th>\n",
       "      <th>Row ID</th>\n",
       "      <th>Order ID</th>\n",
       "      <th>Order Date</th>\n",
       "      <th>Ship Date</th>\n",
       "      <th>Ship Mode</th>\n",
       "      <th>Customer ID</th>\n",
       "      <th>Customer Name</th>\n",
       "      <th>Segment</th>\n",
       "      <th>Country/Region</th>\n",
       "      <th>City</th>\n",
       "      <th>...</th>\n",
       "      <th>Postal Code</th>\n",
       "      <th>Region</th>\n",
       "      <th>Product ID</th>\n",
       "      <th>Category</th>\n",
       "      <th>Sub-Category</th>\n",
       "      <th>Product Name</th>\n",
       "      <th>Sales</th>\n",
       "      <th>Quantity</th>\n",
       "      <th>Discount</th>\n",
       "      <th>Profit</th>\n",
       "    </tr>\n",
       "  </thead>\n",
       "  <tbody>\n",
       "    <tr>\n",
       "      <th>0</th>\n",
       "      <td>1</td>\n",
       "      <td>CA-2020-152156</td>\n",
       "      <td>2020-11-08</td>\n",
       "      <td>2020-11-11</td>\n",
       "      <td>Second Class</td>\n",
       "      <td>CG-12520</td>\n",
       "      <td>Claire Gute</td>\n",
       "      <td>Consumer</td>\n",
       "      <td>United States</td>\n",
       "      <td>Henderson</td>\n",
       "      <td>...</td>\n",
       "      <td>42420.0</td>\n",
       "      <td>South</td>\n",
       "      <td>FUR-BO-10001798</td>\n",
       "      <td>Furniture</td>\n",
       "      <td>Bookcases</td>\n",
       "      <td>Bush Somerset Collection Bookcase</td>\n",
       "      <td>261.9600</td>\n",
       "      <td>2</td>\n",
       "      <td>0.00</td>\n",
       "      <td>41.9136</td>\n",
       "    </tr>\n",
       "    <tr>\n",
       "      <th>1</th>\n",
       "      <td>2</td>\n",
       "      <td>CA-2020-152156</td>\n",
       "      <td>2020-11-08</td>\n",
       "      <td>2020-11-11</td>\n",
       "      <td>Second Class</td>\n",
       "      <td>CG-12520</td>\n",
       "      <td>Claire Gute</td>\n",
       "      <td>Consumer</td>\n",
       "      <td>United States</td>\n",
       "      <td>Henderson</td>\n",
       "      <td>...</td>\n",
       "      <td>42420.0</td>\n",
       "      <td>South</td>\n",
       "      <td>FUR-CH-10000454</td>\n",
       "      <td>Furniture</td>\n",
       "      <td>Chairs</td>\n",
       "      <td>Hon Deluxe Fabric Upholstered Stacking Chairs,...</td>\n",
       "      <td>731.9400</td>\n",
       "      <td>3</td>\n",
       "      <td>0.00</td>\n",
       "      <td>219.5820</td>\n",
       "    </tr>\n",
       "    <tr>\n",
       "      <th>2</th>\n",
       "      <td>3</td>\n",
       "      <td>CA-2020-138688</td>\n",
       "      <td>2020-06-12</td>\n",
       "      <td>2020-06-16</td>\n",
       "      <td>Second Class</td>\n",
       "      <td>DV-13045</td>\n",
       "      <td>Darrin Van Huff</td>\n",
       "      <td>Corporate</td>\n",
       "      <td>United States</td>\n",
       "      <td>Los Angeles</td>\n",
       "      <td>...</td>\n",
       "      <td>90036.0</td>\n",
       "      <td>West</td>\n",
       "      <td>OFF-LA-10000240</td>\n",
       "      <td>Office Supplies</td>\n",
       "      <td>Labels</td>\n",
       "      <td>Self-Adhesive Address Labels for Typewriters b...</td>\n",
       "      <td>14.6200</td>\n",
       "      <td>2</td>\n",
       "      <td>0.00</td>\n",
       "      <td>6.8714</td>\n",
       "    </tr>\n",
       "    <tr>\n",
       "      <th>3</th>\n",
       "      <td>4</td>\n",
       "      <td>US-2019-108966</td>\n",
       "      <td>2019-10-11</td>\n",
       "      <td>2019-10-18</td>\n",
       "      <td>Standard Class</td>\n",
       "      <td>SO-20335</td>\n",
       "      <td>Sean O'Donnell</td>\n",
       "      <td>Consumer</td>\n",
       "      <td>United States</td>\n",
       "      <td>Fort Lauderdale</td>\n",
       "      <td>...</td>\n",
       "      <td>33311.0</td>\n",
       "      <td>South</td>\n",
       "      <td>FUR-TA-10000577</td>\n",
       "      <td>Furniture</td>\n",
       "      <td>Tables</td>\n",
       "      <td>Bretford CR4500 Series Slim Rectangular Table</td>\n",
       "      <td>957.5775</td>\n",
       "      <td>5</td>\n",
       "      <td>0.45</td>\n",
       "      <td>-383.0310</td>\n",
       "    </tr>\n",
       "    <tr>\n",
       "      <th>4</th>\n",
       "      <td>5</td>\n",
       "      <td>US-2019-108966</td>\n",
       "      <td>2019-10-11</td>\n",
       "      <td>2019-10-18</td>\n",
       "      <td>Standard Class</td>\n",
       "      <td>SO-20335</td>\n",
       "      <td>Sean O'Donnell</td>\n",
       "      <td>Consumer</td>\n",
       "      <td>United States</td>\n",
       "      <td>Fort Lauderdale</td>\n",
       "      <td>...</td>\n",
       "      <td>33311.0</td>\n",
       "      <td>South</td>\n",
       "      <td>OFF-ST-10000760</td>\n",
       "      <td>Office Supplies</td>\n",
       "      <td>Storage</td>\n",
       "      <td>Eldon Fold 'N Roll Cart System</td>\n",
       "      <td>22.3680</td>\n",
       "      <td>2</td>\n",
       "      <td>0.20</td>\n",
       "      <td>2.5164</td>\n",
       "    </tr>\n",
       "  </tbody>\n",
       "</table>\n",
       "<p>5 rows × 21 columns</p>\n",
       "</div>"
      ],
      "text/plain": [
       "   Row ID        Order ID Order Date  Ship Date       Ship Mode Customer ID  \\\n",
       "0       1  CA-2020-152156 2020-11-08 2020-11-11    Second Class    CG-12520   \n",
       "1       2  CA-2020-152156 2020-11-08 2020-11-11    Second Class    CG-12520   \n",
       "2       3  CA-2020-138688 2020-06-12 2020-06-16    Second Class    DV-13045   \n",
       "3       4  US-2019-108966 2019-10-11 2019-10-18  Standard Class    SO-20335   \n",
       "4       5  US-2019-108966 2019-10-11 2019-10-18  Standard Class    SO-20335   \n",
       "\n",
       "     Customer Name    Segment Country/Region             City  ...  \\\n",
       "0      Claire Gute   Consumer  United States        Henderson  ...   \n",
       "1      Claire Gute   Consumer  United States        Henderson  ...   \n",
       "2  Darrin Van Huff  Corporate  United States      Los Angeles  ...   \n",
       "3   Sean O'Donnell   Consumer  United States  Fort Lauderdale  ...   \n",
       "4   Sean O'Donnell   Consumer  United States  Fort Lauderdale  ...   \n",
       "\n",
       "  Postal Code  Region       Product ID         Category Sub-Category  \\\n",
       "0     42420.0   South  FUR-BO-10001798        Furniture    Bookcases   \n",
       "1     42420.0   South  FUR-CH-10000454        Furniture       Chairs   \n",
       "2     90036.0    West  OFF-LA-10000240  Office Supplies       Labels   \n",
       "3     33311.0   South  FUR-TA-10000577        Furniture       Tables   \n",
       "4     33311.0   South  OFF-ST-10000760  Office Supplies      Storage   \n",
       "\n",
       "                                        Product Name     Sales  Quantity  \\\n",
       "0                  Bush Somerset Collection Bookcase  261.9600         2   \n",
       "1  Hon Deluxe Fabric Upholstered Stacking Chairs,...  731.9400         3   \n",
       "2  Self-Adhesive Address Labels for Typewriters b...   14.6200         2   \n",
       "3      Bretford CR4500 Series Slim Rectangular Table  957.5775         5   \n",
       "4                     Eldon Fold 'N Roll Cart System   22.3680         2   \n",
       "\n",
       "   Discount    Profit  \n",
       "0      0.00   41.9136  \n",
       "1      0.00  219.5820  \n",
       "2      0.00    6.8714  \n",
       "3      0.45 -383.0310  \n",
       "4      0.20    2.5164  \n",
       "\n",
       "[5 rows x 21 columns]"
      ]
     },
     "execution_count": 22,
     "metadata": {},
     "output_type": "execute_result"
    }
   ],
   "source": [
    "df.head()"
   ]
  },
  {
   "cell_type": "code",
   "execution_count": 9,
   "id": "af7a7635",
   "metadata": {},
   "outputs": [
    {
     "name": "stderr",
     "output_type": "stream",
     "text": [
      "C:\\Users\\acesi\\AppData\\Local\\Temp\\ipykernel_22092\\206103089.py:10: MatplotlibDeprecationWarning: Support for passing numbers through unit converters is deprecated since 3.5 and support will be removed two minor releases later; use Axis.convert_units instead.\n",
      "  lasso = LassoSelector(ax, onselect)\n"
     ]
    },
    {
     "data": {
      "image/png": "[encoded data removed]",
      "text/plain": [
       "<Figure size 432x288 with 1 Axes>"
      ]
     },
     "metadata": {},
     "output_type": "display_data"
    }
   ],
   "source": [
    "from  matplotlib.widgets import LassoSelector\n",
    "x=df['Category']\n",
    "y=df['Sales']\n",
    "\n",
    "ax = plt.subplot()\n",
    "ax.plot(x, y)\n",
    "\n",
    "def onselect(verts):\n",
    "    print(verts)\n",
    "lasso = LassoSelector(ax, onselect)"
   ]
  },
  {
   "cell_type": "code",
   "execution_count": 4,
   "id": "e76c8f7b",
   "metadata": {},
   "outputs": [],
   "source": [
    "import matplotlib.pyplot  as plt\n"
   ]
  },
  {
   "cell_type": "code",
   "execution_count": 7,
   "id": "4ac4b8a3",
   "metadata": {},
   "outputs": [],
   "source": [
    "from  matplotlib.widgets import LassoSelector"
   ]
  },
  {
   "cell_type": "code",
   "execution_count": 20,
   "id": "e0266e29",
   "metadata": {},
   "outputs": [
    {
     "ename": "ValueError",
     "evalue": "x and y must be the same size",
     "output_type": "error",
     "traceback": [
      "\u001b[1;31m---------------------------------------------------------------------------\u001b[0m",
      "\u001b[1;31mValueError\u001b[0m                                Traceback (most recent call last)",
      "\u001b[1;32mc:\\Users\\acesi\\OneDrive\\Desktop\\Aces\\my_practice\\interpretered\\Untitled1.ipynb Cell 148\u001b[0m in \u001b[0;36m<cell line: 7>\u001b[1;34m()\u001b[0m\n\u001b[0;32m      <a href='vscode-notebook-cell:/c%3A/Users/acesi/OneDrive/Desktop/Aces/my_practice/interpretered/Untitled1.ipynb#Y266sZmlsZQ%3D%3D?line=1'>2</a>\u001b[0m plt\u001b[39m.\u001b[39mfigure(figsize\u001b[39m=\u001b[39m(\u001b[39m15\u001b[39m,\u001b[39m8\u001b[39m))\n\u001b[0;32m      <a href='vscode-notebook-cell:/c%3A/Users/acesi/OneDrive/Desktop/Aces/my_practice/interpretered/Untitled1.ipynb#Y266sZmlsZQ%3D%3D?line=5'>6</a>\u001b[0m sns\u001b[39m.\u001b[39mboxplot( y \u001b[39m=\u001b[39m \u001b[39m'\u001b[39m\u001b[39mQuantity\u001b[39m\u001b[39m'\u001b[39m, data \u001b[39m=\u001b[39m df,  ) \u001b[39m#x = 'Region',\u001b[39;00m\n\u001b[1;32m----> <a href='vscode-notebook-cell:/c%3A/Users/acesi/OneDrive/Desktop/Aces/my_practice/interpretered/Untitled1.ipynb#Y266sZmlsZQ%3D%3D?line=6'>7</a>\u001b[0m plt\u001b[39m.\u001b[39;49mscatter(x\u001b[39m=\u001b[39;49m\u001b[39m'\u001b[39;49m\u001b[39mRegion\u001b[39;49m\u001b[39m'\u001b[39;49m,y\u001b[39m=\u001b[39;49mdf[\u001b[39m'\u001b[39;49m\u001b[39mQuantity\u001b[39;49m\u001b[39m'\u001b[39;49m]\u001b[39m.\u001b[39;49msum() ,c\u001b[39m=\u001b[39;49m\u001b[39m'\u001b[39;49m\u001b[39myellow\u001b[39;49m\u001b[39m'\u001b[39;49m, data\u001b[39m=\u001b[39;49mdf)\n\u001b[0;32m      <a href='vscode-notebook-cell:/c%3A/Users/acesi/OneDrive/Desktop/Aces/my_practice/interpretered/Untitled1.ipynb#Y266sZmlsZQ%3D%3D?line=7'>8</a>\u001b[0m plt\u001b[39m.\u001b[39mshow()\n",
      "File \u001b[1;32mc:\\Users\\acesi\\AppData\\Local\\Programs\\Python\\Python310\\lib\\site-packages\\matplotlib\\pyplot.py:2807\u001b[0m, in \u001b[0;36mscatter\u001b[1;34m(x, y, s, c, marker, cmap, norm, vmin, vmax, alpha, linewidths, edgecolors, plotnonfinite, data, **kwargs)\u001b[0m\n\u001b[0;32m   2802\u001b[0m \u001b[39m@_copy_docstring_and_deprecators\u001b[39m(Axes\u001b[39m.\u001b[39mscatter)\n\u001b[0;32m   2803\u001b[0m \u001b[39mdef\u001b[39;00m \u001b[39mscatter\u001b[39m(\n\u001b[0;32m   2804\u001b[0m         x, y, s\u001b[39m=\u001b[39m\u001b[39mNone\u001b[39;00m, c\u001b[39m=\u001b[39m\u001b[39mNone\u001b[39;00m, marker\u001b[39m=\u001b[39m\u001b[39mNone\u001b[39;00m, cmap\u001b[39m=\u001b[39m\u001b[39mNone\u001b[39;00m, norm\u001b[39m=\u001b[39m\u001b[39mNone\u001b[39;00m,\n\u001b[0;32m   2805\u001b[0m         vmin\u001b[39m=\u001b[39m\u001b[39mNone\u001b[39;00m, vmax\u001b[39m=\u001b[39m\u001b[39mNone\u001b[39;00m, alpha\u001b[39m=\u001b[39m\u001b[39mNone\u001b[39;00m, linewidths\u001b[39m=\u001b[39m\u001b[39mNone\u001b[39;00m, \u001b[39m*\u001b[39m,\n\u001b[0;32m   2806\u001b[0m         edgecolors\u001b[39m=\u001b[39m\u001b[39mNone\u001b[39;00m, plotnonfinite\u001b[39m=\u001b[39m\u001b[39mFalse\u001b[39;00m, data\u001b[39m=\u001b[39m\u001b[39mNone\u001b[39;00m, \u001b[39m*\u001b[39m\u001b[39m*\u001b[39mkwargs):\n\u001b[1;32m-> 2807\u001b[0m     __ret \u001b[39m=\u001b[39m gca()\u001b[39m.\u001b[39mscatter(\n\u001b[0;32m   2808\u001b[0m         x, y, s\u001b[39m=\u001b[39ms, c\u001b[39m=\u001b[39mc, marker\u001b[39m=\u001b[39mmarker, cmap\u001b[39m=\u001b[39mcmap, norm\u001b[39m=\u001b[39mnorm,\n\u001b[0;32m   2809\u001b[0m         vmin\u001b[39m=\u001b[39mvmin, vmax\u001b[39m=\u001b[39mvmax, alpha\u001b[39m=\u001b[39malpha, linewidths\u001b[39m=\u001b[39mlinewidths,\n\u001b[0;32m   2810\u001b[0m         edgecolors\u001b[39m=\u001b[39medgecolors, plotnonfinite\u001b[39m=\u001b[39mplotnonfinite,\n\u001b[0;32m   2811\u001b[0m         \u001b[39m*\u001b[39m\u001b[39m*\u001b[39m({\u001b[39m\"\u001b[39m\u001b[39mdata\u001b[39m\u001b[39m\"\u001b[39m: data} \u001b[39mif\u001b[39;00m data \u001b[39mis\u001b[39;00m \u001b[39mnot\u001b[39;00m \u001b[39mNone\u001b[39;00m \u001b[39melse\u001b[39;00m {}), \u001b[39m*\u001b[39m\u001b[39m*\u001b[39mkwargs)\n\u001b[0;32m   2812\u001b[0m     sci(__ret)\n\u001b[0;32m   2813\u001b[0m     \u001b[39mreturn\u001b[39;00m __ret\n",
      "File \u001b[1;32mc:\\Users\\acesi\\AppData\\Local\\Programs\\Python\\Python310\\lib\\site-packages\\matplotlib\\__init__.py:1438\u001b[0m, in \u001b[0;36m_preprocess_data.<locals>.inner\u001b[1;34m(ax, data, *args, **kwargs)\u001b[0m\n\u001b[0;32m   1434\u001b[0m \u001b[39mif\u001b[39;00m label_namer \u001b[39mand\u001b[39;00m \u001b[39m\"\u001b[39m\u001b[39mlabel\u001b[39m\u001b[39m\"\u001b[39m \u001b[39mnot\u001b[39;00m \u001b[39min\u001b[39;00m args_and_kwargs:\n\u001b[0;32m   1435\u001b[0m     new_kwargs[\u001b[39m\"\u001b[39m\u001b[39mlabel\u001b[39m\u001b[39m\"\u001b[39m] \u001b[39m=\u001b[39m _label_from_arg(\n\u001b[0;32m   1436\u001b[0m         args_and_kwargs\u001b[39m.\u001b[39mget(label_namer), auto_label)\n\u001b[1;32m-> 1438\u001b[0m \u001b[39mreturn\u001b[39;00m func(\u001b[39m*\u001b[39mnew_args, \u001b[39m*\u001b[39m\u001b[39m*\u001b[39mnew_kwargs)\n",
      "File \u001b[1;32mc:\\Users\\acesi\\AppData\\Local\\Programs\\Python\\Python310\\lib\\site-packages\\matplotlib\\axes\\_axes.py:4369\u001b[0m, in \u001b[0;36mAxes.scatter\u001b[1;34m(self, x, y, s, c, marker, cmap, norm, vmin, vmax, alpha, linewidths, edgecolors, plotnonfinite, **kwargs)\u001b[0m\n\u001b[0;32m   4367\u001b[0m y \u001b[39m=\u001b[39m np\u001b[39m.\u001b[39mma\u001b[39m.\u001b[39mravel(y)\n\u001b[0;32m   4368\u001b[0m \u001b[39mif\u001b[39;00m x\u001b[39m.\u001b[39msize \u001b[39m!=\u001b[39m y\u001b[39m.\u001b[39msize:\n\u001b[1;32m-> 4369\u001b[0m     \u001b[39mraise\u001b[39;00m \u001b[39mValueError\u001b[39;00m(\u001b[39m\"\u001b[39m\u001b[39mx and y must be the same size\u001b[39m\u001b[39m\"\u001b[39m)\n\u001b[0;32m   4371\u001b[0m \u001b[39mif\u001b[39;00m s \u001b[39mis\u001b[39;00m \u001b[39mNone\u001b[39;00m:\n\u001b[0;32m   4372\u001b[0m     s \u001b[39m=\u001b[39m (\u001b[39m20\u001b[39m \u001b[39mif\u001b[39;00m rcParams[\u001b[39m'\u001b[39m\u001b[39m_internal.classic_mode\u001b[39m\u001b[39m'\u001b[39m] \u001b[39melse\u001b[39;00m\n\u001b[0;32m   4373\u001b[0m          rcParams[\u001b[39m'\u001b[39m\u001b[39mlines.markersize\u001b[39m\u001b[39m'\u001b[39m] \u001b[39m*\u001b[39m\u001b[39m*\u001b[39m \u001b[39m2.0\u001b[39m)\n",
      "\u001b[1;31mValueError\u001b[0m: x and y must be the same size"
     ]
    },
    {
     "data": {
      "image/png": "[encoded data removed]",
      "text/plain": [
       "<Figure size 1080x576 with 1 Axes>"
      ]
     },
     "metadata": {},
     "output_type": "display_data"
    }
   ],
   "source": [
    "sns.set_style(\"whitegrid\")\n",
    "plt.figure(figsize=(15,8))\n",
    "\n",
    "\n",
    "  \n",
    "sns.boxplot( y = 'Quantity', data = df,  ) #x = 'Region',\n",
    "plt.scatter(x='Region',y=df['Quantity'].sum() ,c='yellow', data=df)\n",
    "plt.show()"
   ]
  },
  {
   "cell_type": "code",
   "execution_count": 35,
   "id": "2f9933cc",
   "metadata": {},
   "outputs": [
    {
     "data": {
      "text/plain": [
       "17"
      ]
     },
     "execution_count": 35,
     "metadata": {},
     "output_type": "execute_result"
    }
   ],
   "source": [
    "len(df['Sub-Category'].unique())"
   ]
  },
  {
   "cell_type": "code",
   "execution_count": 55,
   "id": "85ffaadb",
   "metadata": {},
   "outputs": [
    {
     "data": {
      "text/plain": [
       "<AxesSubplot:>"
      ]
     },
     "execution_count": 55,
     "metadata": {},
     "output_type": "execute_result"
    },
    {
     "data": {
      "image/png": "[encoded data removed]",
      "text/plain": [
       "<Figure size 432x288 with 1 Axes>"
      ]
     },
     "metadata": {},
     "output_type": "display_data"
    }
   ],
   "source": [
    "\n",
    "df.boxplot( column =['Quantity'], grid = False)"
   ]
  },
  {
   "cell_type": "code",
   "execution_count": null,
   "id": "9bd18d39",
   "metadata": {},
   "outputs": [],
   "source": []
  },
  {
   "cell_type": "code",
   "execution_count": 35,
   "id": "29e65f42",
   "metadata": {},
   "outputs": [],
   "source": [
    "import random\n",
    "colors_ = lambda n: list(map(lambda i: \"#\" + \"%06x\" % random.randint(0, 0xFFFFFF),range(n)))"
   ]
  },
  {
   "cell_type": "code",
   "execution_count": 46,
   "id": "c82cd07f",
   "metadata": {},
   "outputs": [],
   "source": [
    "l = list(map(colors_, [10]))"
   ]
  },
  {
   "cell_type": "code",
   "execution_count": 47,
   "id": "c847fcbe",
   "metadata": {},
   "outputs": [
    {
     "data": {
      "text/plain": [
       "['#748e7d',\n",
       " '#2f2b91',\n",
       " '#9289ec',\n",
       " '#8a68fe',\n",
       " '#4b7194',\n",
       " '#661a21',\n",
       " '#3bdafd',\n",
       " '#49c330',\n",
       " '#b0a8a8',\n",
       " '#37e2ac']"
      ]
     },
     "execution_count": 47,
     "metadata": {},
     "output_type": "execute_result"
    }
   ],
   "source": [
    "l[0]"
   ]
  },
  {
   "cell_type": "code",
   "execution_count": null,
   "id": "6249e484",
   "metadata": {},
   "outputs": [],
   "source": []
  }
 ],
 "metadata": {
  "kernelspec": {
   "display_name": "Python 3 (ipykernel)",
   "language": "python",
   "name": "python3"
  },
  "language_info": {
   "codemirror_mode": {
    "name": "ipython",
    "version": 3
   },
   "file_extension": ".py",
   "mimetype": "text/x-python",
   "name": "python",
   "nbconvert_exporter": "python",
   "pygments_lexer": "ipython3",
   "version": "3.10.1"
  },
  "vscode": {
   "interpreter": {
    "hash": "d04a30ed7efa9946bbf54e8522ecde81045e751650f4229218e182d8e856a0ad"
   }
  }
 },
 "nbformat": 4,
 "nbformat_minor": 5
}
