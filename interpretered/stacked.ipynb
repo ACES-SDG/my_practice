{
 "cells": [
  {
   "cell_type": "code",
   "execution_count": 2,
   "metadata": {},
   "outputs": [],
   "source": [
    "import pandas as pd\n",
    "import matplotlib.pyplot as plt\n",
    "import seaborn as sns"
   ]
  },
  {
   "cell_type": "code",
   "execution_count": 3,
   "metadata": {},
   "outputs": [],
   "source": [
    "df = pd.read_excel(\"C:/Users/acesi/OneDrive/Desktop/Excel_files/Sample - Superstore2.xlsx\")"
   ]
  },
  {
   "cell_type": "code",
   "execution_count": 12,
   "metadata": {},
   "outputs": [
    {
     "data": {
      "image/png": "[encoded data removed]",
      "text/plain": [
       "<Figure size 1080x504 with 1 Axes>"
      ]
     },
     "metadata": {
      "needs_background": "light"
     },
     "output_type": "display_data"
    }
   ],
   "source": [
    "g_data = df.groupby(['Region','Sub-Category']).aggregate({'Sales':sum}).unstack(-2).plot(kind = 'bar',stacked= True,figsize = (15,7) )"
   ]
  },
  {
   "cell_type": "code",
   "execution_count": 5,
   "metadata": {},
   "outputs": [
    {
     "data": {
      "text/html": [
       "<div>\n",
       "<style scoped>\n",
       "    .dataframe tbody tr th:only-of-type {\n",
       "        vertical-align: middle;\n",
       "    }\n",
       "\n",
       "    .dataframe tbody tr th {\n",
       "        vertical-align: top;\n",
       "    }\n",
       "\n",
       "    .dataframe thead tr th {\n",
       "        text-align: left;\n",
       "    }\n",
       "\n",
       "    .dataframe thead tr:last-of-type th {\n",
       "        text-align: right;\n",
       "    }\n",
       "</style>\n",
       "<table border=\"1\" class=\"dataframe\">\n",
       "  <thead>\n",
       "    <tr>\n",
       "      <th></th>\n",
       "      <th colspan=\"3\" halign=\"left\">Sales</th>\n",
       "    </tr>\n",
       "    <tr>\n",
       "      <th>Category</th>\n",
       "      <th>Furniture</th>\n",
       "      <th>Office Supplies</th>\n",
       "      <th>Technology</th>\n",
       "    </tr>\n",
       "    <tr>\n",
       "      <th>Sub-Category</th>\n",
       "      <th></th>\n",
       "      <th></th>\n",
       "      <th></th>\n",
       "    </tr>\n",
       "  </thead>\n",
       "  <tbody>\n",
       "    <tr>\n",
       "      <th>Accessories</th>\n",
       "      <td>NaN</td>\n",
       "      <td>NaN</td>\n",
       "      <td>167380.318</td>\n",
       "    </tr>\n",
       "    <tr>\n",
       "      <th>Appliances</th>\n",
       "      <td>NaN</td>\n",
       "      <td>107532.161</td>\n",
       "      <td>NaN</td>\n",
       "    </tr>\n",
       "    <tr>\n",
       "      <th>Art</th>\n",
       "      <td>NaN</td>\n",
       "      <td>27118.792</td>\n",
       "      <td>NaN</td>\n",
       "    </tr>\n",
       "    <tr>\n",
       "      <th>Binders</th>\n",
       "      <td>NaN</td>\n",
       "      <td>203412.733</td>\n",
       "      <td>NaN</td>\n",
       "    </tr>\n",
       "    <tr>\n",
       "      <th>Bookcases</th>\n",
       "      <td>114879.9963</td>\n",
       "      <td>NaN</td>\n",
       "      <td>NaN</td>\n",
       "    </tr>\n",
       "    <tr>\n",
       "      <th>Chairs</th>\n",
       "      <td>328449.1030</td>\n",
       "      <td>NaN</td>\n",
       "      <td>NaN</td>\n",
       "    </tr>\n",
       "    <tr>\n",
       "      <th>Copiers</th>\n",
       "      <td>NaN</td>\n",
       "      <td>NaN</td>\n",
       "      <td>149528.030</td>\n",
       "    </tr>\n",
       "    <tr>\n",
       "      <th>Envelopes</th>\n",
       "      <td>NaN</td>\n",
       "      <td>16476.402</td>\n",
       "      <td>NaN</td>\n",
       "    </tr>\n",
       "    <tr>\n",
       "      <th>Fasteners</th>\n",
       "      <td>NaN</td>\n",
       "      <td>3024.280</td>\n",
       "      <td>NaN</td>\n",
       "    </tr>\n",
       "    <tr>\n",
       "      <th>Furnishings</th>\n",
       "      <td>91705.1640</td>\n",
       "      <td>NaN</td>\n",
       "      <td>NaN</td>\n",
       "    </tr>\n",
       "    <tr>\n",
       "      <th>Labels</th>\n",
       "      <td>NaN</td>\n",
       "      <td>12486.312</td>\n",
       "      <td>NaN</td>\n",
       "    </tr>\n",
       "    <tr>\n",
       "      <th>Machines</th>\n",
       "      <td>NaN</td>\n",
       "      <td>NaN</td>\n",
       "      <td>189238.631</td>\n",
       "    </tr>\n",
       "    <tr>\n",
       "      <th>Paper</th>\n",
       "      <td>NaN</td>\n",
       "      <td>78479.206</td>\n",
       "      <td>NaN</td>\n",
       "    </tr>\n",
       "    <tr>\n",
       "      <th>Phones</th>\n",
       "      <td>NaN</td>\n",
       "      <td>NaN</td>\n",
       "      <td>330007.054</td>\n",
       "    </tr>\n",
       "    <tr>\n",
       "      <th>Storage</th>\n",
       "      <td>NaN</td>\n",
       "      <td>223843.608</td>\n",
       "      <td>NaN</td>\n",
       "    </tr>\n",
       "    <tr>\n",
       "      <th>Supplies</th>\n",
       "      <td>NaN</td>\n",
       "      <td>46673.538</td>\n",
       "      <td>NaN</td>\n",
       "    </tr>\n",
       "    <tr>\n",
       "      <th>Tables</th>\n",
       "      <td>206965.5320</td>\n",
       "      <td>NaN</td>\n",
       "      <td>NaN</td>\n",
       "    </tr>\n",
       "  </tbody>\n",
       "</table>\n",
       "</div>"
      ],
      "text/plain": [
       "                    Sales                            \n",
       "Category        Furniture Office Supplies  Technology\n",
       "Sub-Category                                         \n",
       "Accessories           NaN             NaN  167380.318\n",
       "Appliances            NaN      107532.161         NaN\n",
       "Art                   NaN       27118.792         NaN\n",
       "Binders               NaN      203412.733         NaN\n",
       "Bookcases     114879.9963             NaN         NaN\n",
       "Chairs        328449.1030             NaN         NaN\n",
       "Copiers               NaN             NaN  149528.030\n",
       "Envelopes             NaN       16476.402         NaN\n",
       "Fasteners             NaN        3024.280         NaN\n",
       "Furnishings    91705.1640             NaN         NaN\n",
       "Labels                NaN       12486.312         NaN\n",
       "Machines              NaN             NaN  189238.631\n",
       "Paper                 NaN       78479.206         NaN\n",
       "Phones                NaN             NaN  330007.054\n",
       "Storage               NaN      223843.608         NaN\n",
       "Supplies              NaN       46673.538         NaN\n",
       "Tables        206965.5320             NaN         NaN"
      ]
     },
     "execution_count": 5,
     "metadata": {},
     "output_type": "execute_result"
    }
   ],
   "source": [
    "g_data"
   ]
  },
  {
   "cell_type": "code",
   "execution_count": 6,
   "metadata": {},
   "outputs": [
    {
     "data": {
      "text/plain": [
       "Index(['Accessories', 'Appliances', 'Art', 'Binders', 'Bookcases', 'Chairs',\n",
       "       'Copiers', 'Envelopes', 'Fasteners', 'Furnishings', 'Labels',\n",
       "       'Machines', 'Paper', 'Phones', 'Storage', 'Supplies', 'Tables'],\n",
       "      dtype='object', name='Sub-Category')"
      ]
     },
     "execution_count": 6,
     "metadata": {},
     "output_type": "execute_result"
    }
   ],
   "source": [
    "g_data.index"
   ]
  },
  {
   "cell_type": "code",
   "execution_count": 7,
   "metadata": {},
   "outputs": [
    {
     "data": {
      "text/plain": [
       "[('Sales', 'Furniture'), ('Sales', 'Office Supplies'), ('Sales', 'Technology')]"
      ]
     },
     "execution_count": 7,
     "metadata": {},
     "output_type": "execute_result"
    }
   ],
   "source": [
    "list(g_data.columns)"
   ]
  },
  {
   "cell_type": "code",
   "execution_count": 8,
   "metadata": {},
   "outputs": [
    {
     "data": {
      "text/plain": [
       "array([[        nan,         nan, 167380.318 ],\n",
       "       [        nan, 107532.161 ,         nan],\n",
       "       [        nan,  27118.792 ,         nan],\n",
       "       [        nan, 203412.733 ,         nan],\n",
       "       [114879.9963,         nan,         nan],\n",
       "       [328449.103 ,         nan,         nan],\n",
       "       [        nan,         nan, 149528.03  ],\n",
       "       [        nan,  16476.402 ,         nan],\n",
       "       [        nan,   3024.28  ,         nan],\n",
       "       [ 91705.164 ,         nan,         nan],\n",
       "       [        nan,  12486.312 ,         nan],\n",
       "       [        nan,         nan, 189238.631 ],\n",
       "       [        nan,  78479.206 ,         nan],\n",
       "       [        nan,         nan, 330007.054 ],\n",
       "       [        nan, 223843.608 ,         nan],\n",
       "       [        nan,  46673.538 ,         nan],\n",
       "       [206965.532 ,         nan,         nan]])"
      ]
     },
     "execution_count": 8,
     "metadata": {},
     "output_type": "execute_result"
    }
   ],
   "source": [
    "g_data.values"
   ]
  },
  {
   "cell_type": "code",
   "execution_count": 10,
   "metadata": {},
   "outputs": [
    {
     "data": {
      "text/plain": [
       "array([167380.318,        nan,        nan,        nan,        nan,\n",
       "              nan, 149528.03 ,        nan,        nan,        nan,\n",
       "              nan, 189238.631,        nan, 330007.054,        nan,\n",
       "              nan,        nan])"
      ]
     },
     "execution_count": 10,
     "metadata": {},
     "output_type": "execute_result"
    }
   ],
   "source": [
    "g_data[('Sales', 'Technology')].values"
   ]
  },
  {
   "cell_type": "code",
   "execution_count": 6,
   "metadata": {},
   "outputs": [],
   "source": [
    "dict_data = dict(g_data)"
   ]
  },
  {
   "cell_type": "code",
   "execution_count": 14,
   "metadata": {},
   "outputs": [
    {
     "data": {
      "text/plain": [
       "dict_keys([('Sales', 'Central'), ('Sales', 'East'), ('Sales', 'South'), ('Sales', 'West')])"
      ]
     },
     "execution_count": 14,
     "metadata": {},
     "output_type": "execute_result"
    }
   ],
   "source": [
    "dict_data.keys()"
   ]
  },
  {
   "cell_type": "code",
   "execution_count": 15,
   "metadata": {},
   "outputs": [],
   "source": [
    "central = dict_data.get(('Sales', 'Central'))\n",
    "East = dict_data.get(('Sales', 'East'))\n",
    "South = dict_data.get(('Sales', 'South'))\n",
    "West = dict_data.get(('Sales', 'West'))\n"
   ]
  },
  {
   "cell_type": "code",
   "execution_count": 19,
   "metadata": {},
   "outputs": [
    {
     "data": {
      "text/plain": [
       "array([ 61114.116 ,  30236.336 ,   9212.066 ,  55961.113 ,  36004.1235,\n",
       "       101781.328 ,  49749.242 ,   4118.1   ,    923.216 ,  30072.73  ,\n",
       "         5078.726 ,  42444.122 ,  26663.718 ,  98684.352 ,  70532.852 ,\n",
       "        18127.122 ,  84754.562 ])"
      ]
     },
     "execution_count": 19,
     "metadata": {},
     "output_type": "execute_result"
    }
   ],
   "source": [
    "West.values"
   ]
  },
  {
   "cell_type": "code",
   "execution_count": 23,
   "metadata": {},
   "outputs": [],
   "source": [
    "all_val = [central,East,South,West]"
   ]
  },
  {
   "cell_type": "code",
   "execution_count": 27,
   "metadata": {},
   "outputs": [
    {
     "name": "stdout",
     "output_type": "stream",
     "text": [
      "[33956.076  23582.033   5765.34   56923.282  24157.1768 85230.646\n",
      " 37259.57    4636.872    778.03   15254.37    2451.472  26797.384\n",
      " 17491.902  72403.282  45930.112   9467.372  39154.971 ]\n",
      "[ 45033.372  34188.466   7485.764  53497.997  43819.334  96260.683\n",
      "  53219.462   4375.874    819.718  29071.38    2602.934  66106.165\n",
      "  20172.602 100614.982  71612.584  10760.116  39139.807]\n",
      "[27276.754 19525.326  4655.622 37030.341 10899.362 45176.446  9299.756\n",
      "  3345.556   503.316 17306.684  2353.18  53890.96  14150.984 58304.438\n",
      " 35768.06   8318.928 43916.192]\n",
      "[ 61114.116   30236.336    9212.066   55961.113   36004.1235 101781.328\n",
      "  49749.242    4118.1       923.216   30072.73     5078.726   42444.122\n",
      "  26663.718   98684.352   70532.852   18127.122   84754.562 ]\n"
     ]
    }
   ],
   "source": [
    "for i in all_val:\n",
    "    print(i.values)"
   ]
  },
  {
   "cell_type": "code",
   "execution_count": 30,
   "metadata": {},
   "outputs": [
    {
     "data": {
      "image/png": "[encoded data removed]",
      "text/plain": [
       "<Figure size 504x360 with 1 Axes>"
      ]
     },
     "metadata": {
      "needs_background": "light"
     },
     "output_type": "display_data"
    }
   ],
   "source": [
    "fig, ax = plt.subplots(figsize =(7, 5))"
   ]
  },
  {
   "cell_type": "code",
   "execution_count": null,
   "metadata": {},
   "outputs": [],
   "source": [
    "for i in all_val:\n",
    "    plt.bar(df['Sub-Category'],i.values,)"
   ]
  },
  {
   "cell_type": "code",
   "execution_count": null,
   "metadata": {},
   "outputs": [],
   "source": []
  },
  {
   "cell_type": "code",
   "execution_count": 3,
   "metadata": {},
   "outputs": [
    {
     "data": {
      "text/plain": [
       "<AxesSubplot:xlabel='Sub-Category'>"
      ]
     },
     "execution_count": 3,
     "metadata": {},
     "output_type": "execute_result"
    },
    {
     "data": {
      "image/png": "[encoded data removed]",
      "text/plain": [
       "<Figure size 1080x504 with 1 Axes>"
      ]
     },
     "metadata": {
      "needs_background": "light"
     },
     "output_type": "display_data"
    }
   ],
   "source": [
    "df.groupby(['Region','Sub-Category']).aggregate({'Sales':sum}).unstack(-2).plot(kind = 'bar',stacked= True,figsize = (15,7) )"
   ]
  },
  {
   "cell_type": "code",
   "execution_count": null,
   "metadata": {},
   "outputs": [],
   "source": []
  }
 ],
 "metadata": {
  "kernelspec": {
   "display_name": "Python 3.10.1 64-bit",
   "language": "python",
   "name": "python3"
  },
  "language_info": {
   "codemirror_mode": {
    "name": "ipython",
    "version": 3
   },
   "file_extension": ".py",
   "mimetype": "text/x-python",
   "name": "python",
   "nbconvert_exporter": "python",
   "pygments_lexer": "ipython3",
   "version": "3.10.1"
  },
  "orig_nbformat": 4,
  "vscode": {
   "interpreter": {
    "hash": "d04a30ed7efa9946bbf54e8522ecde81045e751650f4229218e182d8e856a0ad"
   }
  }
 },
 "nbformat": 4,
 "nbformat_minor": 2
}
