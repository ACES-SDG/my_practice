{
 "cells": [
  {
   "cell_type": "code",
   "execution_count": 1,
   "metadata": {},
   "outputs": [],
   "source": [
    "import pandas as pd\n",
    "import matplotlib.pyplot as plt\n",
    "import seaborn as sns"
   ]
  },
  {
   "cell_type": "code",
   "execution_count": 2,
   "metadata": {},
   "outputs": [],
   "source": [
    "df = pd.read_excel(\"C:/Users/acesi/OneDrive/Desktop/Excel_files/Sample - Superstore2.xlsx\")"
   ]
  },
  {
   "cell_type": "code",
   "execution_count": 12,
   "metadata": {},
   "outputs": [
    {
     "data": {
      "image/png": "[encoded data removed]",
      "text/plain": [
       "<Figure size 1080x504 with 1 Axes>"
      ]
     },
     "metadata": {
      "needs_background": "light"
     },
     "output_type": "display_data"
    }
   ],
   "source": [
    "g_data = df.groupby(['Region','Sub-Category']).aggregate({'Sales':sum}).unstack(-2).plot(kind = 'bar',stacked= True,figsize = (15,7) )"
   ]
  },
  {
   "cell_type": "code",
   "execution_count": 5,
   "metadata": {},
   "outputs": [
    {
     "data": {
      "text/html": [
       "<div>\n",
       "<style scoped>\n",
       "    .dataframe tbody tr th:only-of-type {\n",
       "        vertical-align: middle;\n",
       "    }\n",
       "\n",
       "    .dataframe tbody tr th {\n",
       "        vertical-align: top;\n",
       "    }\n",
       "\n",
       "    .dataframe thead tr th {\n",
       "        text-align: left;\n",
       "    }\n",
       "\n",
       "    .dataframe thead tr:last-of-type th {\n",
       "        text-align: right;\n",
       "    }\n",
       "</style>\n",
       "<table border=\"1\" class=\"dataframe\">\n",
       "  <thead>\n",
       "    <tr>\n",
       "      <th></th>\n",
       "      <th colspan=\"3\" halign=\"left\">Sales</th>\n",
       "    </tr>\n",
       "    <tr>\n",
       "      <th>Category</th>\n",
       "      <th>Furniture</th>\n",
       "      <th>Office Supplies</th>\n",
       "      <th>Technology</th>\n",
       "    </tr>\n",
       "    <tr>\n",
       "      <th>Sub-Category</th>\n",
       "      <th></th>\n",
       "      <th></th>\n",
       "      <th></th>\n",
       "    </tr>\n",
       "  </thead>\n",
       "  <tbody>\n",
       "    <tr>\n",
       "      <th>Accessories</th>\n",
       "      <td>NaN</td>\n",
       "      <td>NaN</td>\n",
       "      <td>167380.318</td>\n",
       "    </tr>\n",
       "    <tr>\n",
       "      <th>Appliances</th>\n",
       "      <td>NaN</td>\n",
       "      <td>107532.161</td>\n",
       "      <td>NaN</td>\n",
       "    </tr>\n",
       "    <tr>\n",
       "      <th>Art</th>\n",
       "      <td>NaN</td>\n",
       "      <td>27118.792</td>\n",
       "      <td>NaN</td>\n",
       "    </tr>\n",
       "    <tr>\n",
       "      <th>Binders</th>\n",
       "      <td>NaN</td>\n",
       "      <td>203412.733</td>\n",
       "      <td>NaN</td>\n",
       "    </tr>\n",
       "    <tr>\n",
       "      <th>Bookcases</th>\n",
       "      <td>114879.9963</td>\n",
       "      <td>NaN</td>\n",
       "      <td>NaN</td>\n",
       "    </tr>\n",
       "    <tr>\n",
       "      <th>Chairs</th>\n",
       "      <td>328449.1030</td>\n",
       "      <td>NaN</td>\n",
       "      <td>NaN</td>\n",
       "    </tr>\n",
       "    <tr>\n",
       "      <th>Copiers</th>\n",
       "      <td>NaN</td>\n",
       "      <td>NaN</td>\n",
       "      <td>149528.030</td>\n",
       "    </tr>\n",
       "    <tr>\n",
       "      <th>Envelopes</th>\n",
       "      <td>NaN</td>\n",
       "      <td>16476.402</td>\n",
       "      <td>NaN</td>\n",
       "    </tr>\n",
       "    <tr>\n",
       "      <th>Fasteners</th>\n",
       "      <td>NaN</td>\n",
       "      <td>3024.280</td>\n",
       "      <td>NaN</td>\n",
       "    </tr>\n",
       "    <tr>\n",
       "      <th>Furnishings</th>\n",
       "      <td>91705.1640</td>\n",
       "      <td>NaN</td>\n",
       "      <td>NaN</td>\n",
       "    </tr>\n",
       "    <tr>\n",
       "      <th>Labels</th>\n",
       "      <td>NaN</td>\n",
       "      <td>12486.312</td>\n",
       "      <td>NaN</td>\n",
       "    </tr>\n",
       "    <tr>\n",
       "      <th>Machines</th>\n",
       "      <td>NaN</td>\n",
       "      <td>NaN</td>\n",
       "      <td>189238.631</td>\n",
       "    </tr>\n",
       "    <tr>\n",
       "      <th>Paper</th>\n",
       "      <td>NaN</td>\n",
       "      <td>78479.206</td>\n",
       "      <td>NaN</td>\n",
       "    </tr>\n",
       "    <tr>\n",
       "      <th>Phones</th>\n",
       "      <td>NaN</td>\n",
       "      <td>NaN</td>\n",
       "      <td>330007.054</td>\n",
       "    </tr>\n",
       "    <tr>\n",
       "      <th>Storage</th>\n",
       "      <td>NaN</td>\n",
       "      <td>223843.608</td>\n",
       "      <td>NaN</td>\n",
       "    </tr>\n",
       "    <tr>\n",
       "      <th>Supplies</th>\n",
       "      <td>NaN</td>\n",
       "      <td>46673.538</td>\n",
       "      <td>NaN</td>\n",
       "    </tr>\n",
       "    <tr>\n",
       "      <th>Tables</th>\n",
       "      <td>206965.5320</td>\n",
       "      <td>NaN</td>\n",
       "      <td>NaN</td>\n",
       "    </tr>\n",
       "  </tbody>\n",
       "</table>\n",
       "</div>"
      ],
      "text/plain": [
       "                    Sales                            \n",
       "Category        Furniture Office Supplies  Technology\n",
       "Sub-Category                                         \n",
       "Accessories           NaN             NaN  167380.318\n",
       "Appliances            NaN      107532.161         NaN\n",
       "Art                   NaN       27118.792         NaN\n",
       "Binders               NaN      203412.733         NaN\n",
       "Bookcases     114879.9963             NaN         NaN\n",
       "Chairs        328449.1030             NaN         NaN\n",
       "Copiers               NaN             NaN  149528.030\n",
       "Envelopes             NaN       16476.402         NaN\n",
       "Fasteners             NaN        3024.280         NaN\n",
       "Furnishings    91705.1640             NaN         NaN\n",
       "Labels                NaN       12486.312         NaN\n",
       "Machines              NaN             NaN  189238.631\n",
       "Paper                 NaN       78479.206         NaN\n",
       "Phones                NaN             NaN  330007.054\n",
       "Storage               NaN      223843.608         NaN\n",
       "Supplies              NaN       46673.538         NaN\n",
       "Tables        206965.5320             NaN         NaN"
      ]
     },
     "execution_count": 5,
     "metadata": {},
     "output_type": "execute_result"
    }
   ],
   "source": [
    "g_data"
   ]
  },
  {
   "cell_type": "code",
   "execution_count": 6,
   "metadata": {},
   "outputs": [
    {
     "data": {
      "text/plain": [
       "Index(['Accessories', 'Appliances', 'Art', 'Binders', 'Bookcases', 'Chairs',\n",
       "       'Copiers', 'Envelopes', 'Fasteners', 'Furnishings', 'Labels',\n",
       "       'Machines', 'Paper', 'Phones', 'Storage', 'Supplies', 'Tables'],\n",
       "      dtype='object', name='Sub-Category')"
      ]
     },
     "execution_count": 6,
     "metadata": {},
     "output_type": "execute_result"
    }
   ],
   "source": [
    "g_data.index"
   ]
  },
  {
   "cell_type": "code",
   "execution_count": 7,
   "metadata": {},
   "outputs": [
    {
     "data": {
      "text/plain": [
       "[('Sales', 'Furniture'), ('Sales', 'Office Supplies'), ('Sales', 'Technology')]"
      ]
     },
     "execution_count": 7,
     "metadata": {},
     "output_type": "execute_result"
    }
   ],
   "source": [
    "list(g_data.columns)"
   ]
  },
  {
   "cell_type": "code",
   "execution_count": 8,
   "metadata": {},
   "outputs": [
    {
     "data": {
      "text/plain": [
       "array([[        nan,         nan, 167380.318 ],\n",
       "       [        nan, 107532.161 ,         nan],\n",
       "       [        nan,  27118.792 ,         nan],\n",
       "       [        nan, 203412.733 ,         nan],\n",
       "       [114879.9963,         nan,         nan],\n",
       "       [328449.103 ,         nan,         nan],\n",
       "       [        nan,         nan, 149528.03  ],\n",
       "       [        nan,  16476.402 ,         nan],\n",
       "       [        nan,   3024.28  ,         nan],\n",
       "       [ 91705.164 ,         nan,         nan],\n",
       "       [        nan,  12486.312 ,         nan],\n",
       "       [        nan,         nan, 189238.631 ],\n",
       "       [        nan,  78479.206 ,         nan],\n",
       "       [        nan,         nan, 330007.054 ],\n",
       "       [        nan, 223843.608 ,         nan],\n",
       "       [        nan,  46673.538 ,         nan],\n",
       "       [206965.532 ,         nan,         nan]])"
      ]
     },
     "execution_count": 8,
     "metadata": {},
     "output_type": "execute_result"
    }
   ],
   "source": [
    "g_data.values"
   ]
  },
  {
   "cell_type": "code",
   "execution_count": 10,
   "metadata": {},
   "outputs": [
    {
     "data": {
      "text/plain": [
       "array([167380.318,        nan,        nan,        nan,        nan,\n",
       "              nan, 149528.03 ,        nan,        nan,        nan,\n",
       "              nan, 189238.631,        nan, 330007.054,        nan,\n",
       "              nan,        nan])"
      ]
     },
     "execution_count": 10,
     "metadata": {},
     "output_type": "execute_result"
    }
   ],
   "source": [
    "g_data[('Sales', 'Technology')].values"
   ]
  },
  {
   "cell_type": "code",
   "execution_count": 6,
   "metadata": {},
   "outputs": [],
   "source": [
    "dict_data = dict(g_data)"
   ]
  },
  {
   "cell_type": "code",
   "execution_count": 14,
   "metadata": {},
   "outputs": [
    {
     "data": {
      "text/plain": [
       "dict_keys([('Sales', 'Central'), ('Sales', 'East'), ('Sales', 'South'), ('Sales', 'West')])"
      ]
     },
     "execution_count": 14,
     "metadata": {},
     "output_type": "execute_result"
    }
   ],
   "source": [
    "dict_data.keys()"
   ]
  },
  {
   "cell_type": "code",
   "execution_count": 15,
   "metadata": {},
   "outputs": [],
   "source": [
    "central = dict_data.get(('Sales', 'Central'))\n",
    "East = dict_data.get(('Sales', 'East'))\n",
    "South = dict_data.get(('Sales', 'South'))\n",
    "West = dict_data.get(('Sales', 'West'))\n"
   ]
  },
  {
   "cell_type": "code",
   "execution_count": 19,
   "metadata": {},
   "outputs": [
    {
     "data": {
      "text/plain": [
       "array([ 61114.116 ,  30236.336 ,   9212.066 ,  55961.113 ,  36004.1235,\n",
       "       101781.328 ,  49749.242 ,   4118.1   ,    923.216 ,  30072.73  ,\n",
       "         5078.726 ,  42444.122 ,  26663.718 ,  98684.352 ,  70532.852 ,\n",
       "        18127.122 ,  84754.562 ])"
      ]
     },
     "execution_count": 19,
     "metadata": {},
     "output_type": "execute_result"
    }
   ],
   "source": [
    "West.values"
   ]
  },
  {
   "cell_type": "code",
   "execution_count": 23,
   "metadata": {},
   "outputs": [],
   "source": [
    "all_val = [central,East,South,West]"
   ]
  },
  {
   "cell_type": "code",
   "execution_count": 27,
   "metadata": {},
   "outputs": [
    {
     "name": "stdout",
     "output_type": "stream",
     "text": [
      "[33956.076  23582.033   5765.34   56923.282  24157.1768 85230.646\n",
      " 37259.57    4636.872    778.03   15254.37    2451.472  26797.384\n",
      " 17491.902  72403.282  45930.112   9467.372  39154.971 ]\n",
      "[ 45033.372  34188.466   7485.764  53497.997  43819.334  96260.683\n",
      "  53219.462   4375.874    819.718  29071.38    2602.934  66106.165\n",
      "  20172.602 100614.982  71612.584  10760.116  39139.807]\n",
      "[27276.754 19525.326  4655.622 37030.341 10899.362 45176.446  9299.756\n",
      "  3345.556   503.316 17306.684  2353.18  53890.96  14150.984 58304.438\n",
      " 35768.06   8318.928 43916.192]\n",
      "[ 61114.116   30236.336    9212.066   55961.113   36004.1235 101781.328\n",
      "  49749.242    4118.1       923.216   30072.73     5078.726   42444.122\n",
      "  26663.718   98684.352   70532.852   18127.122   84754.562 ]\n"
     ]
    }
   ],
   "source": [
    "for i in all_val:\n",
    "    print(i.values)"
   ]
  },
  {
   "cell_type": "code",
   "execution_count": 30,
   "metadata": {},
   "outputs": [
    {
     "data": {
      "image/png": "[encoded data removed]",
      "text/plain": [
       "<Figure size 504x360 with 1 Axes>"
      ]
     },
     "metadata": {
      "needs_background": "light"
     },
     "output_type": "display_data"
    }
   ],
   "source": [
    "fig, ax = plt.subplots(figsize =(7, 5))"
   ]
  },
  {
   "cell_type": "code",
   "execution_count": null,
   "metadata": {},
   "outputs": [],
   "source": [
    "for i in all_val:\n",
    "    plt.bar(df['Sub-Category'],i.values,)"
   ]
  },
  {
   "cell_type": "code",
   "execution_count": 33,
   "metadata": {},
   "outputs": [],
   "source": [
    "df = df.sort_values('Sales',ascending=True)\n"
   ]
  },
  {
   "cell_type": "code",
   "execution_count": 75,
   "metadata": {},
   "outputs": [],
   "source": [
    "df_grouped = df.groupby(['Category','Sub-Category']).aggregate({'Sales':sum}).unstack(-2)"
   ]
  },
  {
   "cell_type": "code",
   "execution_count": 76,
   "metadata": {},
   "outputs": [
    {
     "data": {
      "text/html": [
       "<div>\n",
       "<style scoped>\n",
       "    .dataframe tbody tr th:only-of-type {\n",
       "        vertical-align: middle;\n",
       "    }\n",
       "\n",
       "    .dataframe tbody tr th {\n",
       "        vertical-align: top;\n",
       "    }\n",
       "\n",
       "    .dataframe thead th {\n",
       "        text-align: right;\n",
       "    }\n",
       "</style>\n",
       "<table border=\"1\" class=\"dataframe\">\n",
       "  <thead>\n",
       "    <tr style=\"text-align: right;\">\n",
       "      <th>Category</th>\n",
       "      <th>Furniture</th>\n",
       "      <th>Office Supplies</th>\n",
       "      <th>Technology</th>\n",
       "    </tr>\n",
       "    <tr>\n",
       "      <th>Sub-Category</th>\n",
       "      <th></th>\n",
       "      <th></th>\n",
       "      <th></th>\n",
       "    </tr>\n",
       "  </thead>\n",
       "  <tbody>\n",
       "    <tr>\n",
       "      <th>Accessories</th>\n",
       "      <td>NaN</td>\n",
       "      <td>NaN</td>\n",
       "      <td>167380.318</td>\n",
       "    </tr>\n",
       "    <tr>\n",
       "      <th>Appliances</th>\n",
       "      <td>NaN</td>\n",
       "      <td>107532.161</td>\n",
       "      <td>NaN</td>\n",
       "    </tr>\n",
       "    <tr>\n",
       "      <th>Art</th>\n",
       "      <td>NaN</td>\n",
       "      <td>27118.792</td>\n",
       "      <td>NaN</td>\n",
       "    </tr>\n",
       "    <tr>\n",
       "      <th>Binders</th>\n",
       "      <td>NaN</td>\n",
       "      <td>203412.733</td>\n",
       "      <td>NaN</td>\n",
       "    </tr>\n",
       "    <tr>\n",
       "      <th>Bookcases</th>\n",
       "      <td>114879.9963</td>\n",
       "      <td>NaN</td>\n",
       "      <td>NaN</td>\n",
       "    </tr>\n",
       "    <tr>\n",
       "      <th>Chairs</th>\n",
       "      <td>328449.1030</td>\n",
       "      <td>NaN</td>\n",
       "      <td>NaN</td>\n",
       "    </tr>\n",
       "    <tr>\n",
       "      <th>Copiers</th>\n",
       "      <td>NaN</td>\n",
       "      <td>NaN</td>\n",
       "      <td>149528.030</td>\n",
       "    </tr>\n",
       "    <tr>\n",
       "      <th>Envelopes</th>\n",
       "      <td>NaN</td>\n",
       "      <td>16476.402</td>\n",
       "      <td>NaN</td>\n",
       "    </tr>\n",
       "    <tr>\n",
       "      <th>Fasteners</th>\n",
       "      <td>NaN</td>\n",
       "      <td>3024.280</td>\n",
       "      <td>NaN</td>\n",
       "    </tr>\n",
       "    <tr>\n",
       "      <th>Furnishings</th>\n",
       "      <td>91705.1640</td>\n",
       "      <td>NaN</td>\n",
       "      <td>NaN</td>\n",
       "    </tr>\n",
       "    <tr>\n",
       "      <th>Labels</th>\n",
       "      <td>NaN</td>\n",
       "      <td>12486.312</td>\n",
       "      <td>NaN</td>\n",
       "    </tr>\n",
       "    <tr>\n",
       "      <th>Machines</th>\n",
       "      <td>NaN</td>\n",
       "      <td>NaN</td>\n",
       "      <td>189238.631</td>\n",
       "    </tr>\n",
       "    <tr>\n",
       "      <th>Paper</th>\n",
       "      <td>NaN</td>\n",
       "      <td>78479.206</td>\n",
       "      <td>NaN</td>\n",
       "    </tr>\n",
       "    <tr>\n",
       "      <th>Phones</th>\n",
       "      <td>NaN</td>\n",
       "      <td>NaN</td>\n",
       "      <td>330007.054</td>\n",
       "    </tr>\n",
       "    <tr>\n",
       "      <th>Storage</th>\n",
       "      <td>NaN</td>\n",
       "      <td>223843.608</td>\n",
       "      <td>NaN</td>\n",
       "    </tr>\n",
       "    <tr>\n",
       "      <th>Supplies</th>\n",
       "      <td>NaN</td>\n",
       "      <td>46673.538</td>\n",
       "      <td>NaN</td>\n",
       "    </tr>\n",
       "    <tr>\n",
       "      <th>Tables</th>\n",
       "      <td>206965.5320</td>\n",
       "      <td>NaN</td>\n",
       "      <td>NaN</td>\n",
       "    </tr>\n",
       "  </tbody>\n",
       "</table>\n",
       "</div>"
      ],
      "text/plain": [
       "Category        Furniture  Office Supplies  Technology\n",
       "Sub-Category                                          \n",
       "Accessories           NaN              NaN  167380.318\n",
       "Appliances            NaN       107532.161         NaN\n",
       "Art                   NaN        27118.792         NaN\n",
       "Binders               NaN       203412.733         NaN\n",
       "Bookcases     114879.9963              NaN         NaN\n",
       "Chairs        328449.1030              NaN         NaN\n",
       "Copiers               NaN              NaN  149528.030\n",
       "Envelopes             NaN        16476.402         NaN\n",
       "Fasteners             NaN         3024.280         NaN\n",
       "Furnishings    91705.1640              NaN         NaN\n",
       "Labels                NaN        12486.312         NaN\n",
       "Machines              NaN              NaN  189238.631\n",
       "Paper                 NaN        78479.206         NaN\n",
       "Phones                NaN              NaN  330007.054\n",
       "Storage               NaN       223843.608         NaN\n",
       "Supplies              NaN        46673.538         NaN\n",
       "Tables        206965.5320              NaN         NaN"
      ]
     },
     "execution_count": 76,
     "metadata": {},
     "output_type": "execute_result"
    }
   ],
   "source": [
    "df_grouped['Sales']"
   ]
  },
  {
   "cell_type": "code",
   "execution_count": 68,
   "metadata": {},
   "outputs": [],
   "source": [
    "df_grouped['Sales'] = df_grouped.sum(axis=1)"
   ]
  },
  {
   "cell_type": "code",
   "execution_count": 69,
   "metadata": {},
   "outputs": [
    {
     "data": {
      "text/html": [
       "<div>\n",
       "<style scoped>\n",
       "    .dataframe tbody tr th:only-of-type {\n",
       "        vertical-align: middle;\n",
       "    }\n",
       "\n",
       "    .dataframe tbody tr th {\n",
       "        vertical-align: top;\n",
       "    }\n",
       "\n",
       "    .dataframe thead th {\n",
       "        text-align: right;\n",
       "    }\n",
       "</style>\n",
       "<table border=\"1\" class=\"dataframe\">\n",
       "  <thead>\n",
       "    <tr style=\"text-align: right;\">\n",
       "      <th>Category</th>\n",
       "      <th>Furniture</th>\n",
       "      <th>Office Supplies</th>\n",
       "      <th>Technology</th>\n",
       "    </tr>\n",
       "    <tr>\n",
       "      <th>Sub-Category</th>\n",
       "      <th></th>\n",
       "      <th></th>\n",
       "      <th></th>\n",
       "    </tr>\n",
       "  </thead>\n",
       "  <tbody>\n",
       "    <tr>\n",
       "      <th>Accessories</th>\n",
       "      <td>167380.3180</td>\n",
       "      <td>167380.3180</td>\n",
       "      <td>167380.3180</td>\n",
       "    </tr>\n",
       "    <tr>\n",
       "      <th>Appliances</th>\n",
       "      <td>107532.1610</td>\n",
       "      <td>107532.1610</td>\n",
       "      <td>107532.1610</td>\n",
       "    </tr>\n",
       "    <tr>\n",
       "      <th>Art</th>\n",
       "      <td>27118.7920</td>\n",
       "      <td>27118.7920</td>\n",
       "      <td>27118.7920</td>\n",
       "    </tr>\n",
       "    <tr>\n",
       "      <th>Binders</th>\n",
       "      <td>203412.7330</td>\n",
       "      <td>203412.7330</td>\n",
       "      <td>203412.7330</td>\n",
       "    </tr>\n",
       "    <tr>\n",
       "      <th>Bookcases</th>\n",
       "      <td>114879.9963</td>\n",
       "      <td>114879.9963</td>\n",
       "      <td>114879.9963</td>\n",
       "    </tr>\n",
       "    <tr>\n",
       "      <th>Chairs</th>\n",
       "      <td>328449.1030</td>\n",
       "      <td>328449.1030</td>\n",
       "      <td>328449.1030</td>\n",
       "    </tr>\n",
       "    <tr>\n",
       "      <th>Copiers</th>\n",
       "      <td>149528.0300</td>\n",
       "      <td>149528.0300</td>\n",
       "      <td>149528.0300</td>\n",
       "    </tr>\n",
       "    <tr>\n",
       "      <th>Envelopes</th>\n",
       "      <td>16476.4020</td>\n",
       "      <td>16476.4020</td>\n",
       "      <td>16476.4020</td>\n",
       "    </tr>\n",
       "    <tr>\n",
       "      <th>Fasteners</th>\n",
       "      <td>3024.2800</td>\n",
       "      <td>3024.2800</td>\n",
       "      <td>3024.2800</td>\n",
       "    </tr>\n",
       "    <tr>\n",
       "      <th>Furnishings</th>\n",
       "      <td>91705.1640</td>\n",
       "      <td>91705.1640</td>\n",
       "      <td>91705.1640</td>\n",
       "    </tr>\n",
       "    <tr>\n",
       "      <th>Labels</th>\n",
       "      <td>12486.3120</td>\n",
       "      <td>12486.3120</td>\n",
       "      <td>12486.3120</td>\n",
       "    </tr>\n",
       "    <tr>\n",
       "      <th>Machines</th>\n",
       "      <td>189238.6310</td>\n",
       "      <td>189238.6310</td>\n",
       "      <td>189238.6310</td>\n",
       "    </tr>\n",
       "    <tr>\n",
       "      <th>Paper</th>\n",
       "      <td>78479.2060</td>\n",
       "      <td>78479.2060</td>\n",
       "      <td>78479.2060</td>\n",
       "    </tr>\n",
       "    <tr>\n",
       "      <th>Phones</th>\n",
       "      <td>330007.0540</td>\n",
       "      <td>330007.0540</td>\n",
       "      <td>330007.0540</td>\n",
       "    </tr>\n",
       "    <tr>\n",
       "      <th>Storage</th>\n",
       "      <td>223843.6080</td>\n",
       "      <td>223843.6080</td>\n",
       "      <td>223843.6080</td>\n",
       "    </tr>\n",
       "    <tr>\n",
       "      <th>Supplies</th>\n",
       "      <td>46673.5380</td>\n",
       "      <td>46673.5380</td>\n",
       "      <td>46673.5380</td>\n",
       "    </tr>\n",
       "    <tr>\n",
       "      <th>Tables</th>\n",
       "      <td>206965.5320</td>\n",
       "      <td>206965.5320</td>\n",
       "      <td>206965.5320</td>\n",
       "    </tr>\n",
       "  </tbody>\n",
       "</table>\n",
       "</div>"
      ],
      "text/plain": [
       "Category        Furniture  Office Supplies   Technology\n",
       "Sub-Category                                           \n",
       "Accessories   167380.3180      167380.3180  167380.3180\n",
       "Appliances    107532.1610      107532.1610  107532.1610\n",
       "Art            27118.7920       27118.7920   27118.7920\n",
       "Binders       203412.7330      203412.7330  203412.7330\n",
       "Bookcases     114879.9963      114879.9963  114879.9963\n",
       "Chairs        328449.1030      328449.1030  328449.1030\n",
       "Copiers       149528.0300      149528.0300  149528.0300\n",
       "Envelopes      16476.4020       16476.4020   16476.4020\n",
       "Fasteners       3024.2800        3024.2800    3024.2800\n",
       "Furnishings    91705.1640       91705.1640   91705.1640\n",
       "Labels         12486.3120       12486.3120   12486.3120\n",
       "Machines      189238.6310      189238.6310  189238.6310\n",
       "Paper          78479.2060       78479.2060   78479.2060\n",
       "Phones        330007.0540      330007.0540  330007.0540\n",
       "Storage       223843.6080      223843.6080  223843.6080\n",
       "Supplies       46673.5380       46673.5380   46673.5380\n",
       "Tables        206965.5320      206965.5320  206965.5320"
      ]
     },
     "execution_count": 69,
     "metadata": {},
     "output_type": "execute_result"
    }
   ],
   "source": [
    "df_grouped['Sales']"
   ]
  },
  {
   "cell_type": "code",
   "execution_count": 77,
   "metadata": {},
   "outputs": [
    {
     "data": {
      "text/plain": [
       "<AxesSubplot:xlabel='Sub-Category'>"
      ]
     },
     "execution_count": 77,
     "metadata": {},
     "output_type": "execute_result"
    },
    {
     "data": {
      "image/png": "[encoded data removed]",
      "text/plain": [
       "<Figure size 1080x504 with 1 Axes>"
      ]
     },
     "metadata": {
      "needs_background": "light"
     },
     "output_type": "display_data"
    }
   ],
   "source": [
    "df_grouped.plot(kind='bar',stacked= True,figsize = (15,7))"
   ]
  },
  {
   "cell_type": "code",
   "execution_count": 61,
   "metadata": {},
   "outputs": [
    {
     "data": {
      "text/html": [
       "<div>\n",
       "<style scoped>\n",
       "    .dataframe tbody tr th:only-of-type {\n",
       "        vertical-align: middle;\n",
       "    }\n",
       "\n",
       "    .dataframe tbody tr th {\n",
       "        vertical-align: top;\n",
       "    }\n",
       "\n",
       "    .dataframe thead tr th {\n",
       "        text-align: left;\n",
       "    }\n",
       "\n",
       "    .dataframe thead tr:last-of-type th {\n",
       "        text-align: right;\n",
       "    }\n",
       "</style>\n",
       "<table border=\"1\" class=\"dataframe\">\n",
       "  <thead>\n",
       "    <tr>\n",
       "      <th></th>\n",
       "      <th colspan=\"4\" halign=\"left\">Sales</th>\n",
       "    </tr>\n",
       "    <tr>\n",
       "      <th>Region</th>\n",
       "      <th>Central</th>\n",
       "      <th>East</th>\n",
       "      <th>South</th>\n",
       "      <th>West</th>\n",
       "    </tr>\n",
       "    <tr>\n",
       "      <th>Sub-Category</th>\n",
       "      <th></th>\n",
       "      <th></th>\n",
       "      <th></th>\n",
       "      <th></th>\n",
       "    </tr>\n",
       "  </thead>\n",
       "  <tbody>\n",
       "    <tr>\n",
       "      <th>Chairs</th>\n",
       "      <td>85230.6460</td>\n",
       "      <td>96260.683</td>\n",
       "      <td>45176.446</td>\n",
       "      <td>101781.3280</td>\n",
       "    </tr>\n",
       "    <tr>\n",
       "      <th>Phones</th>\n",
       "      <td>72403.2820</td>\n",
       "      <td>100614.982</td>\n",
       "      <td>58304.438</td>\n",
       "      <td>98684.3520</td>\n",
       "    </tr>\n",
       "    <tr>\n",
       "      <th>Binders</th>\n",
       "      <td>56923.2820</td>\n",
       "      <td>53497.997</td>\n",
       "      <td>37030.341</td>\n",
       "      <td>55961.1130</td>\n",
       "    </tr>\n",
       "    <tr>\n",
       "      <th>Storage</th>\n",
       "      <td>45930.1120</td>\n",
       "      <td>71612.584</td>\n",
       "      <td>35768.060</td>\n",
       "      <td>70532.8520</td>\n",
       "    </tr>\n",
       "    <tr>\n",
       "      <th>Tables</th>\n",
       "      <td>39154.9710</td>\n",
       "      <td>39139.807</td>\n",
       "      <td>43916.192</td>\n",
       "      <td>84754.5620</td>\n",
       "    </tr>\n",
       "    <tr>\n",
       "      <th>Copiers</th>\n",
       "      <td>37259.5700</td>\n",
       "      <td>53219.462</td>\n",
       "      <td>9299.756</td>\n",
       "      <td>49749.2420</td>\n",
       "    </tr>\n",
       "    <tr>\n",
       "      <th>Accessories</th>\n",
       "      <td>33956.0760</td>\n",
       "      <td>45033.372</td>\n",
       "      <td>27276.754</td>\n",
       "      <td>61114.1160</td>\n",
       "    </tr>\n",
       "    <tr>\n",
       "      <th>Machines</th>\n",
       "      <td>26797.3840</td>\n",
       "      <td>66106.165</td>\n",
       "      <td>53890.960</td>\n",
       "      <td>42444.1220</td>\n",
       "    </tr>\n",
       "    <tr>\n",
       "      <th>Bookcases</th>\n",
       "      <td>24157.1768</td>\n",
       "      <td>43819.334</td>\n",
       "      <td>10899.362</td>\n",
       "      <td>36004.1235</td>\n",
       "    </tr>\n",
       "    <tr>\n",
       "      <th>Appliances</th>\n",
       "      <td>23582.0330</td>\n",
       "      <td>34188.466</td>\n",
       "      <td>19525.326</td>\n",
       "      <td>30236.3360</td>\n",
       "    </tr>\n",
       "    <tr>\n",
       "      <th>Paper</th>\n",
       "      <td>17491.9020</td>\n",
       "      <td>20172.602</td>\n",
       "      <td>14150.984</td>\n",
       "      <td>26663.7180</td>\n",
       "    </tr>\n",
       "    <tr>\n",
       "      <th>Furnishings</th>\n",
       "      <td>15254.3700</td>\n",
       "      <td>29071.380</td>\n",
       "      <td>17306.684</td>\n",
       "      <td>30072.7300</td>\n",
       "    </tr>\n",
       "    <tr>\n",
       "      <th>Supplies</th>\n",
       "      <td>9467.3720</td>\n",
       "      <td>10760.116</td>\n",
       "      <td>8318.928</td>\n",
       "      <td>18127.1220</td>\n",
       "    </tr>\n",
       "    <tr>\n",
       "      <th>Art</th>\n",
       "      <td>5765.3400</td>\n",
       "      <td>7485.764</td>\n",
       "      <td>4655.622</td>\n",
       "      <td>9212.0660</td>\n",
       "    </tr>\n",
       "    <tr>\n",
       "      <th>Envelopes</th>\n",
       "      <td>4636.8720</td>\n",
       "      <td>4375.874</td>\n",
       "      <td>3345.556</td>\n",
       "      <td>4118.1000</td>\n",
       "    </tr>\n",
       "    <tr>\n",
       "      <th>Labels</th>\n",
       "      <td>2451.4720</td>\n",
       "      <td>2602.934</td>\n",
       "      <td>2353.180</td>\n",
       "      <td>5078.7260</td>\n",
       "    </tr>\n",
       "    <tr>\n",
       "      <th>Fasteners</th>\n",
       "      <td>778.0300</td>\n",
       "      <td>819.718</td>\n",
       "      <td>503.316</td>\n",
       "      <td>923.2160</td>\n",
       "    </tr>\n",
       "  </tbody>\n",
       "</table>\n",
       "</div>"
      ],
      "text/plain": [
       "                   Sales                                    \n",
       "Region           Central        East      South         West\n",
       "Sub-Category                                                \n",
       "Chairs        85230.6460   96260.683  45176.446  101781.3280\n",
       "Phones        72403.2820  100614.982  58304.438   98684.3520\n",
       "Binders       56923.2820   53497.997  37030.341   55961.1130\n",
       "Storage       45930.1120   71612.584  35768.060   70532.8520\n",
       "Tables        39154.9710   39139.807  43916.192   84754.5620\n",
       "Copiers       37259.5700   53219.462   9299.756   49749.2420\n",
       "Accessories   33956.0760   45033.372  27276.754   61114.1160\n",
       "Machines      26797.3840   66106.165  53890.960   42444.1220\n",
       "Bookcases     24157.1768   43819.334  10899.362   36004.1235\n",
       "Appliances    23582.0330   34188.466  19525.326   30236.3360\n",
       "Paper         17491.9020   20172.602  14150.984   26663.7180\n",
       "Furnishings   15254.3700   29071.380  17306.684   30072.7300\n",
       "Supplies       9467.3720   10760.116   8318.928   18127.1220\n",
       "Art            5765.3400    7485.764   4655.622    9212.0660\n",
       "Envelopes      4636.8720    4375.874   3345.556    4118.1000\n",
       "Labels         2451.4720    2602.934   2353.180    5078.7260\n",
       "Fasteners       778.0300     819.718    503.316     923.2160"
      ]
     },
     "execution_count": 61,
     "metadata": {},
     "output_type": "execute_result"
    }
   ],
   "source": [
    "df_grouped.sort_values([('Sales', 'Central'),\n",
    " ('Sales', 'East'),\n",
    " ('Sales', 'South'),\n",
    " ('Sales', 'West')],ascending=False)"
   ]
  },
  {
   "cell_type": "code",
   "execution_count": 48,
   "metadata": {},
   "outputs": [
    {
     "name": "stdout",
     "output_type": "stream",
     "text": [
      "                           Sales\n",
      "Region  Sub-Category            \n",
      "Central Accessories   33956.0760\n",
      "        Appliances    23582.0330\n",
      "        Art            5765.3400\n",
      "        Binders       56923.2820\n",
      "        Bookcases     24157.1768\n",
      "...                          ...\n",
      "West    Paper         26663.7180\n",
      "        Phones        98684.3520\n",
      "        Storage       70532.8520\n",
      "        Supplies      18127.1220\n",
      "        Tables        84754.5620\n",
      "\n",
      "[68 rows x 1 columns]\n"
     ]
    }
   ],
   "source": [
    "print(df_grouped)"
   ]
  },
  {
   "cell_type": "code",
   "execution_count": 71,
   "metadata": {},
   "outputs": [
    {
     "data": {
      "text/plain": [
       "[('Sales', 'Furniture'), ('Sales', 'Office Supplies'), ('Sales', 'Technology')]"
      ]
     },
     "execution_count": 71,
     "metadata": {},
     "output_type": "execute_result"
    }
   ],
   "source": [
    "sorted(df_grouped)"
   ]
  },
  {
   "cell_type": "code",
   "execution_count": 78,
   "metadata": {},
   "outputs": [],
   "source": [
    "sorted_df = df_grouped.sort_values(sorted(df_grouped),ascending=False)"
   ]
  },
  {
   "cell_type": "code",
   "execution_count": 64,
   "metadata": {},
   "outputs": [
    {
     "data": {
      "text/html": [
       "<div>\n",
       "<style scoped>\n",
       "    .dataframe tbody tr th:only-of-type {\n",
       "        vertical-align: middle;\n",
       "    }\n",
       "\n",
       "    .dataframe tbody tr th {\n",
       "        vertical-align: top;\n",
       "    }\n",
       "\n",
       "    .dataframe thead tr th {\n",
       "        text-align: left;\n",
       "    }\n",
       "\n",
       "    .dataframe thead tr:last-of-type th {\n",
       "        text-align: right;\n",
       "    }\n",
       "</style>\n",
       "<table border=\"1\" class=\"dataframe\">\n",
       "  <thead>\n",
       "    <tr>\n",
       "      <th></th>\n",
       "      <th colspan=\"4\" halign=\"left\">Sales</th>\n",
       "    </tr>\n",
       "    <tr>\n",
       "      <th>Region</th>\n",
       "      <th>Central</th>\n",
       "      <th>East</th>\n",
       "      <th>South</th>\n",
       "      <th>West</th>\n",
       "    </tr>\n",
       "    <tr>\n",
       "      <th>Sub-Category</th>\n",
       "      <th></th>\n",
       "      <th></th>\n",
       "      <th></th>\n",
       "      <th></th>\n",
       "    </tr>\n",
       "  </thead>\n",
       "  <tbody>\n",
       "    <tr>\n",
       "      <th>Chairs</th>\n",
       "      <td>85230.6460</td>\n",
       "      <td>96260.683</td>\n",
       "      <td>45176.446</td>\n",
       "      <td>101781.3280</td>\n",
       "    </tr>\n",
       "    <tr>\n",
       "      <th>Phones</th>\n",
       "      <td>72403.2820</td>\n",
       "      <td>100614.982</td>\n",
       "      <td>58304.438</td>\n",
       "      <td>98684.3520</td>\n",
       "    </tr>\n",
       "    <tr>\n",
       "      <th>Binders</th>\n",
       "      <td>56923.2820</td>\n",
       "      <td>53497.997</td>\n",
       "      <td>37030.341</td>\n",
       "      <td>55961.1130</td>\n",
       "    </tr>\n",
       "    <tr>\n",
       "      <th>Storage</th>\n",
       "      <td>45930.1120</td>\n",
       "      <td>71612.584</td>\n",
       "      <td>35768.060</td>\n",
       "      <td>70532.8520</td>\n",
       "    </tr>\n",
       "    <tr>\n",
       "      <th>Tables</th>\n",
       "      <td>39154.9710</td>\n",
       "      <td>39139.807</td>\n",
       "      <td>43916.192</td>\n",
       "      <td>84754.5620</td>\n",
       "    </tr>\n",
       "    <tr>\n",
       "      <th>Copiers</th>\n",
       "      <td>37259.5700</td>\n",
       "      <td>53219.462</td>\n",
       "      <td>9299.756</td>\n",
       "      <td>49749.2420</td>\n",
       "    </tr>\n",
       "    <tr>\n",
       "      <th>Accessories</th>\n",
       "      <td>33956.0760</td>\n",
       "      <td>45033.372</td>\n",
       "      <td>27276.754</td>\n",
       "      <td>61114.1160</td>\n",
       "    </tr>\n",
       "    <tr>\n",
       "      <th>Machines</th>\n",
       "      <td>26797.3840</td>\n",
       "      <td>66106.165</td>\n",
       "      <td>53890.960</td>\n",
       "      <td>42444.1220</td>\n",
       "    </tr>\n",
       "    <tr>\n",
       "      <th>Bookcases</th>\n",
       "      <td>24157.1768</td>\n",
       "      <td>43819.334</td>\n",
       "      <td>10899.362</td>\n",
       "      <td>36004.1235</td>\n",
       "    </tr>\n",
       "    <tr>\n",
       "      <th>Appliances</th>\n",
       "      <td>23582.0330</td>\n",
       "      <td>34188.466</td>\n",
       "      <td>19525.326</td>\n",
       "      <td>30236.3360</td>\n",
       "    </tr>\n",
       "    <tr>\n",
       "      <th>Paper</th>\n",
       "      <td>17491.9020</td>\n",
       "      <td>20172.602</td>\n",
       "      <td>14150.984</td>\n",
       "      <td>26663.7180</td>\n",
       "    </tr>\n",
       "    <tr>\n",
       "      <th>Furnishings</th>\n",
       "      <td>15254.3700</td>\n",
       "      <td>29071.380</td>\n",
       "      <td>17306.684</td>\n",
       "      <td>30072.7300</td>\n",
       "    </tr>\n",
       "    <tr>\n",
       "      <th>Supplies</th>\n",
       "      <td>9467.3720</td>\n",
       "      <td>10760.116</td>\n",
       "      <td>8318.928</td>\n",
       "      <td>18127.1220</td>\n",
       "    </tr>\n",
       "    <tr>\n",
       "      <th>Art</th>\n",
       "      <td>5765.3400</td>\n",
       "      <td>7485.764</td>\n",
       "      <td>4655.622</td>\n",
       "      <td>9212.0660</td>\n",
       "    </tr>\n",
       "    <tr>\n",
       "      <th>Envelopes</th>\n",
       "      <td>4636.8720</td>\n",
       "      <td>4375.874</td>\n",
       "      <td>3345.556</td>\n",
       "      <td>4118.1000</td>\n",
       "    </tr>\n",
       "    <tr>\n",
       "      <th>Labels</th>\n",
       "      <td>2451.4720</td>\n",
       "      <td>2602.934</td>\n",
       "      <td>2353.180</td>\n",
       "      <td>5078.7260</td>\n",
       "    </tr>\n",
       "    <tr>\n",
       "      <th>Fasteners</th>\n",
       "      <td>778.0300</td>\n",
       "      <td>819.718</td>\n",
       "      <td>503.316</td>\n",
       "      <td>923.2160</td>\n",
       "    </tr>\n",
       "  </tbody>\n",
       "</table>\n",
       "</div>"
      ],
      "text/plain": [
       "                   Sales                                    \n",
       "Region           Central        East      South         West\n",
       "Sub-Category                                                \n",
       "Chairs        85230.6460   96260.683  45176.446  101781.3280\n",
       "Phones        72403.2820  100614.982  58304.438   98684.3520\n",
       "Binders       56923.2820   53497.997  37030.341   55961.1130\n",
       "Storage       45930.1120   71612.584  35768.060   70532.8520\n",
       "Tables        39154.9710   39139.807  43916.192   84754.5620\n",
       "Copiers       37259.5700   53219.462   9299.756   49749.2420\n",
       "Accessories   33956.0760   45033.372  27276.754   61114.1160\n",
       "Machines      26797.3840   66106.165  53890.960   42444.1220\n",
       "Bookcases     24157.1768   43819.334  10899.362   36004.1235\n",
       "Appliances    23582.0330   34188.466  19525.326   30236.3360\n",
       "Paper         17491.9020   20172.602  14150.984   26663.7180\n",
       "Furnishings   15254.3700   29071.380  17306.684   30072.7300\n",
       "Supplies       9467.3720   10760.116   8318.928   18127.1220\n",
       "Art            5765.3400    7485.764   4655.622    9212.0660\n",
       "Envelopes      4636.8720    4375.874   3345.556    4118.1000\n",
       "Labels         2451.4720    2602.934   2353.180    5078.7260\n",
       "Fasteners       778.0300     819.718    503.316     923.2160"
      ]
     },
     "execution_count": 64,
     "metadata": {},
     "output_type": "execute_result"
    }
   ],
   "source": [
    "sorted_df"
   ]
  },
  {
   "cell_type": "code",
   "execution_count": 79,
   "metadata": {},
   "outputs": [
    {
     "data": {
      "text/plain": [
       "<AxesSubplot:xlabel='Sub-Category'>"
      ]
     },
     "execution_count": 79,
     "metadata": {},
     "output_type": "execute_result"
    },
    {
     "data": {
      "image/png": "[encoded data removed]",
      "text/plain": [
       "<Figure size 1080x504 with 1 Axes>"
      ]
     },
     "metadata": {
      "needs_background": "light"
     },
     "output_type": "display_data"
    }
   ],
   "source": [
    "sorted_df.plot(kind = 'bar',stacked= True,figsize = (15,7) )"
   ]
  },
  {
   "cell_type": "code",
   "execution_count": 3,
   "metadata": {},
   "outputs": [
    {
     "data": {
      "text/plain": [
       "<AxesSubplot:xlabel='Sub-Category'>"
      ]
     },
     "execution_count": 3,
     "metadata": {},
     "output_type": "execute_result"
    },
    {
     "data": {
      "image/png": "[encoded data removed]",
      "text/plain": [
       "<Figure size 1080x504 with 1 Axes>"
      ]
     },
     "metadata": {
      "needs_background": "light"
     },
     "output_type": "display_data"
    }
   ],
   "source": [
    "df.groupby(['Region','Sub-Category']).aggregate({'Sales':sum}).unstack(-2).plot(kind = 'bar',stacked= True,figsize = (15,7) )"
   ]
  },
  {
   "cell_type": "code",
   "execution_count": null,
   "metadata": {},
   "outputs": [],
   "source": []
  }
 ],
 "metadata": {
  "kernelspec": {
   "display_name": "Python 3.10.1 64-bit",
   "language": "python",
   "name": "python3"
  },
  "language_info": {
   "codemirror_mode": {
    "name": "ipython",
    "version": 3
   },
   "file_extension": ".py",
   "mimetype": "text/x-python",
   "name": "python",
   "nbconvert_exporter": "python",
   "pygments_lexer": "ipython3",
   "version": "3.10.1"
  },
  "orig_nbformat": 4,
  "vscode": {
   "interpreter": {
    "hash": "d04a30ed7efa9946bbf54e8522ecde81045e751650f4229218e182d8e856a0ad"
   }
  }
 },
 "nbformat": 4,
 "nbformat_minor": 2
}
